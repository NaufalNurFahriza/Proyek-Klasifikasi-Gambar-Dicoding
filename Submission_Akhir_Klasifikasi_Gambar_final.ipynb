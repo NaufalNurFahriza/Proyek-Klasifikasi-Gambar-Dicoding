{
  "nbformat": 4,
  "nbformat_minor": 0,
  "metadata": {
    "colab": {
      "provenance": [],
      "gpuType": "T4"
    },
    "kernelspec": {
      "name": "python3",
      "display_name": "Python 3"
    },
    "language_info": {
      "name": "python"
    },
    "accelerator": "GPU",
    "widgets": {
      "application/vnd.jupyter.widget-state+json": {
        "eab4fb41dfd04b5b9ff337e3cdc5ef99": {
          "model_module": "@jupyter-widgets/controls",
          "model_name": "HBoxModel",
          "model_module_version": "1.5.0",
          "state": {
            "_dom_classes": [],
            "_model_module": "@jupyter-widgets/controls",
            "_model_module_version": "1.5.0",
            "_model_name": "HBoxModel",
            "_view_count": null,
            "_view_module": "@jupyter-widgets/controls",
            "_view_module_version": "1.5.0",
            "_view_name": "HBoxView",
            "box_style": "",
            "children": [
              "IPY_MODEL_bfc5a91049b349dd85fd0d39d2687ae0",
              "IPY_MODEL_f0fd7f4aa89b44cbae20dcd320480429",
              "IPY_MODEL_284ca124a8b7431bb5889de8a48b3921"
            ],
            "layout": "IPY_MODEL_ae4f684679574784842741ce67108b2a"
          }
        },
        "bfc5a91049b349dd85fd0d39d2687ae0": {
          "model_module": "@jupyter-widgets/controls",
          "model_name": "HTMLModel",
          "model_module_version": "1.5.0",
          "state": {
            "_dom_classes": [],
            "_model_module": "@jupyter-widgets/controls",
            "_model_module_version": "1.5.0",
            "_model_name": "HTMLModel",
            "_view_count": null,
            "_view_module": "@jupyter-widgets/controls",
            "_view_module_version": "1.5.0",
            "_view_name": "HTMLView",
            "description": "",
            "description_tooltip": null,
            "layout": "IPY_MODEL_cc4dac852992489dbdb82e43812fbb45",
            "placeholder": "​",
            "style": "IPY_MODEL_0cac1a82a3c34003abe2120fdfb0b12f",
            "value": "100%"
          }
        },
        "f0fd7f4aa89b44cbae20dcd320480429": {
          "model_module": "@jupyter-widgets/controls",
          "model_name": "FloatProgressModel",
          "model_module_version": "1.5.0",
          "state": {
            "_dom_classes": [],
            "_model_module": "@jupyter-widgets/controls",
            "_model_module_version": "1.5.0",
            "_model_name": "FloatProgressModel",
            "_view_count": null,
            "_view_module": "@jupyter-widgets/controls",
            "_view_module_version": "1.5.0",
            "_view_name": "ProgressView",
            "bar_style": "success",
            "description": "",
            "description_tooltip": null,
            "layout": "IPY_MODEL_315ff9d4e5d9473f8aa3885ff4119fbd",
            "max": 75000,
            "min": 0,
            "orientation": "horizontal",
            "style": "IPY_MODEL_17b02741f1b74b43ad8219fce88857ba",
            "value": 75000
          }
        },
        "284ca124a8b7431bb5889de8a48b3921": {
          "model_module": "@jupyter-widgets/controls",
          "model_name": "HTMLModel",
          "model_module_version": "1.5.0",
          "state": {
            "_dom_classes": [],
            "_model_module": "@jupyter-widgets/controls",
            "_model_module_version": "1.5.0",
            "_model_name": "HTMLModel",
            "_view_count": null,
            "_view_module": "@jupyter-widgets/controls",
            "_view_module_version": "1.5.0",
            "_view_name": "HTMLView",
            "description": "",
            "description_tooltip": null,
            "layout": "IPY_MODEL_157626e903314507a8b242eefb84561c",
            "placeholder": "​",
            "style": "IPY_MODEL_1c628b10ad8443469e0e73e8c4465931",
            "value": " 75000/75000 [00:20&lt;00:00, 4394.13it/s]"
          }
        },
        "ae4f684679574784842741ce67108b2a": {
          "model_module": "@jupyter-widgets/base",
          "model_name": "LayoutModel",
          "model_module_version": "1.2.0",
          "state": {
            "_model_module": "@jupyter-widgets/base",
            "_model_module_version": "1.2.0",
            "_model_name": "LayoutModel",
            "_view_count": null,
            "_view_module": "@jupyter-widgets/base",
            "_view_module_version": "1.2.0",
            "_view_name": "LayoutView",
            "align_content": null,
            "align_items": null,
            "align_self": null,
            "border": null,
            "bottom": null,
            "display": null,
            "flex": null,
            "flex_flow": null,
            "grid_area": null,
            "grid_auto_columns": null,
            "grid_auto_flow": null,
            "grid_auto_rows": null,
            "grid_column": null,
            "grid_gap": null,
            "grid_row": null,
            "grid_template_areas": null,
            "grid_template_columns": null,
            "grid_template_rows": null,
            "height": null,
            "justify_content": null,
            "justify_items": null,
            "left": null,
            "margin": null,
            "max_height": null,
            "max_width": null,
            "min_height": null,
            "min_width": null,
            "object_fit": null,
            "object_position": null,
            "order": null,
            "overflow": null,
            "overflow_x": null,
            "overflow_y": null,
            "padding": null,
            "right": null,
            "top": null,
            "visibility": null,
            "width": null
          }
        },
        "cc4dac852992489dbdb82e43812fbb45": {
          "model_module": "@jupyter-widgets/base",
          "model_name": "LayoutModel",
          "model_module_version": "1.2.0",
          "state": {
            "_model_module": "@jupyter-widgets/base",
            "_model_module_version": "1.2.0",
            "_model_name": "LayoutModel",
            "_view_count": null,
            "_view_module": "@jupyter-widgets/base",
            "_view_module_version": "1.2.0",
            "_view_name": "LayoutView",
            "align_content": null,
            "align_items": null,
            "align_self": null,
            "border": null,
            "bottom": null,
            "display": null,
            "flex": null,
            "flex_flow": null,
            "grid_area": null,
            "grid_auto_columns": null,
            "grid_auto_flow": null,
            "grid_auto_rows": null,
            "grid_column": null,
            "grid_gap": null,
            "grid_row": null,
            "grid_template_areas": null,
            "grid_template_columns": null,
            "grid_template_rows": null,
            "height": null,
            "justify_content": null,
            "justify_items": null,
            "left": null,
            "margin": null,
            "max_height": null,
            "max_width": null,
            "min_height": null,
            "min_width": null,
            "object_fit": null,
            "object_position": null,
            "order": null,
            "overflow": null,
            "overflow_x": null,
            "overflow_y": null,
            "padding": null,
            "right": null,
            "top": null,
            "visibility": null,
            "width": null
          }
        },
        "0cac1a82a3c34003abe2120fdfb0b12f": {
          "model_module": "@jupyter-widgets/controls",
          "model_name": "DescriptionStyleModel",
          "model_module_version": "1.5.0",
          "state": {
            "_model_module": "@jupyter-widgets/controls",
            "_model_module_version": "1.5.0",
            "_model_name": "DescriptionStyleModel",
            "_view_count": null,
            "_view_module": "@jupyter-widgets/base",
            "_view_module_version": "1.2.0",
            "_view_name": "StyleView",
            "description_width": ""
          }
        },
        "315ff9d4e5d9473f8aa3885ff4119fbd": {
          "model_module": "@jupyter-widgets/base",
          "model_name": "LayoutModel",
          "model_module_version": "1.2.0",
          "state": {
            "_model_module": "@jupyter-widgets/base",
            "_model_module_version": "1.2.0",
            "_model_name": "LayoutModel",
            "_view_count": null,
            "_view_module": "@jupyter-widgets/base",
            "_view_module_version": "1.2.0",
            "_view_name": "LayoutView",
            "align_content": null,
            "align_items": null,
            "align_self": null,
            "border": null,
            "bottom": null,
            "display": null,
            "flex": null,
            "flex_flow": null,
            "grid_area": null,
            "grid_auto_columns": null,
            "grid_auto_flow": null,
            "grid_auto_rows": null,
            "grid_column": null,
            "grid_gap": null,
            "grid_row": null,
            "grid_template_areas": null,
            "grid_template_columns": null,
            "grid_template_rows": null,
            "height": null,
            "justify_content": null,
            "justify_items": null,
            "left": null,
            "margin": null,
            "max_height": null,
            "max_width": null,
            "min_height": null,
            "min_width": null,
            "object_fit": null,
            "object_position": null,
            "order": null,
            "overflow": null,
            "overflow_x": null,
            "overflow_y": null,
            "padding": null,
            "right": null,
            "top": null,
            "visibility": null,
            "width": null
          }
        },
        "17b02741f1b74b43ad8219fce88857ba": {
          "model_module": "@jupyter-widgets/controls",
          "model_name": "ProgressStyleModel",
          "model_module_version": "1.5.0",
          "state": {
            "_model_module": "@jupyter-widgets/controls",
            "_model_module_version": "1.5.0",
            "_model_name": "ProgressStyleModel",
            "_view_count": null,
            "_view_module": "@jupyter-widgets/base",
            "_view_module_version": "1.2.0",
            "_view_name": "StyleView",
            "bar_color": null,
            "description_width": ""
          }
        },
        "157626e903314507a8b242eefb84561c": {
          "model_module": "@jupyter-widgets/base",
          "model_name": "LayoutModel",
          "model_module_version": "1.2.0",
          "state": {
            "_model_module": "@jupyter-widgets/base",
            "_model_module_version": "1.2.0",
            "_model_name": "LayoutModel",
            "_view_count": null,
            "_view_module": "@jupyter-widgets/base",
            "_view_module_version": "1.2.0",
            "_view_name": "LayoutView",
            "align_content": null,
            "align_items": null,
            "align_self": null,
            "border": null,
            "bottom": null,
            "display": null,
            "flex": null,
            "flex_flow": null,
            "grid_area": null,
            "grid_auto_columns": null,
            "grid_auto_flow": null,
            "grid_auto_rows": null,
            "grid_column": null,
            "grid_gap": null,
            "grid_row": null,
            "grid_template_areas": null,
            "grid_template_columns": null,
            "grid_template_rows": null,
            "height": null,
            "justify_content": null,
            "justify_items": null,
            "left": null,
            "margin": null,
            "max_height": null,
            "max_width": null,
            "min_height": null,
            "min_width": null,
            "object_fit": null,
            "object_position": null,
            "order": null,
            "overflow": null,
            "overflow_x": null,
            "overflow_y": null,
            "padding": null,
            "right": null,
            "top": null,
            "visibility": null,
            "width": null
          }
        },
        "1c628b10ad8443469e0e73e8c4465931": {
          "model_module": "@jupyter-widgets/controls",
          "model_name": "DescriptionStyleModel",
          "model_module_version": "1.5.0",
          "state": {
            "_model_module": "@jupyter-widgets/controls",
            "_model_module_version": "1.5.0",
            "_model_name": "DescriptionStyleModel",
            "_view_count": null,
            "_view_module": "@jupyter-widgets/base",
            "_view_module_version": "1.2.0",
            "_view_name": "StyleView",
            "description_width": ""
          }
        }
      }
    }
  },
  "cells": [
    {
      "cell_type": "markdown",
      "metadata": {
        "id": "H9wADwK78DCz"
      },
      "source": [
        "# Proyek Klasifikasi Gambar: https://www.kaggle.com/datasets/vencerlanz09/agricultural-pests-image-dataset\n",
        "- **Nama:** Naufal Nur Fahriza\n",
        "- **Email:** naufalnurfahriza@gmail.com\n",
        "- **ID Dicoding:** NurFahriza"
      ]
    },
    {
      "cell_type": "markdown",
      "metadata": {
        "id": "H-z4QGlO8DC1"
      },
      "source": [
        "## Import Semua Packages/Library yang Digunakan"
      ]
    },
    {
      "cell_type": "code",
      "execution_count": 1,
      "metadata": {
        "id": "FVYwaObI8DC1"
      },
      "outputs": [],
      "source": [
        "# Mengimpor libraries umum yang sering digunakan\n",
        "import os, shutil\n",
        "import zipfile\n",
        "import random\n",
        "from random import sample\n",
        "import shutil\n",
        "from shutil import copyfile\n",
        "import pathlib\n",
        "from pathlib import Path\n",
        "import numpy as np\n",
        "import pandas as pd\n",
        "from tqdm.notebook import tqdm as tq\n",
        "\n",
        "# Mengimpor libraries untuk visualisasi\n",
        "%matplotlib inline\n",
        "import matplotlib.image as mpimg\n",
        "import matplotlib.pyplot as plt\n",
        "import seaborn as sns\n",
        "from matplotlib.image import imread\n",
        "\n",
        "# Mengimpor libraries untuk pemrosesan data gambar\n",
        "import cv2\n",
        "from PIL import Image\n",
        "import skimage\n",
        "from skimage import io\n",
        "from skimage.transform import resize\n",
        "from skimage.transform import rotate, AffineTransform, warp\n",
        "from skimage import img_as_ubyte\n",
        "from skimage.exposure import adjust_gamma\n",
        "from skimage.util import random_noise\n",
        "\n",
        "# Mengimpor libraries untuk pembuatan dan evaluasi model\n",
        "import keras\n",
        "from sklearn.model_selection import train_test_split\n",
        "from sklearn.metrics import confusion_matrix, classification_report\n",
        "import tensorflow as tf\n",
        "from tensorflow.keras.applications import MobileNetV2\n",
        "from tensorflow.keras import Model, layers\n",
        "from tensorflow.keras.preprocessing import image\n",
        "from tensorflow.keras.preprocessing.image import ImageDataGenerator, img_to_array, load_img\n",
        "from tensorflow.keras.optimizers import Adam, RMSprop, SGD\n",
        "from tensorflow.keras.layers import InputLayer, Conv2D, SeparableConv2D, MaxPooling2D, MaxPool2D, Dense, Flatten, Dropout, BatchNormalization, GlobalAveragePooling2D\n",
        "from tensorflow.keras.models import Sequential, Model\n",
        "from tensorflow.keras.applications import MobileNet\n",
        "from tensorflow.keras.applications.densenet import DenseNet121\n",
        "from tensorflow.keras.utils import to_categorical\n",
        "from tensorflow.keras.callbacks import ModelCheckpoint, Callback, EarlyStopping, ReduceLROnPlateau\n",
        "from sklearn.utils.class_weight import compute_class_weight\n",
        "from tensorflow.keras.optimizers.schedules import ExponentialDecay\n",
        "\n",
        "# Mengabaikan peringatan\n",
        "import warnings\n",
        "warnings.simplefilter(action='ignore', category=FutureWarning)"
      ]
    },
    {
      "cell_type": "code",
      "source": [
        "# Mencetak versi TensorFlow yang sedang digunakan\n",
        "print(tf.__version__)"
      ],
      "metadata": {
        "colab": {
          "base_uri": "https://localhost:8080/"
        },
        "id": "5E1hiBBdK_ya",
        "outputId": "378611de-6041-4db7-90de-216d76937c0e"
      },
      "execution_count": 2,
      "outputs": [
        {
          "output_type": "stream",
          "name": "stdout",
          "text": [
            "2.18.0\n"
          ]
        }
      ]
    },
    {
      "cell_type": "markdown",
      "source": [
        "## Data Preparation"
      ],
      "metadata": {
        "id": "TK4DvqfbYrN8"
      }
    },
    {
      "cell_type": "markdown",
      "metadata": {
        "id": "HHekw29KX4XQ"
      },
      "source": [
        "### Data Loading"
      ]
    },
    {
      "cell_type": "code",
      "execution_count": 3,
      "metadata": {
        "id": "wIcv1F9fX4XQ",
        "colab": {
          "base_uri": "https://localhost:8080/",
          "height": 89
        },
        "outputId": "a756cea8-6594-4a12-f894-63d0a514ddd6"
      },
      "outputs": [
        {
          "output_type": "display_data",
          "data": {
            "text/plain": [
              "<IPython.core.display.HTML object>"
            ],
            "text/html": [
              "\n",
              "     <input type=\"file\" id=\"files-b5e240fb-923e-4e64-89d9-e629a3d4642a\" name=\"files[]\" multiple disabled\n",
              "        style=\"border:none\" />\n",
              "     <output id=\"result-b5e240fb-923e-4e64-89d9-e629a3d4642a\">\n",
              "      Upload widget is only available when the cell has been executed in the\n",
              "      current browser session. Please rerun this cell to enable.\n",
              "      </output>\n",
              "      <script>// Copyright 2017 Google LLC\n",
              "//\n",
              "// Licensed under the Apache License, Version 2.0 (the \"License\");\n",
              "// you may not use this file except in compliance with the License.\n",
              "// You may obtain a copy of the License at\n",
              "//\n",
              "//      http://www.apache.org/licenses/LICENSE-2.0\n",
              "//\n",
              "// Unless required by applicable law or agreed to in writing, software\n",
              "// distributed under the License is distributed on an \"AS IS\" BASIS,\n",
              "// WITHOUT WARRANTIES OR CONDITIONS OF ANY KIND, either express or implied.\n",
              "// See the License for the specific language governing permissions and\n",
              "// limitations under the License.\n",
              "\n",
              "/**\n",
              " * @fileoverview Helpers for google.colab Python module.\n",
              " */\n",
              "(function(scope) {\n",
              "function span(text, styleAttributes = {}) {\n",
              "  const element = document.createElement('span');\n",
              "  element.textContent = text;\n",
              "  for (const key of Object.keys(styleAttributes)) {\n",
              "    element.style[key] = styleAttributes[key];\n",
              "  }\n",
              "  return element;\n",
              "}\n",
              "\n",
              "// Max number of bytes which will be uploaded at a time.\n",
              "const MAX_PAYLOAD_SIZE = 100 * 1024;\n",
              "\n",
              "function _uploadFiles(inputId, outputId) {\n",
              "  const steps = uploadFilesStep(inputId, outputId);\n",
              "  const outputElement = document.getElementById(outputId);\n",
              "  // Cache steps on the outputElement to make it available for the next call\n",
              "  // to uploadFilesContinue from Python.\n",
              "  outputElement.steps = steps;\n",
              "\n",
              "  return _uploadFilesContinue(outputId);\n",
              "}\n",
              "\n",
              "// This is roughly an async generator (not supported in the browser yet),\n",
              "// where there are multiple asynchronous steps and the Python side is going\n",
              "// to poll for completion of each step.\n",
              "// This uses a Promise to block the python side on completion of each step,\n",
              "// then passes the result of the previous step as the input to the next step.\n",
              "function _uploadFilesContinue(outputId) {\n",
              "  const outputElement = document.getElementById(outputId);\n",
              "  const steps = outputElement.steps;\n",
              "\n",
              "  const next = steps.next(outputElement.lastPromiseValue);\n",
              "  return Promise.resolve(next.value.promise).then((value) => {\n",
              "    // Cache the last promise value to make it available to the next\n",
              "    // step of the generator.\n",
              "    outputElement.lastPromiseValue = value;\n",
              "    return next.value.response;\n",
              "  });\n",
              "}\n",
              "\n",
              "/**\n",
              " * Generator function which is called between each async step of the upload\n",
              " * process.\n",
              " * @param {string} inputId Element ID of the input file picker element.\n",
              " * @param {string} outputId Element ID of the output display.\n",
              " * @return {!Iterable<!Object>} Iterable of next steps.\n",
              " */\n",
              "function* uploadFilesStep(inputId, outputId) {\n",
              "  const inputElement = document.getElementById(inputId);\n",
              "  inputElement.disabled = false;\n",
              "\n",
              "  const outputElement = document.getElementById(outputId);\n",
              "  outputElement.innerHTML = '';\n",
              "\n",
              "  const pickedPromise = new Promise((resolve) => {\n",
              "    inputElement.addEventListener('change', (e) => {\n",
              "      resolve(e.target.files);\n",
              "    });\n",
              "  });\n",
              "\n",
              "  const cancel = document.createElement('button');\n",
              "  inputElement.parentElement.appendChild(cancel);\n",
              "  cancel.textContent = 'Cancel upload';\n",
              "  const cancelPromise = new Promise((resolve) => {\n",
              "    cancel.onclick = () => {\n",
              "      resolve(null);\n",
              "    };\n",
              "  });\n",
              "\n",
              "  // Wait for the user to pick the files.\n",
              "  const files = yield {\n",
              "    promise: Promise.race([pickedPromise, cancelPromise]),\n",
              "    response: {\n",
              "      action: 'starting',\n",
              "    }\n",
              "  };\n",
              "\n",
              "  cancel.remove();\n",
              "\n",
              "  // Disable the input element since further picks are not allowed.\n",
              "  inputElement.disabled = true;\n",
              "\n",
              "  if (!files) {\n",
              "    return {\n",
              "      response: {\n",
              "        action: 'complete',\n",
              "      }\n",
              "    };\n",
              "  }\n",
              "\n",
              "  for (const file of files) {\n",
              "    const li = document.createElement('li');\n",
              "    li.append(span(file.name, {fontWeight: 'bold'}));\n",
              "    li.append(span(\n",
              "        `(${file.type || 'n/a'}) - ${file.size} bytes, ` +\n",
              "        `last modified: ${\n",
              "            file.lastModifiedDate ? file.lastModifiedDate.toLocaleDateString() :\n",
              "                                    'n/a'} - `));\n",
              "    const percent = span('0% done');\n",
              "    li.appendChild(percent);\n",
              "\n",
              "    outputElement.appendChild(li);\n",
              "\n",
              "    const fileDataPromise = new Promise((resolve) => {\n",
              "      const reader = new FileReader();\n",
              "      reader.onload = (e) => {\n",
              "        resolve(e.target.result);\n",
              "      };\n",
              "      reader.readAsArrayBuffer(file);\n",
              "    });\n",
              "    // Wait for the data to be ready.\n",
              "    let fileData = yield {\n",
              "      promise: fileDataPromise,\n",
              "      response: {\n",
              "        action: 'continue',\n",
              "      }\n",
              "    };\n",
              "\n",
              "    // Use a chunked sending to avoid message size limits. See b/62115660.\n",
              "    let position = 0;\n",
              "    do {\n",
              "      const length = Math.min(fileData.byteLength - position, MAX_PAYLOAD_SIZE);\n",
              "      const chunk = new Uint8Array(fileData, position, length);\n",
              "      position += length;\n",
              "\n",
              "      const base64 = btoa(String.fromCharCode.apply(null, chunk));\n",
              "      yield {\n",
              "        response: {\n",
              "          action: 'append',\n",
              "          file: file.name,\n",
              "          data: base64,\n",
              "        },\n",
              "      };\n",
              "\n",
              "      let percentDone = fileData.byteLength === 0 ?\n",
              "          100 :\n",
              "          Math.round((position / fileData.byteLength) * 100);\n",
              "      percent.textContent = `${percentDone}% done`;\n",
              "\n",
              "    } while (position < fileData.byteLength);\n",
              "  }\n",
              "\n",
              "  // All done.\n",
              "  yield {\n",
              "    response: {\n",
              "      action: 'complete',\n",
              "    }\n",
              "  };\n",
              "}\n",
              "\n",
              "scope.google = scope.google || {};\n",
              "scope.google.colab = scope.google.colab || {};\n",
              "scope.google.colab._files = {\n",
              "  _uploadFiles,\n",
              "  _uploadFilesContinue,\n",
              "};\n",
              "})(self);\n",
              "</script> "
            ]
          },
          "metadata": {}
        },
        {
          "output_type": "stream",
          "name": "stdout",
          "text": [
            "Saving kaggle.json to kaggle.json\n"
          ]
        },
        {
          "output_type": "execute_result",
          "data": {
            "text/plain": [
              "{'kaggle.json': b'{\"username\":\"naufalnurfahriza\",\"key\":\"ec6f7ab7dabebc9fd0600384aa1880de\"}'}"
            ]
          },
          "metadata": {},
          "execution_count": 3
        }
      ],
      "source": [
        "# Import module yang disediakan google colab untuk kebutuhan upload file\n",
        "from google.colab import files\n",
        "files.upload()"
      ]
    },
    {
      "cell_type": "code",
      "source": [
        "!pip install -q kaggle"
      ],
      "metadata": {
        "id": "z1gCZnpPLTS5"
      },
      "execution_count": 4,
      "outputs": []
    },
    {
      "cell_type": "code",
      "source": [
        "# Setup credential kaggle\n",
        "!mkdir -p ~/.kaggle\n",
        "!cp kaggle.json ~/.kaggle/\n",
        "!chmod 600 ~/.kaggle/kaggle.json"
      ],
      "metadata": {
        "id": "mHDs9e-OLVVV"
      },
      "execution_count": 5,
      "outputs": []
    },
    {
      "cell_type": "code",
      "source": [
        "# Download dataset DermNet\n",
        "!kaggle datasets download -d muratkokludataset/rice-image-dataset"
      ],
      "metadata": {
        "colab": {
          "base_uri": "https://localhost:8080/"
        },
        "id": "h5Ipi9tALXyY",
        "outputId": "3c2fa16c-f56d-4eb4-cc41-c9cedd092117"
      },
      "execution_count": 6,
      "outputs": [
        {
          "output_type": "stream",
          "name": "stdout",
          "text": [
            "Dataset URL: https://www.kaggle.com/datasets/muratkokludataset/rice-image-dataset\n",
            "License(s): CC0-1.0\n"
          ]
        }
      ]
    },
    {
      "cell_type": "code",
      "source": [
        "# Unzip dataset\n",
        "!unzip -q rice-image-dataset.zip -d Rice_Image_Dataset"
      ],
      "metadata": {
        "id": "zIzrm5ixLZ6C"
      },
      "execution_count": 7,
      "outputs": []
    },
    {
      "cell_type": "code",
      "source": [
        "# Verifikasi dataset\n",
        "print(\"Daftar folder:\")\n",
        "print(os.listdir(\"Rice_Image_Dataset\"))\n",
        "\n",
        "print(\"\\nJumlah gambar per kategori:\")\n",
        "actual_data_path = \"Rice_Image_Dataset/Rice_Image_Dataset\"\n",
        "\n",
        "if os.path.exists(actual_data_path):\n",
        "    for folder in os.listdir(actual_data_path):\n",
        "        folder_path = os.path.join(actual_data_path, folder)\n",
        "        if os.path.isdir(folder_path):\n",
        "            print(f\"{folder}: {len(os.listdir(folder_path))} gambar\")\n",
        "else:\n",
        "    print(\"Folder data tidak ditemukan di:\", actual_data_path)"
      ],
      "metadata": {
        "id": "kEkEw2z7LcuA",
        "colab": {
          "base_uri": "https://localhost:8080/"
        },
        "outputId": "4ee3eb98-3eb0-4604-ffac-98dcac30b832"
      },
      "execution_count": 15,
      "outputs": [
        {
          "output_type": "stream",
          "name": "stdout",
          "text": [
            "Daftar folder:\n",
            "['Rice_Image_Dataset']\n",
            "\n",
            "Jumlah gambar per kategori:\n",
            "Karacadag: 15000 gambar\n",
            "Basmati: 15000 gambar\n",
            "Ipsala: 15000 gambar\n",
            "Jasmine: 15000 gambar\n",
            "Arborio: 15000 gambar\n"
          ]
        }
      ]
    },
    {
      "cell_type": "markdown",
      "metadata": {
        "id": "bFgLyQPHX98s"
      },
      "source": [
        "### Data Preprocessing"
      ]
    },
    {
      "cell_type": "markdown",
      "source": [
        "#### Split Dataset"
      ],
      "metadata": {
        "id": "9ICO2-E0YxzD"
      }
    },
    {
      "cell_type": "code",
      "source": [
        "# Panggil variabel mypath yang menampung folder dataset gambar\n",
        "mypath = 'Rice_Image_Dataset/Rice_Image_Dataset'\n",
        "\n",
        "file_name = []\n",
        "labels = []\n",
        "full_path = []\n",
        "\n",
        "# Hanya proses folder yang valid (abaikan file teks)\n",
        "valid_classes = ['Arborio', 'Basmati', 'Ipsala', 'Jasmine', 'Karacadag']\n",
        "\n",
        "for class_name in valid_classes:\n",
        "    class_path = os.path.join(mypath, class_name)\n",
        "    if os.path.isdir(class_path):\n",
        "        for img_name in os.listdir(class_path):\n",
        "            full_path.append(os.path.join(class_path, img_name))\n",
        "            labels.append(class_name)\n",
        "            file_name.append(img_name)\n",
        "\n",
        "df = pd.DataFrame({\n",
        "    \"path\": full_path,\n",
        "    \"file_name\": file_name,\n",
        "    \"labels\": labels\n",
        "})\n",
        "\n",
        "# Verifikasi distribusi kelas\n",
        "print(\"\\nDistribusi data sebelum split:\")\n",
        "print(df['labels'].value_counts())"
      ],
      "metadata": {
        "id": "568x62lxqLFB",
        "colab": {
          "base_uri": "https://localhost:8080/"
        },
        "outputId": "8bd9252d-3b19-47d9-dc82-69a5ea440fcf"
      },
      "execution_count": 18,
      "outputs": [
        {
          "output_type": "stream",
          "name": "stdout",
          "text": [
            "\n",
            "Distribusi data sebelum split:\n",
            "labels\n",
            "Arborio      15000\n",
            "Basmati      15000\n",
            "Ipsala       15000\n",
            "Jasmine      15000\n",
            "Karacadag    15000\n",
            "Name: count, dtype: int64\n"
          ]
        }
      ]
    },
    {
      "cell_type": "code",
      "source": [
        "# Variabel yang digunakan pada pemisahan data ini dimana variabel x = data path dan y = data labels\n",
        "X = df['path']\n",
        "y = df['labels']\n",
        "\n",
        "# Split ke train dan test (80:20)\n",
        "# Hanya lakukan stratify jika semua kelas memiliki minimal 2 sampel\n",
        "if all(count >= 2 for count in df['labels'].value_counts()):\n",
        "    X_train, X_test, y_train, y_test = train_test_split(\n",
        "        X, y, test_size=0.2, stratify=y, random_state=42)\n",
        "else:\n",
        "    X_train, X_test, y_train, y_test = train_test_split(\n",
        "        X, y, test_size=0.2, random_state=42)\n",
        "    print(\"\\nPeringatan: Stratifikasi diabaikan karena ada kelas dengan sampel < 2\")"
      ],
      "metadata": {
        "id": "q6PZUXIYqS-g"
      },
      "execution_count": 19,
      "outputs": []
    },
    {
      "cell_type": "code",
      "source": [
        "# Menyatukan kedalam masing-masing dataframe\n",
        "df_tr = pd.DataFrame({'path': X_train, 'labels': y_train, 'set': 'train'})\n",
        "df_te = pd.DataFrame({'path': X_test, 'labels': y_test, 'set': 'test'})"
      ],
      "metadata": {
        "id": "_OVnphIsqTmW"
      },
      "execution_count": 20,
      "outputs": []
    },
    {
      "cell_type": "code",
      "source": [
        "# Print hasil diatas untuk melihat panjang size data training dan testing\n",
        "print('\\ntrain size:', len(df_tr))\n",
        "print('test size :', len(df_te))\n",
        "print('\\nDistribusi kelas di training set:')\n",
        "print(df_tr['labels'].value_counts())\n",
        "print('\\nDistribusi kelas di test set:')\n",
        "print(df_te['labels'].value_counts())"
      ],
      "metadata": {
        "id": "IsMv6CXLqVxa",
        "colab": {
          "base_uri": "https://localhost:8080/"
        },
        "outputId": "850d384b-5999-46bf-8626-42c1b1f91aa4"
      },
      "execution_count": 21,
      "outputs": [
        {
          "output_type": "stream",
          "name": "stdout",
          "text": [
            "\n",
            "train size: 60000\n",
            "test size : 15000\n",
            "\n",
            "Distribusi kelas di training set:\n",
            "labels\n",
            "Basmati      12000\n",
            "Ipsala       12000\n",
            "Karacadag    12000\n",
            "Arborio      12000\n",
            "Jasmine      12000\n",
            "Name: count, dtype: int64\n",
            "\n",
            "Distribusi kelas di test set:\n",
            "labels\n",
            "Arborio      3000\n",
            "Ipsala       3000\n",
            "Karacadag    3000\n",
            "Jasmine      3000\n",
            "Basmati      3000\n",
            "Name: count, dtype: int64\n"
          ]
        }
      ]
    },
    {
      "cell_type": "code",
      "source": [
        "# Gabungkan DataFrame df_tr dan df_te\n",
        "df_all = pd.concat([df_tr, df_te], ignore_index=True)\n",
        "\n",
        "print('\\nDistribusi setelah split:')\n",
        "print(df_all.groupby(['set', 'labels']).size())"
      ],
      "metadata": {
        "id": "zHbyhsGRqXzn",
        "colab": {
          "base_uri": "https://localhost:8080/"
        },
        "outputId": "e78c7b96-631a-410e-b1a3-0dc6dfccbf4c"
      },
      "execution_count": 22,
      "outputs": [
        {
          "output_type": "stream",
          "name": "stdout",
          "text": [
            "\n",
            "Distribusi setelah split:\n",
            "set    labels   \n",
            "test   Arborio       3000\n",
            "       Basmati       3000\n",
            "       Ipsala        3000\n",
            "       Jasmine       3000\n",
            "       Karacadag     3000\n",
            "train  Arborio      12000\n",
            "       Basmati      12000\n",
            "       Ipsala       12000\n",
            "       Jasmine      12000\n",
            "       Karacadag    12000\n",
            "dtype: int64\n"
          ]
        }
      ]
    },
    {
      "cell_type": "code",
      "source": [
        "# Buat struktur folder baru\n",
        "dataset_path = \"rice_dataset_final/\"\n",
        "os.makedirs(dataset_path, exist_ok=True)"
      ],
      "metadata": {
        "id": "80BJuXZUqaGo"
      },
      "execution_count": 23,
      "outputs": []
    },
    {
      "cell_type": "code",
      "source": [
        "# Salin gambar ke folder baru sesuai set dan label\n",
        "for index, row in tq(df_all.iterrows(), total=len(df_all)):\n",
        "    file_path = row['path']\n",
        "    label = row['labels']\n",
        "    subset = row['set']\n",
        "\n",
        "    dest_folder = os.path.join(dataset_path, subset, label)\n",
        "    os.makedirs(dest_folder, exist_ok=True)\n",
        "\n",
        "    file_name = os.path.basename(file_path)\n",
        "    dest_path = os.path.join(dest_folder, file_name)\n",
        "\n",
        "    if not os.path.exists(dest_path):\n",
        "        shutil.copy2(file_path, dest_path)"
      ],
      "metadata": {
        "id": "dO7Fg6YXqgWG",
        "colab": {
          "base_uri": "https://localhost:8080/",
          "height": 49,
          "referenced_widgets": [
            "eab4fb41dfd04b5b9ff337e3cdc5ef99",
            "bfc5a91049b349dd85fd0d39d2687ae0",
            "f0fd7f4aa89b44cbae20dcd320480429",
            "284ca124a8b7431bb5889de8a48b3921",
            "ae4f684679574784842741ce67108b2a",
            "cc4dac852992489dbdb82e43812fbb45",
            "0cac1a82a3c34003abe2120fdfb0b12f",
            "315ff9d4e5d9473f8aa3885ff4119fbd",
            "17b02741f1b74b43ad8219fce88857ba",
            "157626e903314507a8b242eefb84561c",
            "1c628b10ad8443469e0e73e8c4465931"
          ]
        },
        "outputId": "a103ea50-9de6-4ae2-c1f2-864d4870f304"
      },
      "execution_count": 24,
      "outputs": [
        {
          "output_type": "display_data",
          "data": {
            "text/plain": [
              "  0%|          | 0/75000 [00:00<?, ?it/s]"
            ],
            "application/vnd.jupyter.widget-view+json": {
              "version_major": 2,
              "version_minor": 0,
              "model_id": "eab4fb41dfd04b5b9ff337e3cdc5ef99"
            }
          },
          "metadata": {}
        }
      ]
    },
    {
      "cell_type": "markdown",
      "source": [
        "### Image Data Generator"
      ],
      "metadata": {
        "id": "Y2MChrDaqpg1"
      }
    },
    {
      "cell_type": "markdown",
      "metadata": {
        "id": "nc-Ph-oIYAUU"
      },
      "source": [
        "## Modelling"
      ]
    },
    {
      "cell_type": "code",
      "source": [
        "# Define training and test directories\n",
        "TRAIN_DIR = \"rice_dataset_final/train/\"\n",
        "TEST_DIR = \"rice_dataset_final/test/\"\n",
        "\n",
        "class_names = os.listdir(TRAIN_DIR)\n",
        "\n",
        "print(\"📊 Jumlah gambar per kelas:\")\n",
        "print(\"\\nTraining Set:\")\n",
        "for cls in class_names:\n",
        "    cls_path = os.path.join(TRAIN_DIR, cls)\n",
        "    num_images = len(os.listdir(cls_path))\n",
        "    print(f\"  {cls}: {num_images}\")\n",
        "\n",
        "print(\"\\nTest Set:\")\n",
        "for cls in class_names:\n",
        "    cls_path = os.path.join(TEST_DIR, cls)\n",
        "    num_images = len(os.listdir(cls_path))\n",
        "    print(f\"  {cls}: {num_images}\")"
      ],
      "metadata": {
        "id": "8y3aT8ZVtEHB",
        "colab": {
          "base_uri": "https://localhost:8080/"
        },
        "outputId": "bdfc4db6-f38d-466a-feea-00e2889db551"
      },
      "execution_count": 25,
      "outputs": [
        {
          "output_type": "stream",
          "name": "stdout",
          "text": [
            "📊 Jumlah gambar per kelas:\n",
            "\n",
            "Training Set:\n",
            "  Karacadag: 12000\n",
            "  Basmati: 12000\n",
            "  Ipsala: 12000\n",
            "  Jasmine: 12000\n",
            "  Arborio: 12000\n",
            "\n",
            "Test Set:\n",
            "  Karacadag: 3000\n",
            "  Basmati: 3000\n",
            "  Ipsala: 3000\n",
            "  Jasmine: 3000\n",
            "  Arborio: 3000\n"
          ]
        }
      ]
    },
    {
      "cell_type": "code",
      "source": [
        "# Buat objek ImageDataGenerator yang menormalkan gambar dan menyertakan validation split\n",
        "datagen = ImageDataGenerator(\n",
        "    rescale=1/255.,\n",
        "    rotation_range=15,\n",
        "    height_shift_range=0.15,\n",
        "    shear_range=0.1,\n",
        "    zoom_range=0.15,\n",
        "    horizontal_flip=True,\n",
        "    fill_mode='nearest',\n",
        "    brightness_range=[0.85, 1.15],\n",
        "    validation_split=0.2\n",
        ")\n",
        "\n",
        "# Generator untuk data test\n",
        "test_datagen = ImageDataGenerator(rescale=1./255)\n",
        "\n",
        "# Generator untuk training set\n",
        "train_generator = datagen.flow_from_directory(\n",
        "    TRAIN_DIR,\n",
        "    batch_size=32,\n",
        "    target_size=(224, 224),\n",
        "    color_mode=\"rgb\",\n",
        "    class_mode='categorical',\n",
        "    subset='training',\n",
        "    shuffle=True\n",
        ")\n",
        "\n",
        "# Generator untuk validation set\n",
        "validation_generator = datagen.flow_from_directory(\n",
        "    TRAIN_DIR,\n",
        "    batch_size=32,\n",
        "    target_size=(224, 224),\n",
        "    color_mode=\"rgb\",\n",
        "    class_mode='categorical',\n",
        "    subset='validation',\n",
        "    shuffle=False\n",
        ")\n",
        "\n",
        "# Generator untuk test set\n",
        "test_generator = test_datagen.flow_from_directory(\n",
        "    TEST_DIR,\n",
        "    batch_size=1,\n",
        "    target_size=(224, 224),\n",
        "    color_mode=\"rgb\",\n",
        "    class_mode='categorical',\n",
        "    shuffle=False\n",
        ")"
      ],
      "metadata": {
        "id": "2hyOGeW7tWj6",
        "colab": {
          "base_uri": "https://localhost:8080/"
        },
        "outputId": "7a50a649-39bb-4e5d-c1e1-24f145820bfa"
      },
      "execution_count": 26,
      "outputs": [
        {
          "output_type": "stream",
          "name": "stdout",
          "text": [
            "Found 48000 images belonging to 5 classes.\n",
            "Found 12000 images belonging to 5 classes.\n",
            "Found 15000 images belonging to 5 classes.\n"
          ]
        }
      ]
    },
    {
      "cell_type": "code",
      "source": [
        "# Define Transfer Learning Model with Sequential\n",
        "from tensorflow.keras.callbacks import LearningRateScheduler\n",
        "\n",
        "# Define the learning rate schedule function (FIXED VERSION)\n",
        "def lr_schedule(epoch):\n",
        "    initial_lr = 0.001\n",
        "    decay_rate = 0.9\n",
        "    decay_steps = 1000\n",
        "\n",
        "    # Perbaikan: Tambahkan pengecekan untuk menghindari division by zero\n",
        "    steps_per_epoch = train_generator.samples // train_generator.batch_size\n",
        "    if steps_per_epoch == 0:  # Jika hasilnya 0, gunakan nilai default 1\n",
        "        steps_per_epoch = 1\n",
        "\n",
        "    epoch_decay = epoch // (decay_steps // steps_per_epoch) if (decay_steps // steps_per_epoch) != 0 else epoch\n",
        "    return initial_lr * (decay_rate ** epoch_decay)\n",
        "\n",
        "# Define the model architecture\n",
        "def create_model():\n",
        "    # Load MobileNetV2 as base model\n",
        "    base_model = MobileNetV2(\n",
        "        input_shape=(224, 224, 3),\n",
        "        include_top=False,\n",
        "        weights='imagenet',\n",
        "        pooling=None\n",
        "    )\n",
        "\n",
        "    # Freeze the base model\n",
        "    base_model.trainable = False\n",
        "\n",
        "    # Build custom head\n",
        "    model = Sequential([\n",
        "      base_model,\n",
        "      Dropout(0.5),\n",
        "      Conv2D(32, (3,3), padding='same', activation='relu', kernel_regularizer='l2'),\n",
        "      GlobalAveragePooling2D(),\n",
        "      Dense(256, activation='relu', kernel_regularizer='l2'),\n",
        "      Dropout(0.3),\n",
        "      Dense(len(class_names), activation='softmax')\n",
        "    ])\n",
        "\n",
        "    return model\n",
        "\n",
        "# Create model\n",
        "model = create_model()\n",
        "model.summary()"
      ],
      "metadata": {
        "id": "K7SRcCap9LN_",
        "colab": {
          "base_uri": "https://localhost:8080/",
          "height": 391
        },
        "outputId": "74148c76-16d3-4a97-ca1a-6a878bf93d26"
      },
      "execution_count": 38,
      "outputs": [
        {
          "output_type": "display_data",
          "data": {
            "text/plain": [
              "\u001b[1mModel: \"sequential_3\"\u001b[0m\n"
            ],
            "text/html": [
              "<pre style=\"white-space:pre;overflow-x:auto;line-height:normal;font-family:Menlo,'DejaVu Sans Mono',consolas,'Courier New',monospace\"><span style=\"font-weight: bold\">Model: \"sequential_3\"</span>\n",
              "</pre>\n"
            ]
          },
          "metadata": {}
        },
        {
          "output_type": "display_data",
          "data": {
            "text/plain": [
              "┏━━━━━━━━━━━━━━━━━━━━━━━━━━━━━━━━━┳━━━━━━━━━━━━━━━━━━━━━━━━┳━━━━━━━━━━━━━━━┓\n",
              "┃\u001b[1m \u001b[0m\u001b[1mLayer (type)                   \u001b[0m\u001b[1m \u001b[0m┃\u001b[1m \u001b[0m\u001b[1mOutput Shape          \u001b[0m\u001b[1m \u001b[0m┃\u001b[1m \u001b[0m\u001b[1m      Param #\u001b[0m\u001b[1m \u001b[0m┃\n",
              "┡━━━━━━━━━━━━━━━━━━━━━━━━━━━━━━━━━╇━━━━━━━━━━━━━━━━━━━━━━━━╇━━━━━━━━━━━━━━━┩\n",
              "│ mobilenetv2_1.00_224            │ (\u001b[38;5;45mNone\u001b[0m, \u001b[38;5;34m7\u001b[0m, \u001b[38;5;34m7\u001b[0m, \u001b[38;5;34m1280\u001b[0m)     │     \u001b[38;5;34m2,257,984\u001b[0m │\n",
              "│ (\u001b[38;5;33mFunctional\u001b[0m)                    │                        │               │\n",
              "├─────────────────────────────────┼────────────────────────┼───────────────┤\n",
              "│ dropout_6 (\u001b[38;5;33mDropout\u001b[0m)             │ (\u001b[38;5;45mNone\u001b[0m, \u001b[38;5;34m7\u001b[0m, \u001b[38;5;34m7\u001b[0m, \u001b[38;5;34m1280\u001b[0m)     │             \u001b[38;5;34m0\u001b[0m │\n",
              "├─────────────────────────────────┼────────────────────────┼───────────────┤\n",
              "│ conv2d_3 (\u001b[38;5;33mConv2D\u001b[0m)               │ (\u001b[38;5;45mNone\u001b[0m, \u001b[38;5;34m7\u001b[0m, \u001b[38;5;34m7\u001b[0m, \u001b[38;5;34m32\u001b[0m)       │       \u001b[38;5;34m368,672\u001b[0m │\n",
              "├─────────────────────────────────┼────────────────────────┼───────────────┤\n",
              "│ global_average_pooling2d_3      │ (\u001b[38;5;45mNone\u001b[0m, \u001b[38;5;34m32\u001b[0m)             │             \u001b[38;5;34m0\u001b[0m │\n",
              "│ (\u001b[38;5;33mGlobalAveragePooling2D\u001b[0m)        │                        │               │\n",
              "├─────────────────────────────────┼────────────────────────┼───────────────┤\n",
              "│ dense_6 (\u001b[38;5;33mDense\u001b[0m)                 │ (\u001b[38;5;45mNone\u001b[0m, \u001b[38;5;34m256\u001b[0m)            │         \u001b[38;5;34m8,448\u001b[0m │\n",
              "├─────────────────────────────────┼────────────────────────┼───────────────┤\n",
              "│ dropout_7 (\u001b[38;5;33mDropout\u001b[0m)             │ (\u001b[38;5;45mNone\u001b[0m, \u001b[38;5;34m256\u001b[0m)            │             \u001b[38;5;34m0\u001b[0m │\n",
              "├─────────────────────────────────┼────────────────────────┼───────────────┤\n",
              "│ dense_7 (\u001b[38;5;33mDense\u001b[0m)                 │ (\u001b[38;5;45mNone\u001b[0m, \u001b[38;5;34m5\u001b[0m)              │         \u001b[38;5;34m1,285\u001b[0m │\n",
              "└─────────────────────────────────┴────────────────────────┴───────────────┘\n"
            ],
            "text/html": [
              "<pre style=\"white-space:pre;overflow-x:auto;line-height:normal;font-family:Menlo,'DejaVu Sans Mono',consolas,'Courier New',monospace\">┏━━━━━━━━━━━━━━━━━━━━━━━━━━━━━━━━━┳━━━━━━━━━━━━━━━━━━━━━━━━┳━━━━━━━━━━━━━━━┓\n",
              "┃<span style=\"font-weight: bold\"> Layer (type)                    </span>┃<span style=\"font-weight: bold\"> Output Shape           </span>┃<span style=\"font-weight: bold\">       Param # </span>┃\n",
              "┡━━━━━━━━━━━━━━━━━━━━━━━━━━━━━━━━━╇━━━━━━━━━━━━━━━━━━━━━━━━╇━━━━━━━━━━━━━━━┩\n",
              "│ mobilenetv2_1.00_224            │ (<span style=\"color: #00d7ff; text-decoration-color: #00d7ff\">None</span>, <span style=\"color: #00af00; text-decoration-color: #00af00\">7</span>, <span style=\"color: #00af00; text-decoration-color: #00af00\">7</span>, <span style=\"color: #00af00; text-decoration-color: #00af00\">1280</span>)     │     <span style=\"color: #00af00; text-decoration-color: #00af00\">2,257,984</span> │\n",
              "│ (<span style=\"color: #0087ff; text-decoration-color: #0087ff\">Functional</span>)                    │                        │               │\n",
              "├─────────────────────────────────┼────────────────────────┼───────────────┤\n",
              "│ dropout_6 (<span style=\"color: #0087ff; text-decoration-color: #0087ff\">Dropout</span>)             │ (<span style=\"color: #00d7ff; text-decoration-color: #00d7ff\">None</span>, <span style=\"color: #00af00; text-decoration-color: #00af00\">7</span>, <span style=\"color: #00af00; text-decoration-color: #00af00\">7</span>, <span style=\"color: #00af00; text-decoration-color: #00af00\">1280</span>)     │             <span style=\"color: #00af00; text-decoration-color: #00af00\">0</span> │\n",
              "├─────────────────────────────────┼────────────────────────┼───────────────┤\n",
              "│ conv2d_3 (<span style=\"color: #0087ff; text-decoration-color: #0087ff\">Conv2D</span>)               │ (<span style=\"color: #00d7ff; text-decoration-color: #00d7ff\">None</span>, <span style=\"color: #00af00; text-decoration-color: #00af00\">7</span>, <span style=\"color: #00af00; text-decoration-color: #00af00\">7</span>, <span style=\"color: #00af00; text-decoration-color: #00af00\">32</span>)       │       <span style=\"color: #00af00; text-decoration-color: #00af00\">368,672</span> │\n",
              "├─────────────────────────────────┼────────────────────────┼───────────────┤\n",
              "│ global_average_pooling2d_3      │ (<span style=\"color: #00d7ff; text-decoration-color: #00d7ff\">None</span>, <span style=\"color: #00af00; text-decoration-color: #00af00\">32</span>)             │             <span style=\"color: #00af00; text-decoration-color: #00af00\">0</span> │\n",
              "│ (<span style=\"color: #0087ff; text-decoration-color: #0087ff\">GlobalAveragePooling2D</span>)        │                        │               │\n",
              "├─────────────────────────────────┼────────────────────────┼───────────────┤\n",
              "│ dense_6 (<span style=\"color: #0087ff; text-decoration-color: #0087ff\">Dense</span>)                 │ (<span style=\"color: #00d7ff; text-decoration-color: #00d7ff\">None</span>, <span style=\"color: #00af00; text-decoration-color: #00af00\">256</span>)            │         <span style=\"color: #00af00; text-decoration-color: #00af00\">8,448</span> │\n",
              "├─────────────────────────────────┼────────────────────────┼───────────────┤\n",
              "│ dropout_7 (<span style=\"color: #0087ff; text-decoration-color: #0087ff\">Dropout</span>)             │ (<span style=\"color: #00d7ff; text-decoration-color: #00d7ff\">None</span>, <span style=\"color: #00af00; text-decoration-color: #00af00\">256</span>)            │             <span style=\"color: #00af00; text-decoration-color: #00af00\">0</span> │\n",
              "├─────────────────────────────────┼────────────────────────┼───────────────┤\n",
              "│ dense_7 (<span style=\"color: #0087ff; text-decoration-color: #0087ff\">Dense</span>)                 │ (<span style=\"color: #00d7ff; text-decoration-color: #00d7ff\">None</span>, <span style=\"color: #00af00; text-decoration-color: #00af00\">5</span>)              │         <span style=\"color: #00af00; text-decoration-color: #00af00\">1,285</span> │\n",
              "└─────────────────────────────────┴────────────────────────┴───────────────┘\n",
              "</pre>\n"
            ]
          },
          "metadata": {}
        },
        {
          "output_type": "display_data",
          "data": {
            "text/plain": [
              "\u001b[1m Total params: \u001b[0m\u001b[38;5;34m2,636,389\u001b[0m (10.06 MB)\n"
            ],
            "text/html": [
              "<pre style=\"white-space:pre;overflow-x:auto;line-height:normal;font-family:Menlo,'DejaVu Sans Mono',consolas,'Courier New',monospace\"><span style=\"font-weight: bold\"> Total params: </span><span style=\"color: #00af00; text-decoration-color: #00af00\">2,636,389</span> (10.06 MB)\n",
              "</pre>\n"
            ]
          },
          "metadata": {}
        },
        {
          "output_type": "display_data",
          "data": {
            "text/plain": [
              "\u001b[1m Trainable params: \u001b[0m\u001b[38;5;34m378,405\u001b[0m (1.44 MB)\n"
            ],
            "text/html": [
              "<pre style=\"white-space:pre;overflow-x:auto;line-height:normal;font-family:Menlo,'DejaVu Sans Mono',consolas,'Courier New',monospace\"><span style=\"font-weight: bold\"> Trainable params: </span><span style=\"color: #00af00; text-decoration-color: #00af00\">378,405</span> (1.44 MB)\n",
              "</pre>\n"
            ]
          },
          "metadata": {}
        },
        {
          "output_type": "display_data",
          "data": {
            "text/plain": [
              "\u001b[1m Non-trainable params: \u001b[0m\u001b[38;5;34m2,257,984\u001b[0m (8.61 MB)\n"
            ],
            "text/html": [
              "<pre style=\"white-space:pre;overflow-x:auto;line-height:normal;font-family:Menlo,'DejaVu Sans Mono',consolas,'Courier New',monospace\"><span style=\"font-weight: bold\"> Non-trainable params: </span><span style=\"color: #00af00; text-decoration-color: #00af00\">2,257,984</span> (8.61 MB)\n",
              "</pre>\n"
            ]
          },
          "metadata": {}
        }
      ]
    },
    {
      "cell_type": "code",
      "source": [
        "# Define callbacks\n",
        "callbacks = [\n",
        "    EarlyStopping(\n",
        "        monitor='val_loss',\n",
        "        patience=5,\n",
        "        restore_best_weights=True,\n",
        "        verbose=1\n",
        "    ),\n",
        "    ModelCheckpoint(\n",
        "        'best_model.keras',\n",
        "        monitor='val_accuracy',\n",
        "        save_best_only=True,\n",
        "        mode='max',\n",
        "        verbose=1\n",
        "    ),\n",
        "    LearningRateScheduler(lr_schedule),\n",
        "    ReduceLROnPlateau(\n",
        "        monitor='val_loss',\n",
        "        factor=0.2,\n",
        "        patience=3,\n",
        "        min_lr=1e-6,\n",
        "        verbose=1\n",
        "    )\n",
        "]"
      ],
      "metadata": {
        "id": "aPjGf2dX9Oym"
      },
      "execution_count": 39,
      "outputs": []
    },
    {
      "cell_type": "code",
      "source": [
        "# Compile model\n",
        "model.compile(\n",
        "    optimizer=Adam(learning_rate=0.001),\n",
        "    loss='categorical_crossentropy',\n",
        "    metrics=['accuracy',\n",
        "            tf.keras.metrics.Precision(name='precision'),\n",
        "            tf.keras.metrics.Recall(name='recall')]\n",
        ")\n",
        "\n",
        "#Calculate class weights\n",
        "try:\n",
        "    class_weights = compute_class_weight(\n",
        "        'balanced',\n",
        "        classes=np.unique(train_generator.classes),\n",
        "        y=train_generator.classes\n",
        "    )\n",
        "    class_weights = dict(enumerate(class_weights))\n",
        "    print(\"Class weights calculated successfully:\", class_weights)\n",
        "except Exception as e:\n",
        "    print(\"Error calculating class weights, using None:\", str(e))\n",
        "    class_weights = None\n",
        "\n",
        "# Train the model\n",
        "try:\n",
        "    print(\"\\nTraining Info:\")\n",
        "    print(f\"Samples: {train_generator.samples}\")\n",
        "    print(f\"Batch size: {train_generator.batch_size}\")\n",
        "    print(f\"Steps per epoch: {len(train_generator)}\")\n",
        "\n",
        "    history = model.fit(\n",
        "        train_generator,\n",
        "        steps_per_epoch=len(train_generator),\n",
        "        validation_data=validation_generator,\n",
        "        validation_steps=len(validation_generator),\n",
        "        epochs=10,\n",
        "        callbacks=callbacks,\n",
        "        class_weight=class_weights,\n",
        "        verbose=1\n",
        "    )\n",
        "except Exception as e:\n",
        "    print(\"\\nTraining failed:\", str(e))\n",
        "    print(\"Possible solutions:\")\n",
        "    print(\"1. Reduce batch size (try 16 or 8)\")\n",
        "    print(\"2. Check if all images are valid\")\n",
        "    print(\"3. Verify your data directory structure\")\n",
        "\n",
        "\n",
        "# Load the best model (using modern .keras format)\n",
        "if os.path.exists('best_model.keras'):\n",
        "    model = tf.keras.models.load_model('best_model.keras')\n",
        "    print(\"Best model loaded successfully\")\n",
        "else:\n",
        "    print(\"No saved model found\")"
      ],
      "metadata": {
        "id": "Ns3SxlaXvuCj",
        "colab": {
          "base_uri": "https://localhost:8080/"
        },
        "outputId": "3031fd45-2737-4f2c-cc68-131622dc7efc"
      },
      "execution_count": 41,
      "outputs": [
        {
          "output_type": "stream",
          "name": "stdout",
          "text": [
            "Class weights calculated successfully: {0: np.float64(1.0), 1: np.float64(1.0), 2: np.float64(1.0), 3: np.float64(1.0), 4: np.float64(1.0)}\n",
            "\n",
            "Training Info:\n",
            "Samples: 48000\n",
            "Batch size: 32\n",
            "Steps per epoch: 1500\n",
            "Epoch 1/10\n",
            "\u001b[1m1500/1500\u001b[0m \u001b[32m━━━━━━━━━━━━━━━━━━━━\u001b[0m\u001b[37m\u001b[0m \u001b[1m0s\u001b[0m 409ms/step - accuracy: 0.9478 - loss: 0.3416 - precision: 0.9508 - recall: 0.9449"
          ]
        },
        {
          "output_type": "stream",
          "name": "stderr",
          "text": [
            "/usr/local/lib/python3.11/dist-packages/keras/src/trainers/data_adapters/py_dataset_adapter.py:121: UserWarning: Your `PyDataset` class should call `super().__init__(**kwargs)` in its constructor. `**kwargs` can include `workers`, `use_multiprocessing`, `max_queue_size`. Do not pass these arguments to `fit()`, as they will be ignored.\n",
            "  self._warn_if_super_not_called()\n"
          ]
        },
        {
          "output_type": "stream",
          "name": "stdout",
          "text": [
            "\n",
            "Epoch 1: val_accuracy improved from -inf to 0.96158, saving model to best_model.keras\n",
            "\u001b[1m1500/1500\u001b[0m \u001b[32m━━━━━━━━━━━━━━━━━━━━\u001b[0m\u001b[37m\u001b[0m \u001b[1m827s\u001b[0m 545ms/step - accuracy: 0.9478 - loss: 0.3416 - precision: 0.9508 - recall: 0.9449 - val_accuracy: 0.9616 - val_loss: 0.1995 - val_precision: 0.9624 - val_recall: 0.9609 - learning_rate: 0.0010\n",
            "Epoch 2/10\n",
            "\u001b[1m1500/1500\u001b[0m \u001b[32m━━━━━━━━━━━━━━━━━━━━\u001b[0m\u001b[37m\u001b[0m \u001b[1m0s\u001b[0m 413ms/step - accuracy: 0.9580 - loss: 0.1994 - precision: 0.9594 - recall: 0.9569\n",
            "Epoch 2: val_accuracy did not improve from 0.96158\n",
            "\u001b[1m1500/1500\u001b[0m \u001b[32m━━━━━━━━━━━━━━━━━━━━\u001b[0m\u001b[37m\u001b[0m \u001b[1m777s\u001b[0m 518ms/step - accuracy: 0.9580 - loss: 0.1994 - precision: 0.9594 - recall: 0.9569 - val_accuracy: 0.9578 - val_loss: 0.1849 - val_precision: 0.9591 - val_recall: 0.9558 - learning_rate: 9.0000e-04\n",
            "Epoch 3/10\n",
            "\u001b[1m1500/1500\u001b[0m \u001b[32m━━━━━━━━━━━━━━━━━━━━\u001b[0m\u001b[37m\u001b[0m \u001b[1m0s\u001b[0m 418ms/step - accuracy: 0.9594 - loss: 0.1851 - precision: 0.9609 - recall: 0.9581\n",
            "Epoch 3: val_accuracy improved from 0.96158 to 0.96858, saving model to best_model.keras\n",
            "\u001b[1m1500/1500\u001b[0m \u001b[32m━━━━━━━━━━━━━━━━━━━━\u001b[0m\u001b[37m\u001b[0m \u001b[1m829s\u001b[0m 553ms/step - accuracy: 0.9594 - loss: 0.1851 - precision: 0.9609 - recall: 0.9581 - val_accuracy: 0.9686 - val_loss: 0.1539 - val_precision: 0.9687 - val_recall: 0.9684 - learning_rate: 8.1000e-04\n",
            "Epoch 4/10\n",
            "\u001b[1m1500/1500\u001b[0m \u001b[32m━━━━━━━━━━━━━━━━━━━━\u001b[0m\u001b[37m\u001b[0m \u001b[1m0s\u001b[0m 414ms/step - accuracy: 0.9620 - loss: 0.1714 - precision: 0.9629 - recall: 0.9611\n",
            "Epoch 4: val_accuracy did not improve from 0.96858\n",
            "\u001b[1m1500/1500\u001b[0m \u001b[32m━━━━━━━━━━━━━━━━━━━━\u001b[0m\u001b[37m\u001b[0m \u001b[1m774s\u001b[0m 516ms/step - accuracy: 0.9620 - loss: 0.1714 - precision: 0.9629 - recall: 0.9611 - val_accuracy: 0.9637 - val_loss: 0.1601 - val_precision: 0.9646 - val_recall: 0.9632 - learning_rate: 7.2900e-04\n",
            "Epoch 5/10\n",
            "\u001b[1m1500/1500\u001b[0m \u001b[32m━━━━━━━━━━━━━━━━━━━━\u001b[0m\u001b[37m\u001b[0m \u001b[1m0s\u001b[0m 420ms/step - accuracy: 0.9617 - loss: 0.1688 - precision: 0.9630 - recall: 0.9605\n",
            "Epoch 5: val_accuracy did not improve from 0.96858\n",
            "\u001b[1m1500/1500\u001b[0m \u001b[32m━━━━━━━━━━━━━━━━━━━━\u001b[0m\u001b[37m\u001b[0m \u001b[1m810s\u001b[0m 522ms/step - accuracy: 0.9617 - loss: 0.1688 - precision: 0.9630 - recall: 0.9605 - val_accuracy: 0.9672 - val_loss: 0.1572 - val_precision: 0.9686 - val_recall: 0.9654 - learning_rate: 6.5610e-04\n",
            "Epoch 6/10\n",
            "\u001b[1m1500/1500\u001b[0m \u001b[32m━━━━━━━━━━━━━━━━━━━━\u001b[0m\u001b[37m\u001b[0m \u001b[1m0s\u001b[0m 411ms/step - accuracy: 0.9652 - loss: 0.1584 - precision: 0.9657 - recall: 0.9640\n",
            "Epoch 6: val_accuracy improved from 0.96858 to 0.96908, saving model to best_model.keras\n",
            "\u001b[1m1500/1500\u001b[0m \u001b[32m━━━━━━━━━━━━━━━━━━━━\u001b[0m\u001b[37m\u001b[0m \u001b[1m789s\u001b[0m 513ms/step - accuracy: 0.9652 - loss: 0.1584 - precision: 0.9657 - recall: 0.9640 - val_accuracy: 0.9691 - val_loss: 0.1484 - val_precision: 0.9697 - val_recall: 0.9683 - learning_rate: 5.9049e-04\n",
            "Epoch 7/10\n",
            "\u001b[1m1500/1500\u001b[0m \u001b[32m━━━━━━━━━━━━━━━━━━━━\u001b[0m\u001b[37m\u001b[0m \u001b[1m0s\u001b[0m 416ms/step - accuracy: 0.9670 - loss: 0.1477 - precision: 0.9676 - recall: 0.9665\n",
            "Epoch 7: val_accuracy did not improve from 0.96908\n",
            "\u001b[1m1500/1500\u001b[0m \u001b[32m━━━━━━━━━━━━━━━━━━━━\u001b[0m\u001b[37m\u001b[0m \u001b[1m777s\u001b[0m 518ms/step - accuracy: 0.9670 - loss: 0.1477 - precision: 0.9676 - recall: 0.9665 - val_accuracy: 0.9568 - val_loss: 0.1803 - val_precision: 0.9580 - val_recall: 0.9553 - learning_rate: 5.3144e-04\n",
            "Epoch 8/10\n",
            "\u001b[1m1500/1500\u001b[0m \u001b[32m━━━━━━━━━━━━━━━━━━━━\u001b[0m\u001b[37m\u001b[0m \u001b[1m0s\u001b[0m 413ms/step - accuracy: 0.9662 - loss: 0.1448 - precision: 0.9670 - recall: 0.9651\n",
            "Epoch 8: val_accuracy improved from 0.96908 to 0.97150, saving model to best_model.keras\n",
            "\u001b[1m1500/1500\u001b[0m \u001b[32m━━━━━━━━━━━━━━━━━━━━\u001b[0m\u001b[37m\u001b[0m \u001b[1m775s\u001b[0m 516ms/step - accuracy: 0.9662 - loss: 0.1448 - precision: 0.9670 - recall: 0.9651 - val_accuracy: 0.9715 - val_loss: 0.1353 - val_precision: 0.9720 - val_recall: 0.9712 - learning_rate: 4.7830e-04\n",
            "Epoch 9/10\n",
            "\u001b[1m1500/1500\u001b[0m \u001b[32m━━━━━━━━━━━━━━━━━━━━\u001b[0m\u001b[37m\u001b[0m \u001b[1m0s\u001b[0m 414ms/step - accuracy: 0.9701 - loss: 0.1357 - precision: 0.9709 - recall: 0.9691\n",
            "Epoch 9: val_accuracy did not improve from 0.97150\n",
            "\u001b[1m1500/1500\u001b[0m \u001b[32m━━━━━━━━━━━━━━━━━━━━\u001b[0m\u001b[37m\u001b[0m \u001b[1m823s\u001b[0m 549ms/step - accuracy: 0.9701 - loss: 0.1357 - precision: 0.9709 - recall: 0.9691 - val_accuracy: 0.9708 - val_loss: 0.1253 - val_precision: 0.9711 - val_recall: 0.9703 - learning_rate: 4.3047e-04\n",
            "Epoch 10/10\n",
            "\u001b[1m1500/1500\u001b[0m \u001b[32m━━━━━━━━━━━━━━━━━━━━\u001b[0m\u001b[37m\u001b[0m \u001b[1m0s\u001b[0m 412ms/step - accuracy: 0.9690 - loss: 0.1362 - precision: 0.9695 - recall: 0.9687\n",
            "Epoch 10: val_accuracy improved from 0.97150 to 0.97675, saving model to best_model.keras\n",
            "\u001b[1m1500/1500\u001b[0m \u001b[32m━━━━━━━━━━━━━━━━━━━━\u001b[0m\u001b[37m\u001b[0m \u001b[1m809s\u001b[0m 514ms/step - accuracy: 0.9690 - loss: 0.1362 - precision: 0.9695 - recall: 0.9687 - val_accuracy: 0.9768 - val_loss: 0.1142 - val_precision: 0.9771 - val_recall: 0.9762 - learning_rate: 3.8742e-04\n",
            "Restoring model weights from the end of the best epoch: 10.\n",
            "Best model loaded successfully\n"
          ]
        }
      ]
    },
    {
      "cell_type": "markdown",
      "metadata": {
        "id": "XctzCfzbYCBK"
      },
      "source": [
        "## Evaluasi dan Visualisasi"
      ]
    },
    {
      "cell_type": "code",
      "source": [
        "# Evaluasi di test set\n",
        "print(\"\\n⚙️ Evaluating on test set...\")\n",
        "test_loss, test_accuracy, test_precision, test_recall = model.evaluate(test_generator)\n",
        "print(f\"\\n📊 Test Metrics:\")\n",
        "print(f\"Accuracy: {test_accuracy*100:.2f}%\")\n",
        "print(f\"Loss: {test_loss:.4f}\")\n",
        "print(f\"Precision: {test_precision:.4f}\")\n",
        "print(f\"Recall: {test_recall:.4f}\")"
      ],
      "metadata": {
        "id": "67qqFq7M99Sz",
        "colab": {
          "base_uri": "https://localhost:8080/"
        },
        "outputId": "1e927571-e6fc-4b9a-900e-55ea989353e7"
      },
      "execution_count": 42,
      "outputs": [
        {
          "output_type": "stream",
          "name": "stdout",
          "text": [
            "\n",
            "⚙️ Evaluating on test set...\n",
            "\u001b[1m15000/15000\u001b[0m \u001b[32m━━━━━━━━━━━━━━━━━━━━\u001b[0m\u001b[37m\u001b[0m \u001b[1m117s\u001b[0m 7ms/step - accuracy: 0.9858 - loss: 0.0896 - precision: 0.9859 - recall: 0.9858\n",
            "\n",
            "📊 Test Metrics:\n",
            "Accuracy: 97.15%\n",
            "Loss: 0.1245\n",
            "Precision: 0.9718\n",
            "Recall: 0.9713\n"
          ]
        }
      ]
    },
    {
      "cell_type": "code",
      "source": [
        "# Plot grafik akurasi & loss\n",
        "plt.figure(figsize=(18, 6))\n",
        "\n",
        "# Accuracy Plot\n",
        "plt.subplot(1, 3, 1)\n",
        "plt.plot(history.history['accuracy'], label='Train', color='blue', linewidth=2)\n",
        "plt.plot(history.history['val_accuracy'], label='Validation', color='orange', linewidth=2)\n",
        "plt.title('Model Accuracy', fontsize=14, pad=20)\n",
        "plt.xlabel('Epoch', fontsize=12)\n",
        "plt.ylabel('Accuracy', fontsize=12)\n",
        "plt.legend()\n",
        "plt.grid(True, linestyle='--', alpha=0.5)\n",
        "plt.ylim(0, 1)\n",
        "\n",
        "# Loss Plot\n",
        "plt.subplot(1, 3, 2)\n",
        "plt.plot(history.history['loss'], label='Train', color='blue', linewidth=2)\n",
        "plt.plot(history.history['val_loss'], label='Validation', color='orange', linewidth=2)\n",
        "plt.title('Model Loss', fontsize=14, pad=20)\n",
        "plt.xlabel('Epoch', fontsize=12)\n",
        "plt.ylabel('Loss', fontsize=12)\n",
        "plt.legend()\n",
        "plt.grid(True, linestyle='--', alpha=0.5)\n"
      ],
      "metadata": {
        "id": "_PMNVlu1-JqM",
        "colab": {
          "base_uri": "https://localhost:8080/",
          "height": 589
        },
        "outputId": "df8062a0-d9d8-4345-c029-30462a309bdd"
      },
      "execution_count": 43,
      "outputs": [
        {
          "output_type": "display_data",
          "data": {
            "text/plain": [
              "<Figure size 1800x600 with 2 Axes>"
            ],
            "image/png": "[encoded data removed]"
          },
          "metadata": {}
        }
      ]
    },
    {
      "cell_type": "code",
      "source": [
        "# Prediksi data test\n",
        "test_generator.reset()\n",
        "predictions = model.predict(test_generator, verbose=1)\n",
        "y_pred = np.argmax(predictions, axis=1)\n",
        "y_true = test_generator.classes\n",
        "class_names = list(test_generator.class_indices.keys())\n",
        "\n",
        "# Classification Report\n",
        "print(\"\\n📝 Classification Report:\")\n",
        "print(classification_report(y_true, y_pred, target_names=class_names, digits=4))"
      ],
      "metadata": {
        "id": "tVk4HVtO-KaG",
        "colab": {
          "base_uri": "https://localhost:8080/"
        },
        "outputId": "03074201-554f-4251-b0a3-afd3d22d27f2"
      },
      "execution_count": 44,
      "outputs": [
        {
          "output_type": "stream",
          "name": "stdout",
          "text": [
            "\u001b[1m15000/15000\u001b[0m \u001b[32m━━━━━━━━━━━━━━━━━━━━\u001b[0m\u001b[37m\u001b[0m \u001b[1m98s\u001b[0m 6ms/step\n",
            "\n",
            "📝 Classification Report:\n",
            "              precision    recall  f1-score   support\n",
            "\n",
            "     Arborio     0.9151    0.9947    0.9532      3000\n",
            "     Basmati     0.9938    0.9653    0.9794      3000\n",
            "      Ipsala     0.9997    0.9933    0.9965      3000\n",
            "     Jasmine     0.9590    0.9893    0.9739      3000\n",
            "   Karacadag     0.9982    0.9147    0.9546      3000\n",
            "\n",
            "    accuracy                         0.9715     15000\n",
            "   macro avg     0.9731    0.9715    0.9715     15000\n",
            "weighted avg     0.9731    0.9715    0.9715     15000\n",
            "\n"
          ]
        }
      ]
    },
    {
      "cell_type": "code",
      "source": [
        "# Confusion Matrix\n",
        "cm = confusion_matrix(y_true, y_pred)\n",
        "plt.figure(figsize=(12, 10))\n",
        "sns.heatmap(cm, annot=True, fmt='d', cmap='Blues',\n",
        "            xticklabels=class_names,\n",
        "            yticklabels=class_names,\n",
        "            cbar=False)\n",
        "plt.title('Confusion Matrix', fontsize=16, pad=20)\n",
        "plt.xlabel('Predicted Labels', fontsize=14)\n",
        "plt.ylabel('True Labels', fontsize=14)\n",
        "plt.xticks(rotation=45, ha='right')\n",
        "plt.yticks(rotation=0)\n",
        "plt.tight_layout()\n",
        "plt.savefig('confusion_matrix.png', dpi=300, bbox_inches='tight')\n",
        "plt.show()"
      ],
      "metadata": {
        "id": "DI24GMqw2k9L",
        "colab": {
          "base_uri": "https://localhost:8080/",
          "height": 1000
        },
        "outputId": "66eb5392-01e3-4ab0-e712-7b949da9ddf1"
      },
      "execution_count": 45,
      "outputs": [
        {
          "output_type": "display_data",
          "data": {
            "text/plain": [
              "<Figure size 1200x1000 with 1 Axes>"
            ],
            "image/png": "[encoded data removed]"
          },
          "metadata": {}
        }
      ]
    },
    {
      "cell_type": "code",
      "source": [
        "# Class-wise Accuracy\n",
        "correct = np.zeros(len(class_names))\n",
        "total = np.zeros(len(class_names))\n",
        "\n",
        "for i in range(len(y_true)):\n",
        "    class_idx = y_true[i]\n",
        "    total[class_idx] += 1\n",
        "    if y_true[i] == y_pred[i]:\n",
        "        correct[class_idx] += 1\n",
        "\n",
        "class_accuracy = correct / total\n",
        "\n",
        "plt.figure(figsize=(12, 6))\n",
        "bars = plt.bar(class_names, class_accuracy, color='skyblue')\n",
        "plt.title('Class-wise Accuracy', fontsize=16, pad=20)\n",
        "plt.xlabel('Class', fontsize=14)\n",
        "plt.ylabel('Accuracy', fontsize=14)\n",
        "plt.ylim(0, 1.1)\n",
        "plt.xticks(rotation=45, ha='right')\n",
        "plt.grid(True, axis='y', linestyle='--', alpha=0.5)\n",
        "\n",
        "# Add accuracy values on top of bars\n",
        "for bar, acc in zip(bars, class_accuracy):\n",
        "    height = bar.get_height()\n",
        "    plt.text(bar.get_x() + bar.get_width()/2., height,\n",
        "             f'{acc:.2f}',\n",
        "             ha='center', va='bottom')\n",
        "\n",
        "plt.tight_layout()\n",
        "plt.savefig('class_accuracy.png', dpi=300, bbox_inches='tight')\n",
        "plt.show()"
      ],
      "metadata": {
        "id": "oAPd-5Wm2t22",
        "colab": {
          "base_uri": "https://localhost:8080/",
          "height": 607
        },
        "outputId": "41faab63-10d1-4665-e676-4751d1e8eb6e"
      },
      "execution_count": 46,
      "outputs": [
        {
          "output_type": "display_data",
          "data": {
            "text/plain": [
              "<Figure size 1200x600 with 1 Axes>"
            ],
            "image/png": "[encoded data removed]"
          },
          "metadata": {}
        }
      ]
    },
    {
      "cell_type": "markdown",
      "metadata": {
        "id": "y_fIsUogYFSk"
      },
      "source": [
        "## Konversi Model"
      ]
    },
    {
      "cell_type": "code",
      "source": [
        "!pip install tensorflowjs"
      ],
      "metadata": {
        "id": "QRUlFuTYd-sK",
        "colab": {
          "base_uri": "https://localhost:8080/"
        },
        "outputId": "9b20bf78-76e2-47cd-db5c-389617a28220"
      },
      "execution_count": 47,
      "outputs": [
        {
          "output_type": "stream",
          "name": "stdout",
          "text": [
            "Collecting tensorflowjs\n",
            "  Downloading tensorflowjs-4.22.0-py3-none-any.whl.metadata (3.2 kB)\n",
            "Requirement already satisfied: flax>=0.7.2 in /usr/local/lib/python3.11/dist-packages (from tensorflowjs) (0.10.5)\n",
            "Requirement already satisfied: importlib_resources>=5.9.0 in /usr/local/lib/python3.11/dist-packages (from tensorflowjs) (6.5.2)\n",
            "Requirement already satisfied: jax>=0.4.13 in /usr/local/lib/python3.11/dist-packages (from tensorflowjs) (0.5.2)\n",
            "Requirement already satisfied: jaxlib>=0.4.13 in /usr/local/lib/python3.11/dist-packages (from tensorflowjs) (0.5.1)\n",
            "Requirement already satisfied: tensorflow<3,>=2.13.0 in /usr/local/lib/python3.11/dist-packages (from tensorflowjs) (2.18.0)\n",
            "Requirement already satisfied: tf-keras>=2.13.0 in /usr/local/lib/python3.11/dist-packages (from tensorflowjs) (2.18.0)\n",
            "Requirement already satisfied: tensorflow-decision-forests>=1.5.0 in /usr/local/lib/python3.11/dist-packages (from tensorflowjs) (1.11.0)\n",
            "Requirement already satisfied: six<2,>=1.16.0 in /usr/local/lib/python3.11/dist-packages (from tensorflowjs) (1.17.0)\n",
            "Requirement already satisfied: tensorflow-hub>=0.16.1 in /usr/local/lib/python3.11/dist-packages (from tensorflowjs) (0.16.1)\n",
            "Collecting packaging~=23.1 (from tensorflowjs)\n",
            "  Downloading packaging-23.2-py3-none-any.whl.metadata (3.2 kB)\n",
            "Requirement already satisfied: numpy>=1.23.2 in /usr/local/lib/python3.11/dist-packages (from flax>=0.7.2->tensorflowjs) (2.0.2)\n",
            "Requirement already satisfied: msgpack in /usr/local/lib/python3.11/dist-packages (from flax>=0.7.2->tensorflowjs) (1.1.0)\n",
            "Requirement already satisfied: optax in /usr/local/lib/python3.11/dist-packages (from flax>=0.7.2->tensorflowjs) (0.2.4)\n",
            "Requirement already satisfied: orbax-checkpoint in /usr/local/lib/python3.11/dist-packages (from flax>=0.7.2->tensorflowjs) (0.11.12)\n",
            "Requirement already satisfied: tensorstore in /usr/local/lib/python3.11/dist-packages (from flax>=0.7.2->tensorflowjs) (0.1.73)\n",
            "Requirement already satisfied: rich>=11.1 in /usr/local/lib/python3.11/dist-packages (from flax>=0.7.2->tensorflowjs) (13.9.4)\n",
            "Requirement already satisfied: typing_extensions>=4.2 in /usr/local/lib/python3.11/dist-packages (from flax>=0.7.2->tensorflowjs) (4.13.2)\n",
            "Requirement already satisfied: PyYAML>=5.4.1 in /usr/local/lib/python3.11/dist-packages (from flax>=0.7.2->tensorflowjs) (6.0.2)\n",
            "Requirement already satisfied: treescope>=0.1.7 in /usr/local/lib/python3.11/dist-packages (from flax>=0.7.2->tensorflowjs) (0.1.9)\n",
            "Requirement already satisfied: ml_dtypes>=0.4.0 in /usr/local/lib/python3.11/dist-packages (from jax>=0.4.13->tensorflowjs) (0.4.1)\n",
            "Requirement already satisfied: opt_einsum in /usr/local/lib/python3.11/dist-packages (from jax>=0.4.13->tensorflowjs) (3.4.0)\n",
            "Requirement already satisfied: scipy>=1.11.1 in /usr/local/lib/python3.11/dist-packages (from jax>=0.4.13->tensorflowjs) (1.14.1)\n",
            "Requirement already satisfied: absl-py>=1.0.0 in /usr/local/lib/python3.11/dist-packages (from tensorflow<3,>=2.13.0->tensorflowjs) (1.4.0)\n",
            "Requirement already satisfied: astunparse>=1.6.0 in /usr/local/lib/python3.11/dist-packages (from tensorflow<3,>=2.13.0->tensorflowjs) (1.6.3)\n",
            "Requirement already satisfied: flatbuffers>=24.3.25 in /usr/local/lib/python3.11/dist-packages (from tensorflow<3,>=2.13.0->tensorflowjs) (25.2.10)\n",
            "Requirement already satisfied: gast!=0.5.0,!=0.5.1,!=0.5.2,>=0.2.1 in /usr/local/lib/python3.11/dist-packages (from tensorflow<3,>=2.13.0->tensorflowjs) (0.6.0)\n",
            "Requirement already satisfied: google-pasta>=0.1.1 in /usr/local/lib/python3.11/dist-packages (from tensorflow<3,>=2.13.0->tensorflowjs) (0.2.0)\n",
            "Requirement already satisfied: libclang>=13.0.0 in /usr/local/lib/python3.11/dist-packages (from tensorflow<3,>=2.13.0->tensorflowjs) (18.1.1)\n",
            "Requirement already satisfied: protobuf!=4.21.0,!=4.21.1,!=4.21.2,!=4.21.3,!=4.21.4,!=4.21.5,<6.0.0dev,>=3.20.3 in /usr/local/lib/python3.11/dist-packages (from tensorflow<3,>=2.13.0->tensorflowjs) (5.29.4)\n",
            "Requirement already satisfied: requests<3,>=2.21.0 in /usr/local/lib/python3.11/dist-packages (from tensorflow<3,>=2.13.0->tensorflowjs) (2.32.3)\n",
            "Requirement already satisfied: setuptools in /usr/local/lib/python3.11/dist-packages (from tensorflow<3,>=2.13.0->tensorflowjs) (75.2.0)\n",
            "Requirement already satisfied: termcolor>=1.1.0 in /usr/local/lib/python3.11/dist-packages (from tensorflow<3,>=2.13.0->tensorflowjs) (3.0.1)\n",
            "Requirement already satisfied: wrapt>=1.11.0 in /usr/local/lib/python3.11/dist-packages (from tensorflow<3,>=2.13.0->tensorflowjs) (1.17.2)\n",
            "Requirement already satisfied: grpcio<2.0,>=1.24.3 in /usr/local/lib/python3.11/dist-packages (from tensorflow<3,>=2.13.0->tensorflowjs) (1.71.0)\n",
            "Requirement already satisfied: tensorboard<2.19,>=2.18 in /usr/local/lib/python3.11/dist-packages (from tensorflow<3,>=2.13.0->tensorflowjs) (2.18.0)\n",
            "Requirement already satisfied: keras>=3.5.0 in /usr/local/lib/python3.11/dist-packages (from tensorflow<3,>=2.13.0->tensorflowjs) (3.8.0)\n",
            "Requirement already satisfied: h5py>=3.11.0 in /usr/local/lib/python3.11/dist-packages (from tensorflow<3,>=2.13.0->tensorflowjs) (3.13.0)\n",
            "Requirement already satisfied: tensorflow-io-gcs-filesystem>=0.23.1 in /usr/local/lib/python3.11/dist-packages (from tensorflow<3,>=2.13.0->tensorflowjs) (0.37.1)\n",
            "Requirement already satisfied: pandas in /usr/local/lib/python3.11/dist-packages (from tensorflow-decision-forests>=1.5.0->tensorflowjs) (2.2.2)\n",
            "Requirement already satisfied: wheel in /usr/local/lib/python3.11/dist-packages (from tensorflow-decision-forests>=1.5.0->tensorflowjs) (0.45.1)\n",
            "Requirement already satisfied: wurlitzer in /usr/local/lib/python3.11/dist-packages (from tensorflow-decision-forests>=1.5.0->tensorflowjs) (3.1.1)\n",
            "Requirement already satisfied: ydf in /usr/local/lib/python3.11/dist-packages (from tensorflow-decision-forests>=1.5.0->tensorflowjs) (0.11.0)\n",
            "Requirement already satisfied: namex in /usr/local/lib/python3.11/dist-packages (from keras>=3.5.0->tensorflow<3,>=2.13.0->tensorflowjs) (0.0.9)\n",
            "Requirement already satisfied: optree in /usr/local/lib/python3.11/dist-packages (from keras>=3.5.0->tensorflow<3,>=2.13.0->tensorflowjs) (0.15.0)\n",
            "Requirement already satisfied: charset-normalizer<4,>=2 in /usr/local/lib/python3.11/dist-packages (from requests<3,>=2.21.0->tensorflow<3,>=2.13.0->tensorflowjs) (3.4.1)\n",
            "Requirement already satisfied: idna<4,>=2.5 in /usr/local/lib/python3.11/dist-packages (from requests<3,>=2.21.0->tensorflow<3,>=2.13.0->tensorflowjs) (3.10)\n",
            "Requirement already satisfied: urllib3<3,>=1.21.1 in /usr/local/lib/python3.11/dist-packages (from requests<3,>=2.21.0->tensorflow<3,>=2.13.0->tensorflowjs) (2.3.0)\n",
            "Requirement already satisfied: certifi>=2017.4.17 in /usr/local/lib/python3.11/dist-packages (from requests<3,>=2.21.0->tensorflow<3,>=2.13.0->tensorflowjs) (2025.1.31)\n",
            "Requirement already satisfied: markdown-it-py>=2.2.0 in /usr/local/lib/python3.11/dist-packages (from rich>=11.1->flax>=0.7.2->tensorflowjs) (3.0.0)\n",
            "Requirement already satisfied: pygments<3.0.0,>=2.13.0 in /usr/local/lib/python3.11/dist-packages (from rich>=11.1->flax>=0.7.2->tensorflowjs) (2.18.0)\n",
            "Requirement already satisfied: markdown>=2.6.8 in /usr/local/lib/python3.11/dist-packages (from tensorboard<2.19,>=2.18->tensorflow<3,>=2.13.0->tensorflowjs) (3.8)\n",
            "Requirement already satisfied: tensorboard-data-server<0.8.0,>=0.7.0 in /usr/local/lib/python3.11/dist-packages (from tensorboard<2.19,>=2.18->tensorflow<3,>=2.13.0->tensorflowjs) (0.7.2)\n",
            "Requirement already satisfied: werkzeug>=1.0.1 in /usr/local/lib/python3.11/dist-packages (from tensorboard<2.19,>=2.18->tensorflow<3,>=2.13.0->tensorflowjs) (3.1.3)\n",
            "Requirement already satisfied: chex>=0.1.87 in /usr/local/lib/python3.11/dist-packages (from optax->flax>=0.7.2->tensorflowjs) (0.1.89)\n",
            "Requirement already satisfied: etils[epy] in /usr/local/lib/python3.11/dist-packages (from optax->flax>=0.7.2->tensorflowjs) (1.12.2)\n",
            "Requirement already satisfied: nest_asyncio in /usr/local/lib/python3.11/dist-packages (from orbax-checkpoint->flax>=0.7.2->tensorflowjs) (1.6.0)\n",
            "Requirement already satisfied: humanize in /usr/local/lib/python3.11/dist-packages (from orbax-checkpoint->flax>=0.7.2->tensorflowjs) (4.12.2)\n",
            "Requirement already satisfied: simplejson>=3.16.0 in /usr/local/lib/python3.11/dist-packages (from orbax-checkpoint->flax>=0.7.2->tensorflowjs) (3.20.1)\n",
            "Requirement already satisfied: python-dateutil>=2.8.2 in /usr/local/lib/python3.11/dist-packages (from pandas->tensorflow-decision-forests>=1.5.0->tensorflowjs) (2.8.2)\n",
            "Requirement already satisfied: pytz>=2020.1 in /usr/local/lib/python3.11/dist-packages (from pandas->tensorflow-decision-forests>=1.5.0->tensorflowjs) (2025.2)\n",
            "Requirement already satisfied: tzdata>=2022.7 in /usr/local/lib/python3.11/dist-packages (from pandas->tensorflow-decision-forests>=1.5.0->tensorflowjs) (2025.2)\n",
            "Requirement already satisfied: toolz>=0.9.0 in /usr/local/lib/python3.11/dist-packages (from chex>=0.1.87->optax->flax>=0.7.2->tensorflowjs) (0.12.1)\n",
            "Requirement already satisfied: mdurl~=0.1 in /usr/local/lib/python3.11/dist-packages (from markdown-it-py>=2.2.0->rich>=11.1->flax>=0.7.2->tensorflowjs) (0.1.2)\n",
            "Requirement already satisfied: MarkupSafe>=2.1.1 in /usr/local/lib/python3.11/dist-packages (from werkzeug>=1.0.1->tensorboard<2.19,>=2.18->tensorflow<3,>=2.13.0->tensorflowjs) (3.0.2)\n",
            "Requirement already satisfied: fsspec in /usr/local/lib/python3.11/dist-packages (from etils[epath,epy]->orbax-checkpoint->flax>=0.7.2->tensorflowjs) (2025.3.2)\n",
            "Requirement already satisfied: zipp in /usr/local/lib/python3.11/dist-packages (from etils[epath,epy]->orbax-checkpoint->flax>=0.7.2->tensorflowjs) (3.21.0)\n",
            "Downloading tensorflowjs-4.22.0-py3-none-any.whl (89 kB)\n",
            "\u001b[2K   \u001b[90m━━━━━━━━━━━━━━━━━━━━━━━━━━━━━━━━━━━━━━━━\u001b[0m \u001b[32m89.1/89.1 kB\u001b[0m \u001b[31m2.3 MB/s\u001b[0m eta \u001b[36m0:00:00\u001b[0m\n",
            "\u001b[?25hDownloading packaging-23.2-py3-none-any.whl (53 kB)\n",
            "\u001b[2K   \u001b[90m━━━━━━━━━━━━━━━━━━━━━━━━━━━━━━━━━━━━━━━━\u001b[0m \u001b[32m53.0/53.0 kB\u001b[0m \u001b[31m4.4 MB/s\u001b[0m eta \u001b[36m0:00:00\u001b[0m\n",
            "\u001b[?25hInstalling collected packages: packaging, tensorflowjs\n",
            "  Attempting uninstall: packaging\n",
            "    Found existing installation: packaging 24.2\n",
            "    Uninstalling packaging-24.2:\n",
            "      Successfully uninstalled packaging-24.2\n",
            "\u001b[31mERROR: pip's dependency resolver does not currently take into account all the packages that are installed. This behaviour is the source of the following dependency conflicts.\n",
            "google-cloud-bigquery 3.31.0 requires packaging>=24.2.0, but you have packaging 23.2 which is incompatible.\u001b[0m\u001b[31m\n",
            "\u001b[0mSuccessfully installed packaging-23.2 tensorflowjs-4.22.0\n"
          ]
        }
      ]
    },
    {
      "cell_type": "code",
      "execution_count": 48,
      "metadata": {
        "id": "hZvGBpYoYFSl",
        "colab": {
          "base_uri": "https://localhost:8080/",
          "height": 1000
        },
        "outputId": "d6577b06-cb92-47c9-b660-4a773856904a"
      },
      "outputs": [
        {
          "output_type": "stream",
          "name": "stdout",
          "text": [
            "\n",
            "🛠️ Exporting model...\n",
            "Saved artifact at '/tmp/tmp76x09y57'. The following endpoints are available:\n",
            "\n",
            "* Endpoint 'serve'\n",
            "  args_0 (POSITIONAL_ONLY): TensorSpec(shape=(None, 224, 224, 3), dtype=tf.float32, name='input_layer_7')\n",
            "Output Type:\n",
            "  TensorSpec(shape=(None, 5), dtype=tf.float32, name=None)\n",
            "Captures:\n",
            "  139523944585488: TensorSpec(shape=(), dtype=tf.resource, name=None)\n",
            "  139523944589136: TensorSpec(shape=(), dtype=tf.resource, name=None)\n",
            "  139523944587024: TensorSpec(shape=(), dtype=tf.resource, name=None)\n",
            "  139523944588176: TensorSpec(shape=(), dtype=tf.resource, name=None)\n",
            "  139523944579536: TensorSpec(shape=(), dtype=tf.resource, name=None)\n",
            "  139523944585680: TensorSpec(shape=(), dtype=tf.resource, name=None)\n",
            "  139523944583568: TensorSpec(shape=(), dtype=tf.resource, name=None)\n",
            "  139523944584336: TensorSpec(shape=(), dtype=tf.resource, name=None)\n",
            "  139523944582992: TensorSpec(shape=(), dtype=tf.resource, name=None)\n",
            "  139523944579920: TensorSpec(shape=(), dtype=tf.resource, name=None)\n",
            "  139523944580880: TensorSpec(shape=(), dtype=tf.resource, name=None)\n",
            "  139523944586832: TensorSpec(shape=(), dtype=tf.resource, name=None)\n",
            "  139523944583952: TensorSpec(shape=(), dtype=tf.resource, name=None)\n",
            "  139523944583760: TensorSpec(shape=(), dtype=tf.resource, name=None)\n",
            "  139523944587408: TensorSpec(shape=(), dtype=tf.resource, name=None)\n",
            "  139523940823312: TensorSpec(shape=(), dtype=tf.resource, name=None)\n",
            "  139523940820816: TensorSpec(shape=(), dtype=tf.resource, name=None)\n",
            "  139523940822352: TensorSpec(shape=(), dtype=tf.resource, name=None)\n",
            "  139523940822736: TensorSpec(shape=(), dtype=tf.resource, name=None)\n",
            "  139523940818896: TensorSpec(shape=(), dtype=tf.resource, name=None)\n",
            "  139523940826768: TensorSpec(shape=(), dtype=tf.resource, name=None)\n",
            "  139523940826000: TensorSpec(shape=(), dtype=tf.resource, name=None)\n",
            "  139523940826576: TensorSpec(shape=(), dtype=tf.resource, name=None)\n",
            "  139523940826960: TensorSpec(shape=(), dtype=tf.resource, name=None)\n",
            "  139523940822928: TensorSpec(shape=(), dtype=tf.resource, name=None)\n",
            "  139523940821584: TensorSpec(shape=(), dtype=tf.resource, name=None)\n",
            "  139523940821968: TensorSpec(shape=(), dtype=tf.resource, name=None)\n",
            "  139523940821776: TensorSpec(shape=(), dtype=tf.resource, name=None)\n",
            "  139523940818512: TensorSpec(shape=(), dtype=tf.resource, name=None)\n",
            "  139523940826192: TensorSpec(shape=(), dtype=tf.resource, name=None)\n",
            "  139523940811024: TensorSpec(shape=(), dtype=tf.resource, name=None)\n",
            "  139523940812176: TensorSpec(shape=(), dtype=tf.resource, name=None)\n",
            "  139523940813328: TensorSpec(shape=(), dtype=tf.resource, name=None)\n",
            "  139523940810832: TensorSpec(shape=(), dtype=tf.resource, name=None)\n",
            "  139523940820432: TensorSpec(shape=(), dtype=tf.resource, name=None)\n",
            "  139523940811408: TensorSpec(shape=(), dtype=tf.resource, name=None)\n",
            "  139523940813712: TensorSpec(shape=(), dtype=tf.resource, name=None)\n",
            "  139523940815248: TensorSpec(shape=(), dtype=tf.resource, name=None)\n",
            "  139523940811216: TensorSpec(shape=(), dtype=tf.resource, name=None)\n",
            "  139523940825808: TensorSpec(shape=(), dtype=tf.resource, name=None)\n",
            "  139523940812752: TensorSpec(shape=(), dtype=tf.resource, name=None)\n",
            "  139523940815632: TensorSpec(shape=(), dtype=tf.resource, name=None)\n",
            "  139523940817168: TensorSpec(shape=(), dtype=tf.resource, name=None)\n",
            "  139523940812368: TensorSpec(shape=(), dtype=tf.resource, name=None)\n",
            "  139523940811984: TensorSpec(shape=(), dtype=tf.resource, name=None)\n",
            "  139523940814672: TensorSpec(shape=(), dtype=tf.resource, name=None)\n",
            "  139523940817552: TensorSpec(shape=(), dtype=tf.resource, name=None)\n",
            "  139523940819088: TensorSpec(shape=(), dtype=tf.resource, name=None)\n",
            "  139523940813136: TensorSpec(shape=(), dtype=tf.resource, name=None)\n",
            "  139523940814864: TensorSpec(shape=(), dtype=tf.resource, name=None)\n",
            "  139523940816592: TensorSpec(shape=(), dtype=tf.resource, name=None)\n",
            "  139523940820624: TensorSpec(shape=(), dtype=tf.resource, name=None)\n",
            "  139523940818704: TensorSpec(shape=(), dtype=tf.resource, name=None)\n",
            "  139523940815056: TensorSpec(shape=(), dtype=tf.resource, name=None)\n",
            "  139523940816784: TensorSpec(shape=(), dtype=tf.resource, name=None)\n",
            "  139523940820240: TensorSpec(shape=(), dtype=tf.resource, name=None)\n",
            "  139523934272592: TensorSpec(shape=(), dtype=tf.resource, name=None)\n",
            "  139523934265296: TensorSpec(shape=(), dtype=tf.resource, name=None)\n",
            "  139523934269136: TensorSpec(shape=(), dtype=tf.resource, name=None)\n",
            "  139523934264720: TensorSpec(shape=(), dtype=tf.resource, name=None)\n",
            "  139523934272400: TensorSpec(shape=(), dtype=tf.resource, name=None)\n",
            "  139523934272784: TensorSpec(shape=(), dtype=tf.resource, name=None)\n",
            "  139523934268752: TensorSpec(shape=(), dtype=tf.resource, name=None)\n",
            "  139523934272208: TensorSpec(shape=(), dtype=tf.resource, name=None)\n",
            "  139523934270672: TensorSpec(shape=(), dtype=tf.resource, name=None)\n",
            "  139523934270480: TensorSpec(shape=(), dtype=tf.resource, name=None)\n",
            "  139523934270864: TensorSpec(shape=(), dtype=tf.resource, name=None)\n",
            "  139523934267024: TensorSpec(shape=(), dtype=tf.resource, name=None)\n",
            "  139523934270288: TensorSpec(shape=(), dtype=tf.resource, name=None)\n",
            "  139523934263760: TensorSpec(shape=(), dtype=tf.resource, name=None)\n",
            "  139523934268560: TensorSpec(shape=(), dtype=tf.resource, name=None)\n",
            "  139523934268944: TensorSpec(shape=(), dtype=tf.resource, name=None)\n",
            "  139523934266640: TensorSpec(shape=(), dtype=tf.resource, name=None)\n",
            "  139523934268176: TensorSpec(shape=(), dtype=tf.resource, name=None)\n",
            "  139523934273168: TensorSpec(shape=(), dtype=tf.resource, name=None)\n",
            "  139523934269712: TensorSpec(shape=(), dtype=tf.resource, name=None)\n",
            "  139523925383440: TensorSpec(shape=(), dtype=tf.resource, name=None)\n",
            "  139523925381904: TensorSpec(shape=(), dtype=tf.resource, name=None)\n",
            "  139523934266448: TensorSpec(shape=(), dtype=tf.resource, name=None)\n",
            "  139523934271248: TensorSpec(shape=(), dtype=tf.resource, name=None)\n",
            "  139523925383824: TensorSpec(shape=(), dtype=tf.resource, name=None)\n",
            "  139523925383248: TensorSpec(shape=(), dtype=tf.resource, name=None)\n",
            "  139523925387280: TensorSpec(shape=(), dtype=tf.resource, name=None)\n",
            "  139523925384208: TensorSpec(shape=(), dtype=tf.resource, name=None)\n",
            "  139523925377296: TensorSpec(shape=(), dtype=tf.resource, name=None)\n",
            "  139523925382096: TensorSpec(shape=(), dtype=tf.resource, name=None)\n",
            "  139523925385936: TensorSpec(shape=(), dtype=tf.resource, name=None)\n",
            "  139523925385552: TensorSpec(shape=(), dtype=tf.resource, name=None)\n",
            "  139523925384784: TensorSpec(shape=(), dtype=tf.resource, name=None)\n",
            "  139523925380176: TensorSpec(shape=(), dtype=tf.resource, name=None)\n",
            "  139523925385168: TensorSpec(shape=(), dtype=tf.resource, name=None)\n",
            "  139523925384592: TensorSpec(shape=(), dtype=tf.resource, name=None)\n",
            "  139523925389584: TensorSpec(shape=(), dtype=tf.resource, name=None)\n",
            "  139523925390160: TensorSpec(shape=(), dtype=tf.resource, name=None)\n",
            "  139523925384400: TensorSpec(shape=(), dtype=tf.resource, name=None)\n",
            "  139523925387472: TensorSpec(shape=(), dtype=tf.resource, name=None)\n",
            "  139523925391120: TensorSpec(shape=(), dtype=tf.resource, name=None)\n",
            "  139523925390736: TensorSpec(shape=(), dtype=tf.resource, name=None)\n",
            "  139523925392464: TensorSpec(shape=(), dtype=tf.resource, name=None)\n",
            "  139523925386704: TensorSpec(shape=(), dtype=tf.resource, name=None)\n",
            "  139523925389968: TensorSpec(shape=(), dtype=tf.resource, name=None)\n",
            "  139523925389008: TensorSpec(shape=(), dtype=tf.resource, name=None)\n",
            "  139523925388816: TensorSpec(shape=(), dtype=tf.resource, name=None)\n",
            "  139523925393232: TensorSpec(shape=(), dtype=tf.resource, name=None)\n",
            "  139523925386896: TensorSpec(shape=(), dtype=tf.resource, name=None)\n",
            "  139523925386512: TensorSpec(shape=(), dtype=tf.resource, name=None)\n",
            "  139523925392656: TensorSpec(shape=(), dtype=tf.resource, name=None)\n",
            "  139523925391504: TensorSpec(shape=(), dtype=tf.resource, name=None)\n",
            "  139523925388432: TensorSpec(shape=(), dtype=tf.resource, name=None)\n",
            "  139523925388624: TensorSpec(shape=(), dtype=tf.resource, name=None)\n",
            "  139523925391312: TensorSpec(shape=(), dtype=tf.resource, name=None)\n",
            "  139523629849808: TensorSpec(shape=(), dtype=tf.resource, name=None)\n",
            "  139523629850768: TensorSpec(shape=(), dtype=tf.resource, name=None)\n",
            "  139523629851344: TensorSpec(shape=(), dtype=tf.resource, name=None)\n",
            "  139523629854224: TensorSpec(shape=(), dtype=tf.resource, name=None)\n",
            "  139523629852304: TensorSpec(shape=(), dtype=tf.resource, name=None)\n",
            "  139523629852112: TensorSpec(shape=(), dtype=tf.resource, name=None)\n",
            "  139523629849616: TensorSpec(shape=(), dtype=tf.resource, name=None)\n",
            "  139523629851536: TensorSpec(shape=(), dtype=tf.resource, name=None)\n",
            "  139523629850960: TensorSpec(shape=(), dtype=tf.resource, name=None)\n",
            "  139523942235792: TensorSpec(shape=(), dtype=tf.resource, name=None)\n",
            "  139523942235216: TensorSpec(shape=(), dtype=tf.resource, name=None)\n",
            "  139523942235600: TensorSpec(shape=(), dtype=tf.resource, name=None)\n",
            "  139523942234640: TensorSpec(shape=(), dtype=tf.resource, name=None)\n",
            "  139523942235984: TensorSpec(shape=(), dtype=tf.resource, name=None)\n",
            "  139523942234064: TensorSpec(shape=(), dtype=tf.resource, name=None)\n",
            "  139523942233296: TensorSpec(shape=(), dtype=tf.resource, name=None)\n",
            "  139523942233680: TensorSpec(shape=(), dtype=tf.resource, name=None)\n",
            "  139523942232720: TensorSpec(shape=(), dtype=tf.resource, name=None)\n",
            "  139523942225040: TensorSpec(shape=(), dtype=tf.resource, name=None)\n",
            "  139523942232144: TensorSpec(shape=(), dtype=tf.resource, name=None)\n",
            "  139523942231376: TensorSpec(shape=(), dtype=tf.resource, name=None)\n",
            "  139523942231760: TensorSpec(shape=(), dtype=tf.resource, name=None)\n",
            "  139523942230800: TensorSpec(shape=(), dtype=tf.resource, name=None)\n",
            "  139523942233872: TensorSpec(shape=(), dtype=tf.resource, name=None)\n",
            "  139523942230224: TensorSpec(shape=(), dtype=tf.resource, name=None)\n",
            "  139523942227536: TensorSpec(shape=(), dtype=tf.resource, name=None)\n",
            "  139523942227920: TensorSpec(shape=(), dtype=tf.resource, name=None)\n",
            "  139523942226960: TensorSpec(shape=(), dtype=tf.resource, name=None)\n",
            "  139523942234448: TensorSpec(shape=(), dtype=tf.resource, name=None)\n",
            "  139523942223888: TensorSpec(shape=(), dtype=tf.resource, name=None)\n",
            "  139523942223120: TensorSpec(shape=(), dtype=tf.resource, name=None)\n",
            "  139523942226576: TensorSpec(shape=(), dtype=tf.resource, name=None)\n",
            "  139523942226384: TensorSpec(shape=(), dtype=tf.resource, name=None)\n",
            "  139523942232528: TensorSpec(shape=(), dtype=tf.resource, name=None)\n",
            "  139523942224848: TensorSpec(shape=(), dtype=tf.resource, name=None)\n",
            "  139523942222928: TensorSpec(shape=(), dtype=tf.resource, name=None)\n",
            "  139523942228496: TensorSpec(shape=(), dtype=tf.resource, name=None)\n",
            "  139523942228304: TensorSpec(shape=(), dtype=tf.resource, name=None)\n",
            "  139523942230608: TensorSpec(shape=(), dtype=tf.resource, name=None)\n",
            "  139523942225808: TensorSpec(shape=(), dtype=tf.resource, name=None)\n",
            "  139523942228688: TensorSpec(shape=(), dtype=tf.resource, name=None)\n",
            "  139523942220624: TensorSpec(shape=(), dtype=tf.resource, name=None)\n",
            "  139523942225424: TensorSpec(shape=(), dtype=tf.resource, name=None)\n",
            "  139523942226768: TensorSpec(shape=(), dtype=tf.resource, name=None)\n",
            "  139523942221008: TensorSpec(shape=(), dtype=tf.resource, name=None)\n",
            "  139523942221776: TensorSpec(shape=(), dtype=tf.resource, name=None)\n",
            "  139523942222544: TensorSpec(shape=(), dtype=tf.resource, name=None)\n",
            "  139523942219856: TensorSpec(shape=(), dtype=tf.resource, name=None)\n",
            "  139523942225232: TensorSpec(shape=(), dtype=tf.resource, name=None)\n",
            "  139523942235408: TensorSpec(shape=(), dtype=tf.resource, name=None)\n",
            "  139523630860432: TensorSpec(shape=(), dtype=tf.resource, name=None)\n",
            "  139523630860624: TensorSpec(shape=(), dtype=tf.resource, name=None)\n",
            "  139523942229840: TensorSpec(shape=(), dtype=tf.resource, name=None)\n",
            "  139523630860240: TensorSpec(shape=(), dtype=tf.resource, name=None)\n",
            "  139523630861968: TensorSpec(shape=(), dtype=tf.resource, name=None)\n",
            "  139523630862352: TensorSpec(shape=(), dtype=tf.resource, name=None)\n",
            "  139523630862160: TensorSpec(shape=(), dtype=tf.resource, name=None)\n",
            "  139523630858512: TensorSpec(shape=(), dtype=tf.resource, name=None)\n",
            "  139523630860048: TensorSpec(shape=(), dtype=tf.resource, name=None)\n",
            "  139523630863888: TensorSpec(shape=(), dtype=tf.resource, name=None)\n",
            "  139523630864272: TensorSpec(shape=(), dtype=tf.resource, name=None)\n",
            "  139523630864080: TensorSpec(shape=(), dtype=tf.resource, name=None)\n",
            "  139523630860816: TensorSpec(shape=(), dtype=tf.resource, name=None)\n",
            "  139523630858320: TensorSpec(shape=(), dtype=tf.resource, name=None)\n",
            "  139523630865808: TensorSpec(shape=(), dtype=tf.resource, name=None)\n",
            "  139523630866192: TensorSpec(shape=(), dtype=tf.resource, name=None)\n",
            "  139523630866000: TensorSpec(shape=(), dtype=tf.resource, name=None)\n",
            "  139523630862736: TensorSpec(shape=(), dtype=tf.resource, name=None)\n",
            "  139523630861584: TensorSpec(shape=(), dtype=tf.resource, name=None)\n",
            "  139523630873680: TensorSpec(shape=(), dtype=tf.resource, name=None)\n",
            "  139523630868496: TensorSpec(shape=(), dtype=tf.resource, name=None)\n",
            "  139523630872912: TensorSpec(shape=(), dtype=tf.resource, name=None)\n",
            "  139523630870224: TensorSpec(shape=(), dtype=tf.resource, name=None)\n",
            "  139523630863504: TensorSpec(shape=(), dtype=tf.resource, name=None)\n",
            "  139523630864656: TensorSpec(shape=(), dtype=tf.resource, name=None)\n",
            "  139523630871184: TensorSpec(shape=(), dtype=tf.resource, name=None)\n",
            "  139523630869840: TensorSpec(shape=(), dtype=tf.resource, name=None)\n",
            "  139523630870032: TensorSpec(shape=(), dtype=tf.resource, name=None)\n",
            "  139523630865424: TensorSpec(shape=(), dtype=tf.resource, name=None)\n",
            "  139523630870416: TensorSpec(shape=(), dtype=tf.resource, name=None)\n",
            "  139523630869072: TensorSpec(shape=(), dtype=tf.resource, name=None)\n",
            "  139523630866960: TensorSpec(shape=(), dtype=tf.resource, name=None)\n",
            "  139523630867536: TensorSpec(shape=(), dtype=tf.resource, name=None)\n",
            "  139523630873296: TensorSpec(shape=(), dtype=tf.resource, name=None)\n",
            "  139523630869648: TensorSpec(shape=(), dtype=tf.resource, name=None)\n",
            "  139523935736400: TensorSpec(shape=(), dtype=tf.resource, name=None)\n",
            "  139523935742928: TensorSpec(shape=(), dtype=tf.resource, name=None)\n",
            "  139523630868112: TensorSpec(shape=(), dtype=tf.resource, name=None)\n",
            "  139523935740624: TensorSpec(shape=(), dtype=tf.resource, name=None)\n",
            "  139523935741776: TensorSpec(shape=(), dtype=tf.resource, name=None)\n",
            "  139523935743312: TensorSpec(shape=(), dtype=tf.resource, name=None)\n",
            "  139523935742160: TensorSpec(shape=(), dtype=tf.resource, name=None)\n",
            "  139523935732176: TensorSpec(shape=(), dtype=tf.resource, name=None)\n",
            "  139523935736016: TensorSpec(shape=(), dtype=tf.resource, name=None)\n",
            "  139523935744464: TensorSpec(shape=(), dtype=tf.resource, name=None)\n",
            "  139521612760080: TensorSpec(shape=(), dtype=tf.resource, name=None)\n",
            "  139521612761232: TensorSpec(shape=(), dtype=tf.resource, name=None)\n",
            "  139521612760848: TensorSpec(shape=(), dtype=tf.resource, name=None)\n",
            "  139521612761616: TensorSpec(shape=(), dtype=tf.resource, name=None)\n",
            "  139521612762960: TensorSpec(shape=(), dtype=tf.resource, name=None)\n",
            "  139521612763344: TensorSpec(shape=(), dtype=tf.resource, name=None)\n",
            "  139521612763728: TensorSpec(shape=(), dtype=tf.resource, name=None)\n",
            "  139521612763536: TensorSpec(shape=(), dtype=tf.resource, name=None)\n",
            "  139521612761808: TensorSpec(shape=(), dtype=tf.resource, name=None)\n",
            "  139521612764880: TensorSpec(shape=(), dtype=tf.resource, name=None)\n",
            "  139521612765264: TensorSpec(shape=(), dtype=tf.resource, name=None)\n",
            "  139521612765648: TensorSpec(shape=(), dtype=tf.resource, name=None)\n",
            "  139521612765456: TensorSpec(shape=(), dtype=tf.resource, name=None)\n",
            "  139521612761040: TensorSpec(shape=(), dtype=tf.resource, name=None)\n",
            "  139521612766800: TensorSpec(shape=(), dtype=tf.resource, name=None)\n",
            "  139521612767184: TensorSpec(shape=(), dtype=tf.resource, name=None)\n",
            "  139521612767568: TensorSpec(shape=(), dtype=tf.resource, name=None)\n",
            "  139521612767376: TensorSpec(shape=(), dtype=tf.resource, name=None)\n",
            "  139521612762576: TensorSpec(shape=(), dtype=tf.resource, name=None)\n",
            "  139521612768720: TensorSpec(shape=(), dtype=tf.resource, name=None)\n",
            "  139521612769104: TensorSpec(shape=(), dtype=tf.resource, name=None)\n",
            "  139521612769488: TensorSpec(shape=(), dtype=tf.resource, name=None)\n",
            "  139521612769296: TensorSpec(shape=(), dtype=tf.resource, name=None)\n",
            "  139521612764496: TensorSpec(shape=(), dtype=tf.resource, name=None)\n",
            "  139521612770640: TensorSpec(shape=(), dtype=tf.resource, name=None)\n",
            "  139521612771024: TensorSpec(shape=(), dtype=tf.resource, name=None)\n",
            "  139521612771408: TensorSpec(shape=(), dtype=tf.resource, name=None)\n",
            "  139521612771216: TensorSpec(shape=(), dtype=tf.resource, name=None)\n",
            "  139521612766416: TensorSpec(shape=(), dtype=tf.resource, name=None)\n",
            "  139521612772560: TensorSpec(shape=(), dtype=tf.resource, name=None)\n",
            "  139521612772944: TensorSpec(shape=(), dtype=tf.resource, name=None)\n",
            "  139521612773328: TensorSpec(shape=(), dtype=tf.resource, name=None)\n",
            "  139521612773136: TensorSpec(shape=(), dtype=tf.resource, name=None)\n",
            "  139521612768336: TensorSpec(shape=(), dtype=tf.resource, name=None)\n",
            "  139521612774480: TensorSpec(shape=(), dtype=tf.resource, name=None)\n",
            "  139521612774096: TensorSpec(shape=(), dtype=tf.resource, name=None)\n",
            "  139521612773712: TensorSpec(shape=(), dtype=tf.resource, name=None)\n",
            "  139521612775056: TensorSpec(shape=(), dtype=tf.resource, name=None)\n",
            "  139521612770256: TensorSpec(shape=(), dtype=tf.resource, name=None)\n",
            "  139521612772176: TensorSpec(shape=(), dtype=tf.resource, name=None)\n",
            "  139521275446672: TensorSpec(shape=(), dtype=tf.resource, name=None)\n",
            "  139521275447056: TensorSpec(shape=(), dtype=tf.resource, name=None)\n",
            "  139521275446864: TensorSpec(shape=(), dtype=tf.resource, name=None)\n",
            "  139521275445520: TensorSpec(shape=(), dtype=tf.resource, name=None)\n",
            "  139521275448208: TensorSpec(shape=(), dtype=tf.resource, name=None)\n",
            "  139521275448592: TensorSpec(shape=(), dtype=tf.resource, name=None)\n",
            "  139521275448976: TensorSpec(shape=(), dtype=tf.resource, name=None)\n",
            "  139521275448784: TensorSpec(shape=(), dtype=tf.resource, name=None)\n",
            "  139521275445328: TensorSpec(shape=(), dtype=tf.resource, name=None)\n",
            "  139521275450128: TensorSpec(shape=(), dtype=tf.resource, name=None)\n",
            "  139521275450512: TensorSpec(shape=(), dtype=tf.resource, name=None)\n",
            "  139521275450896: TensorSpec(shape=(), dtype=tf.resource, name=None)\n",
            "  139521275450704: TensorSpec(shape=(), dtype=tf.resource, name=None)\n",
            "  139521275446288: TensorSpec(shape=(), dtype=tf.resource, name=None)\n",
            "  139521275452048: TensorSpec(shape=(), dtype=tf.resource, name=None)\n",
            "  139521275453392: TensorSpec(shape=(), dtype=tf.resource, name=None)\n",
            "  139521275452432: TensorSpec(shape=(), dtype=tf.resource, name=None)\n",
            "  139521275454352: TensorSpec(shape=(), dtype=tf.resource, name=None)\n",
            "  139521275449744: TensorSpec(shape=(), dtype=tf.resource, name=None)\n",
            "  139521275455696: TensorSpec(shape=(), dtype=tf.resource, name=None)\n"
          ]
        },
        {
          "output_type": "display_data",
          "data": {
            "text/plain": [
              "<IPython.core.display.HTML object>"
            ],
            "text/html": [
              "\n",
              "<p style=\"margin:0px;\">🌲 Try <a href=\"https://ydf.readthedocs.io/en/latest/\" target=\"_blank\">YDF</a>, the successor of\n",
              "    <a href=\"https://www.tensorflow.org/decision_forests\" target=\"_blank\">TensorFlow\n",
              "        Decision Forests</a> using the same algorithms but with more features and faster\n",
              "    training!\n",
              "</p>\n",
              "<div style=\"display: flex; flex-wrap: wrap; margin:5px;max-width: 880px;\">\n",
              "    <div style=\"flex: 1; border-radius: 10px; background-color: F0F0F0; padding: 5px;\">\n",
              "        <p\n",
              "            style=\"font-weight: bold; margin:0px;text-align: center;border-bottom: 1px solid #C0C0C0;margin-bottom: 4px;\">\n",
              "            Old code</p>\n",
              "        <pre style=\"overflow-wrap: anywhere; overflow: auto; margin:0px;font-size: 9pt;\">\n",
              "import tensorflow_decision_forests as tfdf\n",
              "\n",
              "tf_ds = tfdf.keras.pd_dataframe_to_tf_dataset(ds, label=\"l\")\n",
              "model = tfdf.keras.RandomForestModel(label=\"l\")\n",
              "model.fit(tf_ds)\n",
              "</pre>\n",
              "    </div>\n",
              "    <div style=\"width: 5px;\"></div>\n",
              "    <div style=\"flex: 1; border-radius: 10px; background-color: F0F0F0; padding: 5px;\">\n",
              "        <p\n",
              "            style=\"font-weight: bold; margin:0px;text-align: center;border-bottom: 1px solid #C0C0C0;margin-bottom: 4px;\">\n",
              "            New code</p>\n",
              "        <pre style=\"overflow-wrap: anywhere; overflow: auto; margin:0px;font-size: 9pt;\">\n",
              "import ydf\n",
              "\n",
              "model = ydf.RandomForestLearner(label=\"l\").train(ds)\n",
              "</pre>\n",
              "    </div>\n",
              "</div>\n",
              "<p style=\"margin:0px;font-size: 9pt;\">(Learn more in the <a\n",
              "        href=\"https://ydf.readthedocs.io/en/latest/tutorial/migrating_to_ydf/\" target=\"_blank\">migration\n",
              "        guide</a>)</p>\n"
            ]
          },
          "metadata": {}
        },
        {
          "output_type": "stream",
          "name": "stderr",
          "text": [
            "WARNING:absl:You are saving your model as an HDF5 file via `model.save()` or `keras.saving.save_model(model)`. This file format is considered legacy. We recommend using instead the native Keras format, e.g. `model.save('my_model.keras')` or `keras.saving.save_model(model, 'my_model.keras')`. \n"
          ]
        },
        {
          "output_type": "stream",
          "name": "stdout",
          "text": [
            "failed to lookup keras version from the file,\n",
            "    this is likely a weight only file\n",
            "✅ Model exported in all formats\n"
          ]
        }
      ],
      "source": [
        "# Model Export Function\n",
        "def export_model(model, class_names):\n",
        "    # Create directories\n",
        "    os.makedirs('saved_model', exist_ok=True)\n",
        "    os.makedirs('tflite', exist_ok=True)\n",
        "    os.makedirs('tfjs_model', exist_ok=True)\n",
        "\n",
        "    # 1. Save in SavedModel format (for TF Serving/Cloud)\n",
        "    tf.saved_model.save(model, 'saved_model/my_model')  # Corrected this line\n",
        "\n",
        "    # 2. Convert to TFLite (for mobile devices)\n",
        "    converter = tf.lite.TFLiteConverter.from_keras_model(model)\n",
        "    tflite_model = converter.convert()\n",
        "    with open('tflite/model.tflite', 'wb') as f:\n",
        "        f.write(tflite_model)\n",
        "\n",
        "    # Save labels for TFLite\n",
        "    with open('tflite/labels.txt', 'w') as f:\n",
        "        f.write('\\n'.join(class_names))\n",
        "\n",
        "    # 3. Convert to TFJS (for web)\n",
        "    try:\n",
        "        import tensorflowjs as tfjs\n",
        "        tfjs.converters.save_keras_model(model, 'tfjs_model')\n",
        "    except ImportError:\n",
        "        print(\"⚠️ tensorflowjs not installed. Run: pip install tensorflowjs\")\n",
        "\n",
        "    print(\"✅ Model exported in all formats\")\n",
        "\n",
        "# Export the model\n",
        "print(\"\\n🛠️ Exporting model...\")\n",
        "export_model(model, class_names)"
      ]
    },
    {
      "cell_type": "code",
      "source": [
        "#Generate requirements.txt\n",
        "print(\"\\n📦 Generating requirements.txt...\")\n",
        "!pip freeze > requirements.txt\n",
        "\n",
        "print(\"\\n✅ All done! Model exported in all required formats.\")"
      ],
      "metadata": {
        "id": "IPi-kSkO25Zn",
        "colab": {
          "base_uri": "https://localhost:8080/"
        },
        "outputId": "7abfd8a4-5497-47ae-b7f4-126dc563ccd1"
      },
      "execution_count": 49,
      "outputs": [
        {
          "output_type": "stream",
          "name": "stdout",
          "text": [
            "\n",
            "📦 Generating requirements.txt...\n",
            "\n",
            "✅ All done! Model exported in all required formats.\n"
          ]
        }
      ]
    },
    {
      "cell_type": "code",
      "source": [
        "!zip -r submission.zip tfjs_model/ tflite/ saved_model/ requirements.txt"
      ],
      "metadata": {
        "id": "AjbhWlRzd4jI",
        "colab": {
          "base_uri": "https://localhost:8080/"
        },
        "outputId": "429ed0b4-958c-407f-fa63-95f5e4ae0eb3"
      },
      "execution_count": 50,
      "outputs": [
        {
          "output_type": "stream",
          "name": "stdout",
          "text": [
            "  adding: tfjs_model/ (stored 0%)\n",
            "  adding: tfjs_model/group1-shard3of3.bin (deflated 7%)\n",
            "  adding: tfjs_model/group1-shard2of3.bin (deflated 7%)\n",
            "  adding: tfjs_model/group1-shard1of3.bin (deflated 11%)\n",
            "  adding: tfjs_model/model.json (deflated 97%)\n",
            "  adding: tflite/ (stored 0%)\n",
            "  adding: tflite/labels.txt (stored 0%)\n",
            "  adding: tflite/model.tflite (deflated 9%)\n",
            "  adding: saved_model/ (stored 0%)\n",
            "  adding: saved_model/my_model/ (stored 0%)\n",
            "  adding: saved_model/my_model/saved_model.pb (deflated 92%)\n",
            "  adding: saved_model/my_model/fingerprint.pb (stored 0%)\n",
            "  adding: saved_model/my_model/variables/ (stored 0%)\n",
            "  adding: saved_model/my_model/variables/variables.index (deflated 77%)\n",
            "  adding: saved_model/my_model/variables/variables.data-00000-of-00001 (deflated 11%)\n",
            "  adding: saved_model/my_model/assets/ (stored 0%)\n",
            "  adding: requirements.txt (deflated 57%)\n"
          ]
        }
      ]
    },
    {
      "cell_type": "markdown",
      "source": [
        "## Inference (Optional)"
      ],
      "metadata": {
        "id": "8DbfEwvvm5U4"
      }
    },
    {
      "cell_type": "code",
      "source": [],
      "metadata": {
        "id": "ue5esMSSm8GQ"
      },
      "execution_count": null,
      "outputs": []
    }
  ]
}