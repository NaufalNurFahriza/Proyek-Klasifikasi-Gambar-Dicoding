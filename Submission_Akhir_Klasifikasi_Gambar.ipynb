{
  "nbformat": 4,
  "nbformat_minor": 0,
  "metadata": {
    "colab": {
      "provenance": [],
<<<<<<< HEAD
      "gpuType": "T4"
=======
      "gpuType": "T4",
      "include_colab_link": true
>>>>>>> 0de4e7be2dfb5b93b91f4cc71b4e69cdc2cae8bd
    },
    "kernelspec": {
      "name": "python3",
      "display_name": "Python 3"
    },
    "language_info": {
      "name": "python"
    },
    "accelerator": "GPU",
    "widgets": {
      "application/vnd.jupyter.widget-state+json": {
        "8fef4e2faab8421e95ac3f42d2d641d5": {
          "model_module": "@jupyter-widgets/controls",
          "model_name": "HBoxModel",
          "model_module_version": "1.5.0",
          "state": {
            "_dom_classes": [],
            "_model_module": "@jupyter-widgets/controls",
            "_model_module_version": "1.5.0",
            "_model_name": "HBoxModel",
            "_view_count": null,
            "_view_module": "@jupyter-widgets/controls",
            "_view_module_version": "1.5.0",
            "_view_name": "HBoxView",
            "box_style": "",
            "children": [
              "IPY_MODEL_9e08aae1aa214053834ff130bc396a9b",
              "IPY_MODEL_3e45ce762125479ca65ebea5eb89bc72",
              "IPY_MODEL_d71c8aa6ec2f4ccbb3e8f1e3d030d834"
            ],
            "layout": "IPY_MODEL_24003b663bcd42d3bbf58509a746a67e"
          }
        },
        "9e08aae1aa214053834ff130bc396a9b": {
          "model_module": "@jupyter-widgets/controls",
          "model_name": "HTMLModel",
          "model_module_version": "1.5.0",
          "state": {
            "_dom_classes": [],
            "_model_module": "@jupyter-widgets/controls",
            "_model_module_version": "1.5.0",
            "_model_name": "HTMLModel",
            "_view_count": null,
            "_view_module": "@jupyter-widgets/controls",
            "_view_module_version": "1.5.0",
            "_view_name": "HTMLView",
            "description": "",
            "description_tooltip": null,
            "layout": "IPY_MODEL_92bd318116654ae295a0ad39558e39b3",
            "placeholder": "​",
            "style": "IPY_MODEL_ad895ddaf48b4afbabb66131849d1ae7",
            "value": "100%"
          }
        },
        "3e45ce762125479ca65ebea5eb89bc72": {
          "model_module": "@jupyter-widgets/controls",
          "model_name": "FloatProgressModel",
          "model_module_version": "1.5.0",
          "state": {
            "_dom_classes": [],
            "_model_module": "@jupyter-widgets/controls",
            "_model_module_version": "1.5.0",
            "_model_name": "FloatProgressModel",
            "_view_count": null,
            "_view_module": "@jupyter-widgets/controls",
            "_view_module_version": "1.5.0",
            "_view_name": "ProgressView",
            "bar_style": "success",
            "description": "",
            "description_tooltip": null,
            "layout": "IPY_MODEL_18777ca440294590b51e24f7133ee9aa",
            "max": 5494,
            "min": 0,
            "orientation": "horizontal",
            "style": "IPY_MODEL_03c9509ca43842bd92c59bf63f6cbba5",
            "value": 5494
          }
        },
        "d71c8aa6ec2f4ccbb3e8f1e3d030d834": {
          "model_module": "@jupyter-widgets/controls",
          "model_name": "HTMLModel",
          "model_module_version": "1.5.0",
          "state": {
            "_dom_classes": [],
            "_model_module": "@jupyter-widgets/controls",
            "_model_module_version": "1.5.0",
            "_model_name": "HTMLModel",
            "_view_count": null,
            "_view_module": "@jupyter-widgets/controls",
            "_view_module_version": "1.5.0",
            "_view_name": "HTMLView",
            "description": "",
            "description_tooltip": null,
            "layout": "IPY_MODEL_901c69b7742d4ffa8c42f2a792a0cbec",
            "placeholder": "​",
            "style": "IPY_MODEL_4b73cc3bd23e4fe587c0592b63352e97",
            "value": " 5494/5494 [00:03&lt;00:00, 1501.59it/s]"
          }
        },
        "24003b663bcd42d3bbf58509a746a67e": {
          "model_module": "@jupyter-widgets/base",
          "model_name": "LayoutModel",
          "model_module_version": "1.2.0",
          "state": {
            "_model_module": "@jupyter-widgets/base",
            "_model_module_version": "1.2.0",
            "_model_name": "LayoutModel",
            "_view_count": null,
            "_view_module": "@jupyter-widgets/base",
            "_view_module_version": "1.2.0",
            "_view_name": "LayoutView",
            "align_content": null,
            "align_items": null,
            "align_self": null,
            "border": null,
            "bottom": null,
            "display": null,
            "flex": null,
            "flex_flow": null,
            "grid_area": null,
            "grid_auto_columns": null,
            "grid_auto_flow": null,
            "grid_auto_rows": null,
            "grid_column": null,
            "grid_gap": null,
            "grid_row": null,
            "grid_template_areas": null,
            "grid_template_columns": null,
            "grid_template_rows": null,
            "height": null,
            "justify_content": null,
            "justify_items": null,
            "left": null,
            "margin": null,
            "max_height": null,
            "max_width": null,
            "min_height": null,
            "min_width": null,
            "object_fit": null,
            "object_position": null,
            "order": null,
            "overflow": null,
            "overflow_x": null,
            "overflow_y": null,
            "padding": null,
            "right": null,
            "top": null,
            "visibility": null,
            "width": null
          }
        },
        "92bd318116654ae295a0ad39558e39b3": {
          "model_module": "@jupyter-widgets/base",
          "model_name": "LayoutModel",
          "model_module_version": "1.2.0",
          "state": {
            "_model_module": "@jupyter-widgets/base",
            "_model_module_version": "1.2.0",
            "_model_name": "LayoutModel",
            "_view_count": null,
            "_view_module": "@jupyter-widgets/base",
            "_view_module_version": "1.2.0",
            "_view_name": "LayoutView",
            "align_content": null,
            "align_items": null,
            "align_self": null,
            "border": null,
            "bottom": null,
            "display": null,
            "flex": null,
            "flex_flow": null,
            "grid_area": null,
            "grid_auto_columns": null,
            "grid_auto_flow": null,
            "grid_auto_rows": null,
            "grid_column": null,
            "grid_gap": null,
            "grid_row": null,
            "grid_template_areas": null,
            "grid_template_columns": null,
            "grid_template_rows": null,
            "height": null,
            "justify_content": null,
            "justify_items": null,
            "left": null,
            "margin": null,
            "max_height": null,
            "max_width": null,
            "min_height": null,
            "min_width": null,
            "object_fit": null,
            "object_position": null,
            "order": null,
            "overflow": null,
            "overflow_x": null,
            "overflow_y": null,
            "padding": null,
            "right": null,
            "top": null,
            "visibility": null,
            "width": null
          }
        },
        "ad895ddaf48b4afbabb66131849d1ae7": {
          "model_module": "@jupyter-widgets/controls",
          "model_name": "DescriptionStyleModel",
          "model_module_version": "1.5.0",
          "state": {
            "_model_module": "@jupyter-widgets/controls",
            "_model_module_version": "1.5.0",
            "_model_name": "DescriptionStyleModel",
            "_view_count": null,
            "_view_module": "@jupyter-widgets/base",
            "_view_module_version": "1.2.0",
            "_view_name": "StyleView",
            "description_width": ""
          }
        },
        "18777ca440294590b51e24f7133ee9aa": {
          "model_module": "@jupyter-widgets/base",
          "model_name": "LayoutModel",
          "model_module_version": "1.2.0",
          "state": {
            "_model_module": "@jupyter-widgets/base",
            "_model_module_version": "1.2.0",
            "_model_name": "LayoutModel",
            "_view_count": null,
            "_view_module": "@jupyter-widgets/base",
            "_view_module_version": "1.2.0",
            "_view_name": "LayoutView",
            "align_content": null,
            "align_items": null,
            "align_self": null,
            "border": null,
            "bottom": null,
            "display": null,
            "flex": null,
            "flex_flow": null,
            "grid_area": null,
            "grid_auto_columns": null,
            "grid_auto_flow": null,
            "grid_auto_rows": null,
            "grid_column": null,
            "grid_gap": null,
            "grid_row": null,
            "grid_template_areas": null,
            "grid_template_columns": null,
            "grid_template_rows": null,
            "height": null,
            "justify_content": null,
            "justify_items": null,
            "left": null,
            "margin": null,
            "max_height": null,
            "max_width": null,
            "min_height": null,
            "min_width": null,
            "object_fit": null,
            "object_position": null,
            "order": null,
            "overflow": null,
            "overflow_x": null,
            "overflow_y": null,
            "padding": null,
            "right": null,
            "top": null,
            "visibility": null,
            "width": null
          }
        },
        "03c9509ca43842bd92c59bf63f6cbba5": {
          "model_module": "@jupyter-widgets/controls",
          "model_name": "ProgressStyleModel",
          "model_module_version": "1.5.0",
          "state": {
            "_model_module": "@jupyter-widgets/controls",
            "_model_module_version": "1.5.0",
            "_model_name": "ProgressStyleModel",
            "_view_count": null,
            "_view_module": "@jupyter-widgets/base",
            "_view_module_version": "1.2.0",
            "_view_name": "StyleView",
            "bar_color": null,
            "description_width": ""
          }
        },
        "901c69b7742d4ffa8c42f2a792a0cbec": {
          "model_module": "@jupyter-widgets/base",
          "model_name": "LayoutModel",
          "model_module_version": "1.2.0",
          "state": {
            "_model_module": "@jupyter-widgets/base",
            "_model_module_version": "1.2.0",
            "_model_name": "LayoutModel",
            "_view_count": null,
            "_view_module": "@jupyter-widgets/base",
            "_view_module_version": "1.2.0",
            "_view_name": "LayoutView",
            "align_content": null,
            "align_items": null,
            "align_self": null,
            "border": null,
            "bottom": null,
            "display": null,
            "flex": null,
            "flex_flow": null,
            "grid_area": null,
            "grid_auto_columns": null,
            "grid_auto_flow": null,
            "grid_auto_rows": null,
            "grid_column": null,
            "grid_gap": null,
            "grid_row": null,
            "grid_template_areas": null,
            "grid_template_columns": null,
            "grid_template_rows": null,
            "height": null,
            "justify_content": null,
            "justify_items": null,
            "left": null,
            "margin": null,
            "max_height": null,
            "max_width": null,
            "min_height": null,
            "min_width": null,
            "object_fit": null,
            "object_position": null,
            "order": null,
            "overflow": null,
            "overflow_x": null,
            "overflow_y": null,
            "padding": null,
            "right": null,
            "top": null,
            "visibility": null,
            "width": null
          }
        },
        "4b73cc3bd23e4fe587c0592b63352e97": {
          "model_module": "@jupyter-widgets/controls",
          "model_name": "DescriptionStyleModel",
          "model_module_version": "1.5.0",
          "state": {
            "_model_module": "@jupyter-widgets/controls",
            "_model_module_version": "1.5.0",
            "_model_name": "DescriptionStyleModel",
            "_view_count": null,
            "_view_module": "@jupyter-widgets/base",
            "_view_module_version": "1.2.0",
            "_view_name": "StyleView",
            "description_width": ""
          }
        }
      }
    }
  },
  "cells": [
    {
      "cell_type": "markdown",
      "metadata": {
<<<<<<< HEAD
=======
        "id": "view-in-github",
        "colab_type": "text"
      },
      "source": [
        "<a href=\"https://colab.research.google.com/github/NaufalNurFahriza/Proyek-Klasifikasi-Gambar-Dicoding/blob/main/Submission_Akhir_Klasifikasi_Gambar.ipynb\" target=\"_parent\"><img src=\"https://colab.research.google.com/assets/colab-badge.svg\" alt=\"Open In Colab\"/></a>"
      ]
    },
    {
      "cell_type": "markdown",
      "metadata": {
>>>>>>> 0de4e7be2dfb5b93b91f4cc71b4e69cdc2cae8bd
        "id": "H9wADwK78DCz"
      },
      "source": [
        "# Proyek Klasifikasi Gambar: https://www.kaggle.com/datasets/vencerlanz09/agricultural-pests-image-dataset\n",
        "- **Nama:** Naufal Nur Fahriza\n",
        "- **Email:** naufalnurfahriza@gmail.com\n",
        "- **ID Dicoding:** NurFahriza"
      ]
    },
    {
      "cell_type": "markdown",
      "metadata": {
        "id": "H-z4QGlO8DC1"
      },
      "source": [
        "## Import Semua Packages/Library yang Digunakan"
      ]
    },
    {
      "cell_type": "code",
<<<<<<< HEAD
      "execution_count": null,
=======
      "execution_count": 2,
>>>>>>> 0de4e7be2dfb5b93b91f4cc71b4e69cdc2cae8bd
      "metadata": {
        "id": "FVYwaObI8DC1"
      },
      "outputs": [],
      "source": [
        "# Mengimpor libraries umum yang sering digunakan\n",
        "import os, shutil\n",
        "import zipfile\n",
        "import random\n",
        "from random import sample\n",
        "import shutil\n",
        "from shutil import copyfile\n",
        "import pathlib\n",
        "from pathlib import Path\n",
        "import numpy as np\n",
        "import pandas as pd\n",
        "from tqdm.notebook import tqdm as tq\n",
        "\n",
        "# Mengimpor libraries untuk visualisasi\n",
        "%matplotlib inline\n",
        "import matplotlib.image as mpimg\n",
        "import matplotlib.pyplot as plt\n",
        "import seaborn as sns\n",
        "from matplotlib.image import imread\n",
        "\n",
        "# Mengimpor libraries untuk pemrosesan data gambar\n",
        "import cv2\n",
        "from PIL import Image\n",
        "import skimage\n",
        "from skimage import io\n",
        "from skimage.transform import resize\n",
        "from skimage.transform import rotate, AffineTransform, warp\n",
        "from skimage import img_as_ubyte\n",
        "from skimage.exposure import adjust_gamma\n",
        "from skimage.util import random_noise\n",
        "\n",
        "# Mengimpor libraries untuk pembuatan dan evaluasi model\n",
        "import keras\n",
        "from sklearn.model_selection import train_test_split\n",
        "from sklearn.metrics import confusion_matrix, classification_report\n",
        "import tensorflow as tf\n",
        "from tensorflow.keras.applications import MobileNetV2\n",
        "from tensorflow.keras import Model, layers\n",
        "from tensorflow.keras.preprocessing import image\n",
        "from tensorflow.keras.preprocessing.image import ImageDataGenerator, img_to_array, load_img\n",
        "from tensorflow.keras.optimizers import Adam, RMSprop, SGD\n",
        "from tensorflow.keras.layers import InputLayer, Conv2D, SeparableConv2D, MaxPooling2D, MaxPool2D, Dense, Flatten, Dropout, BatchNormalization, GlobalAveragePooling2D\n",
        "from tensorflow.keras.models import Sequential, Model\n",
        "from tensorflow.keras.applications import MobileNet\n",
        "from tensorflow.keras.applications.densenet import DenseNet121\n",
        "from tensorflow.keras.utils import to_categorical\n",
        "from tensorflow.keras.callbacks import ModelCheckpoint, Callback, EarlyStopping, ReduceLROnPlateau\n",
        "from sklearn.utils.class_weight import compute_class_weight\n",
        "from tensorflow.keras.optimizers.schedules import ExponentialDecay\n",
        "\n",
        "# Mengabaikan peringatan\n",
        "import warnings\n",
        "warnings.simplefilter(action='ignore', category=FutureWarning)"
      ]
    },
    {
      "cell_type": "code",
      "source": [
        "# Mencetak versi TensorFlow yang sedang digunakan\n",
        "print(tf.__version__)"
      ],
      "metadata": {
        "colab": {
          "base_uri": "https://localhost:8080/"
        },
        "id": "5E1hiBBdK_ya",
        "outputId": "f09b23d7-47d7-4f2b-cbd7-12c7e814a5d4"
      },
<<<<<<< HEAD
      "execution_count": null,
=======
      "execution_count": 3,
>>>>>>> 0de4e7be2dfb5b93b91f4cc71b4e69cdc2cae8bd
      "outputs": [
        {
          "output_type": "stream",
          "name": "stdout",
          "text": [
            "2.18.0\n"
          ]
        }
      ]
    },
    {
      "cell_type": "markdown",
      "source": [
        "## Data Preparation"
      ],
      "metadata": {
        "id": "TK4DvqfbYrN8"
      }
    },
    {
      "cell_type": "markdown",
      "metadata": {
        "id": "HHekw29KX4XQ"
      },
      "source": [
        "### Data Loading"
      ]
    },
    {
      "cell_type": "code",
<<<<<<< HEAD
      "execution_count": null,
=======
      "execution_count": 4,
>>>>>>> 0de4e7be2dfb5b93b91f4cc71b4e69cdc2cae8bd
      "metadata": {
        "id": "wIcv1F9fX4XQ",
        "colab": {
          "base_uri": "https://localhost:8080/",
          "height": 89
        },
        "outputId": "d86ed616-dfb8-4e69-a322-61fbc1689eef"
      },
      "outputs": [
        {
          "output_type": "display_data",
          "data": {
            "text/plain": [
              "<IPython.core.display.HTML object>"
            ],
            "text/html": [
              "\n",
              "     <input type=\"file\" id=\"files-2be0eb1a-7b46-4f9f-916e-66a82d18f53d\" name=\"files[]\" multiple disabled\n",
              "        style=\"border:none\" />\n",
              "     <output id=\"result-2be0eb1a-7b46-4f9f-916e-66a82d18f53d\">\n",
              "      Upload widget is only available when the cell has been executed in the\n",
              "      current browser session. Please rerun this cell to enable.\n",
              "      </output>\n",
              "      <script>// Copyright 2017 Google LLC\n",
              "//\n",
              "// Licensed under the Apache License, Version 2.0 (the \"License\");\n",
              "// you may not use this file except in compliance with the License.\n",
              "// You may obtain a copy of the License at\n",
              "//\n",
              "//      http://www.apache.org/licenses/LICENSE-2.0\n",
              "//\n",
              "// Unless required by applicable law or agreed to in writing, software\n",
              "// distributed under the License is distributed on an \"AS IS\" BASIS,\n",
              "// WITHOUT WARRANTIES OR CONDITIONS OF ANY KIND, either express or implied.\n",
              "// See the License for the specific language governing permissions and\n",
              "// limitations under the License.\n",
              "\n",
              "/**\n",
              " * @fileoverview Helpers for google.colab Python module.\n",
              " */\n",
              "(function(scope) {\n",
              "function span(text, styleAttributes = {}) {\n",
              "  const element = document.createElement('span');\n",
              "  element.textContent = text;\n",
              "  for (const key of Object.keys(styleAttributes)) {\n",
              "    element.style[key] = styleAttributes[key];\n",
              "  }\n",
              "  return element;\n",
              "}\n",
              "\n",
              "// Max number of bytes which will be uploaded at a time.\n",
              "const MAX_PAYLOAD_SIZE = 100 * 1024;\n",
              "\n",
              "function _uploadFiles(inputId, outputId) {\n",
              "  const steps = uploadFilesStep(inputId, outputId);\n",
              "  const outputElement = document.getElementById(outputId);\n",
              "  // Cache steps on the outputElement to make it available for the next call\n",
              "  // to uploadFilesContinue from Python.\n",
              "  outputElement.steps = steps;\n",
              "\n",
              "  return _uploadFilesContinue(outputId);\n",
              "}\n",
              "\n",
              "// This is roughly an async generator (not supported in the browser yet),\n",
              "// where there are multiple asynchronous steps and the Python side is going\n",
              "// to poll for completion of each step.\n",
              "// This uses a Promise to block the python side on completion of each step,\n",
              "// then passes the result of the previous step as the input to the next step.\n",
              "function _uploadFilesContinue(outputId) {\n",
              "  const outputElement = document.getElementById(outputId);\n",
              "  const steps = outputElement.steps;\n",
              "\n",
              "  const next = steps.next(outputElement.lastPromiseValue);\n",
              "  return Promise.resolve(next.value.promise).then((value) => {\n",
              "    // Cache the last promise value to make it available to the next\n",
              "    // step of the generator.\n",
              "    outputElement.lastPromiseValue = value;\n",
              "    return next.value.response;\n",
              "  });\n",
              "}\n",
              "\n",
              "/**\n",
              " * Generator function which is called between each async step of the upload\n",
              " * process.\n",
              " * @param {string} inputId Element ID of the input file picker element.\n",
              " * @param {string} outputId Element ID of the output display.\n",
              " * @return {!Iterable<!Object>} Iterable of next steps.\n",
              " */\n",
              "function* uploadFilesStep(inputId, outputId) {\n",
              "  const inputElement = document.getElementById(inputId);\n",
              "  inputElement.disabled = false;\n",
              "\n",
              "  const outputElement = document.getElementById(outputId);\n",
              "  outputElement.innerHTML = '';\n",
              "\n",
              "  const pickedPromise = new Promise((resolve) => {\n",
              "    inputElement.addEventListener('change', (e) => {\n",
              "      resolve(e.target.files);\n",
              "    });\n",
              "  });\n",
              "\n",
              "  const cancel = document.createElement('button');\n",
              "  inputElement.parentElement.appendChild(cancel);\n",
              "  cancel.textContent = 'Cancel upload';\n",
              "  const cancelPromise = new Promise((resolve) => {\n",
              "    cancel.onclick = () => {\n",
              "      resolve(null);\n",
              "    };\n",
              "  });\n",
              "\n",
              "  // Wait for the user to pick the files.\n",
              "  const files = yield {\n",
              "    promise: Promise.race([pickedPromise, cancelPromise]),\n",
              "    response: {\n",
              "      action: 'starting',\n",
              "    }\n",
              "  };\n",
              "\n",
              "  cancel.remove();\n",
              "\n",
              "  // Disable the input element since further picks are not allowed.\n",
              "  inputElement.disabled = true;\n",
              "\n",
              "  if (!files) {\n",
              "    return {\n",
              "      response: {\n",
              "        action: 'complete',\n",
              "      }\n",
              "    };\n",
              "  }\n",
              "\n",
              "  for (const file of files) {\n",
              "    const li = document.createElement('li');\n",
              "    li.append(span(file.name, {fontWeight: 'bold'}));\n",
              "    li.append(span(\n",
              "        `(${file.type || 'n/a'}) - ${file.size} bytes, ` +\n",
              "        `last modified: ${\n",
              "            file.lastModifiedDate ? file.lastModifiedDate.toLocaleDateString() :\n",
              "                                    'n/a'} - `));\n",
              "    const percent = span('0% done');\n",
              "    li.appendChild(percent);\n",
              "\n",
              "    outputElement.appendChild(li);\n",
              "\n",
              "    const fileDataPromise = new Promise((resolve) => {\n",
              "      const reader = new FileReader();\n",
              "      reader.onload = (e) => {\n",
              "        resolve(e.target.result);\n",
              "      };\n",
              "      reader.readAsArrayBuffer(file);\n",
              "    });\n",
              "    // Wait for the data to be ready.\n",
              "    let fileData = yield {\n",
              "      promise: fileDataPromise,\n",
              "      response: {\n",
              "        action: 'continue',\n",
              "      }\n",
              "    };\n",
              "\n",
              "    // Use a chunked sending to avoid message size limits. See b/62115660.\n",
              "    let position = 0;\n",
              "    do {\n",
              "      const length = Math.min(fileData.byteLength - position, MAX_PAYLOAD_SIZE);\n",
              "      const chunk = new Uint8Array(fileData, position, length);\n",
              "      position += length;\n",
              "\n",
              "      const base64 = btoa(String.fromCharCode.apply(null, chunk));\n",
              "      yield {\n",
              "        response: {\n",
              "          action: 'append',\n",
              "          file: file.name,\n",
              "          data: base64,\n",
              "        },\n",
              "      };\n",
              "\n",
              "      let percentDone = fileData.byteLength === 0 ?\n",
              "          100 :\n",
              "          Math.round((position / fileData.byteLength) * 100);\n",
              "      percent.textContent = `${percentDone}% done`;\n",
              "\n",
              "    } while (position < fileData.byteLength);\n",
              "  }\n",
              "\n",
              "  // All done.\n",
              "  yield {\n",
              "    response: {\n",
              "      action: 'complete',\n",
              "    }\n",
              "  };\n",
              "}\n",
              "\n",
              "scope.google = scope.google || {};\n",
              "scope.google.colab = scope.google.colab || {};\n",
              "scope.google.colab._files = {\n",
              "  _uploadFiles,\n",
              "  _uploadFilesContinue,\n",
              "};\n",
              "})(self);\n",
              "</script> "
            ]
          },
          "metadata": {}
        },
        {
          "output_type": "stream",
          "name": "stdout",
          "text": [
            "Saving kaggle.json to kaggle.json\n"
          ]
        },
        {
          "output_type": "execute_result",
          "data": {
            "text/plain": [
              "{'kaggle.json': b'{\"username\":\"naufalnurfahriza\",\"key\":\"ec6f7ab7dabebc9fd0600384aa1880de\"}'}"
            ]
          },
          "metadata": {},
          "execution_count": 4
        }
      ],
      "source": [
        "# Import module yang disediakan google colab untuk kebutuhan upload file\n",
        "from google.colab import files\n",
        "files.upload()"
      ]
    },
    {
      "cell_type": "code",
      "source": [
        "!pip install -q kaggle"
      ],
      "metadata": {
        "id": "z1gCZnpPLTS5"
      },
<<<<<<< HEAD
      "execution_count": null,
=======
      "execution_count": 5,
>>>>>>> 0de4e7be2dfb5b93b91f4cc71b4e69cdc2cae8bd
      "outputs": []
    },
    {
      "cell_type": "code",
      "source": [
        "# Setup credential kaggle\n",
        "!mkdir -p ~/.kaggle\n",
        "!cp kaggle.json ~/.kaggle/\n",
        "!chmod 600 ~/.kaggle/kaggle.json"
      ],
      "metadata": {
        "id": "mHDs9e-OLVVV"
      },
<<<<<<< HEAD
      "execution_count": null,
=======
      "execution_count": 6,
>>>>>>> 0de4e7be2dfb5b93b91f4cc71b4e69cdc2cae8bd
      "outputs": []
    },
    {
      "cell_type": "code",
      "source": [
        "# Download dataset DermNet\n",
        "!kaggle datasets download -d vencerlanz09/agricultural-pests-image-dataset"
      ],
      "metadata": {
        "colab": {
          "base_uri": "https://localhost:8080/"
        },
        "id": "h5Ipi9tALXyY",
        "outputId": "d6013199-29b6-48e2-8019-bef93b2981f8"
      },
<<<<<<< HEAD
      "execution_count": null,
=======
      "execution_count": 7,
>>>>>>> 0de4e7be2dfb5b93b91f4cc71b4e69cdc2cae8bd
      "outputs": [
        {
          "output_type": "stream",
          "name": "stdout",
          "text": [
            "Dataset URL: https://www.kaggle.com/datasets/vencerlanz09/agricultural-pests-image-dataset\n",
            "License(s): copyright-authors\n"
          ]
        }
      ]
    },
    {
      "cell_type": "code",
      "source": [
        "# Unzip dataset\n",
        "!unzip -q agricultural-pests-image-dataset.zip -d pests_data"
      ],
      "metadata": {
<<<<<<< HEAD
        "id": "zIzrm5ixLZ6C",
        "outputId": "fdca3e6c-b9cd-4957-d054-007eb1b044a0",
        "colab": {
          "base_uri": "https://localhost:8080/"
        }
      },
      "execution_count": null,
      "outputs": [
        {
          "metadata": {
            "tags": null
          },
          "name": "stdout",
          "output_type": "stream",
          "text": [
            "replace pests_data/ants/ants (1).jpg? [y]es, [n]o, [A]ll, [N]one, [r]ename: "
          ]
        }
      ]
=======
        "id": "zIzrm5ixLZ6C"
      },
      "execution_count": 8,
      "outputs": []
>>>>>>> 0de4e7be2dfb5b93b91f4cc71b4e69cdc2cae8bd
    },
    {
      "cell_type": "code",
      "source": [
        "# Verifikasi dataset\n",
        "print(\"Daftar folder:\")\n",
        "print(os.listdir(\"pests_data\"))\n",
        "print(\"\\nJumlah gambar per kategori:\")\n",
        "for folder in os.listdir(\"pests_data\"):\n",
        "    folder_path = os.path.join(\"pests_data\", folder)\n",
        "    if os.path.isdir(folder_path):\n",
        "        print(f\"{folder}: {len(os.listdir(folder_path))} gambar\")"
      ],
      "metadata": {
        "id": "kEkEw2z7LcuA",
        "colab": {
          "base_uri": "https://localhost:8080/"
        },
        "outputId": "47e9ebe3-5ad3-4ba9-d168-940e64274bc2"
      },
<<<<<<< HEAD
      "execution_count": null,
=======
      "execution_count": 9,
>>>>>>> 0de4e7be2dfb5b93b91f4cc71b4e69cdc2cae8bd
      "outputs": [
        {
          "output_type": "stream",
          "name": "stdout",
          "text": [
            "Daftar folder:\n",
            "['ants', 'weevil', 'moth', 'grasshopper', 'catterpillar', 'snail', 'wasp', 'slug', 'beetle', 'earwig', 'bees', 'earthworms']\n",
            "\n",
            "Jumlah gambar per kategori:\n",
            "ants: 499 gambar\n",
            "weevil: 485 gambar\n",
            "moth: 497 gambar\n",
            "grasshopper: 485 gambar\n",
            "catterpillar: 434 gambar\n",
            "snail: 500 gambar\n",
            "wasp: 498 gambar\n",
            "slug: 391 gambar\n",
            "beetle: 416 gambar\n",
            "earwig: 466 gambar\n",
            "bees: 500 gambar\n",
            "earthworms: 323 gambar\n"
          ]
        }
      ]
    },
    {
      "cell_type": "markdown",
      "metadata": {
        "id": "bFgLyQPHX98s"
      },
      "source": [
        "### Data Preprocessing"
      ]
    },
    {
      "cell_type": "markdown",
      "source": [
        "#### Split Dataset"
      ],
      "metadata": {
        "id": "9ICO2-E0YxzD"
      }
    },
    {
      "cell_type": "code",
      "source": [
        "# Panggil variabel mypath yang menampung folder dataset gambar\n",
        "mypath = 'pests_data/'\n",
        "\n",
        "file_name = []\n",
        "labels = []\n",
        "full_path = []\n",
        "\n",
        "for path, subdirs, files in os.walk(mypath):\n",
        "    for name in files:\n",
        "        full_path.append(os.path.join(path, name))\n",
        "        labels.append(path.split('/')[-1])\n",
        "        file_name.append(name)\n",
        "\n",
        "df = pd.DataFrame({\n",
        "    \"path\": full_path,\n",
        "    \"file_name\": file_name,\n",
        "    \"labels\": labels\n",
        "})\n",
        "\n",
        "print(\"\\nDistribusi data awal:\")\n",
        "print(df.groupby(['labels']).size())"
      ],
      "metadata": {
        "colab": {
          "base_uri": "https://localhost:8080/"
        },
        "id": "568x62lxqLFB",
        "outputId": "c79f6682-9102-4b33-e301-6d97a3c86b34"
      },
<<<<<<< HEAD
      "execution_count": null,
=======
      "execution_count": 10,
>>>>>>> 0de4e7be2dfb5b93b91f4cc71b4e69cdc2cae8bd
      "outputs": [
        {
          "output_type": "stream",
          "name": "stdout",
          "text": [
            "\n",
            "Distribusi data awal:\n",
            "labels\n",
            "ants            499\n",
            "bees            500\n",
            "beetle          416\n",
            "catterpillar    434\n",
            "earthworms      323\n",
            "earwig          466\n",
            "grasshopper     485\n",
            "moth            497\n",
            "slug            391\n",
            "snail           500\n",
            "wasp            498\n",
            "weevil          485\n",
            "dtype: int64\n"
          ]
        }
      ]
    },
    {
      "cell_type": "code",
      "source": [
        "# Variabel yang digunakan pada pemisahan data ini dimana variabel x = data path dan y = data labels\n",
        "X = df['path']\n",
        "y = df['labels']\n",
        "\n",
        "# Split ke train dan test (80:20)\n",
        "X_train, X_test, y_train, y_test = train_test_split(\n",
        "    X, y, test_size=0.2, stratify=y, random_state=42)"
      ],
      "metadata": {
        "id": "q6PZUXIYqS-g"
      },
<<<<<<< HEAD
      "execution_count": null,
=======
      "execution_count": 11,
>>>>>>> 0de4e7be2dfb5b93b91f4cc71b4e69cdc2cae8bd
      "outputs": []
    },
    {
      "cell_type": "code",
      "source": [
        "# Menyatukan kedalam masing-masing dataframe\n",
        "df_tr = pd.DataFrame({'path': X_train, 'labels': y_train, 'set': 'train'})\n",
        "df_te = pd.DataFrame({'path': X_test, 'labels': y_test, 'set': 'test'})"
      ],
      "metadata": {
        "id": "_OVnphIsqTmW"
      },
<<<<<<< HEAD
      "execution_count": null,
=======
      "execution_count": 12,
>>>>>>> 0de4e7be2dfb5b93b91f4cc71b4e69cdc2cae8bd
      "outputs": []
    },
    {
      "cell_type": "code",
      "source": [
        "# Print hasil diatas untuk melihat panjang size data training dan testing\n",
        "print('\\ntrain size:', len(df_tr))\n",
        "print('test size :', len(df_te))"
      ],
      "metadata": {
        "colab": {
          "base_uri": "https://localhost:8080/"
        },
        "id": "IsMv6CXLqVxa",
        "outputId": "02ef1e33-b2fd-4d5d-e1c1-7ad9bedea704"
      },
<<<<<<< HEAD
      "execution_count": null,
=======
      "execution_count": 13,
>>>>>>> 0de4e7be2dfb5b93b91f4cc71b4e69cdc2cae8bd
      "outputs": [
        {
          "output_type": "stream",
          "name": "stdout",
          "text": [
            "\n",
            "train size: 4395\n",
            "test size : 1099\n"
          ]
        }
      ]
    },
    {
      "cell_type": "code",
      "source": [
        "# Gabungkan DataFrame df_tr dan df_te\n",
        "df_all = pd.concat([df_tr, df_te], ignore_index=True)\n",
        "\n",
        "print('\\nDistribusi setelah split:')\n",
        "print(df_all.groupby(['set', 'labels']).size())"
      ],
      "metadata": {
        "colab": {
          "base_uri": "https://localhost:8080/"
        },
        "id": "zHbyhsGRqXzn",
        "outputId": "81058c6f-9ecf-46a2-808c-9fe0d8948ea4"
      },
<<<<<<< HEAD
      "execution_count": null,
=======
      "execution_count": 14,
>>>>>>> 0de4e7be2dfb5b93b91f4cc71b4e69cdc2cae8bd
      "outputs": [
        {
          "output_type": "stream",
          "name": "stdout",
          "text": [
            "\n",
            "Distribusi setelah split:\n",
            "set    labels      \n",
            "test   ants            100\n",
            "       bees            100\n",
            "       beetle           83\n",
            "       catterpillar     87\n",
            "       earthworms       65\n",
            "       earwig           93\n",
            "       grasshopper      97\n",
            "       moth             99\n",
            "       slug             78\n",
            "       snail           100\n",
            "       wasp            100\n",
            "       weevil           97\n",
            "train  ants            399\n",
            "       bees            400\n",
            "       beetle          333\n",
            "       catterpillar    347\n",
            "       earthworms      258\n",
            "       earwig          373\n",
            "       grasshopper     388\n",
            "       moth            398\n",
            "       slug            313\n",
            "       snail           400\n",
            "       wasp            398\n",
            "       weevil          388\n",
            "dtype: int64\n"
          ]
        }
      ]
    },
    {
      "cell_type": "code",
      "source": [
        "# Buat struktur folder baru\n",
        "dataset_path = \"pests_dataset_final/\"\n",
        "os.makedirs(dataset_path, exist_ok=True)"
      ],
      "metadata": {
        "id": "80BJuXZUqaGo"
      },
<<<<<<< HEAD
      "execution_count": null,
=======
      "execution_count": 15,
>>>>>>> 0de4e7be2dfb5b93b91f4cc71b4e69cdc2cae8bd
      "outputs": []
    },
    {
      "cell_type": "code",
      "source": [
        "# Salin gambar ke folder baru sesuai set dan label\n",
        "for index, row in tq(df_all.iterrows(), total=len(df_all)):\n",
        "    file_path = row['path']\n",
        "    label = row['labels']\n",
        "    subset = row['set']\n",
        "\n",
        "    dest_folder = os.path.join(dataset_path, subset, label)\n",
        "    os.makedirs(dest_folder, exist_ok=True)\n",
        "\n",
        "    file_name = os.path.basename(file_path)\n",
        "    dest_path = os.path.join(dest_folder, file_name)\n",
        "\n",
        "    if not os.path.exists(dest_path):\n",
        "        shutil.copy2(file_path, dest_path)"
      ],
      "metadata": {
        "colab": {
          "base_uri": "https://localhost:8080/",
          "height": 49,
          "referenced_widgets": [
            "8fef4e2faab8421e95ac3f42d2d641d5",
            "9e08aae1aa214053834ff130bc396a9b",
            "3e45ce762125479ca65ebea5eb89bc72",
            "d71c8aa6ec2f4ccbb3e8f1e3d030d834",
            "24003b663bcd42d3bbf58509a746a67e",
            "92bd318116654ae295a0ad39558e39b3",
            "ad895ddaf48b4afbabb66131849d1ae7",
            "18777ca440294590b51e24f7133ee9aa",
            "03c9509ca43842bd92c59bf63f6cbba5",
            "901c69b7742d4ffa8c42f2a792a0cbec",
            "4b73cc3bd23e4fe587c0592b63352e97"
          ]
        },
        "id": "dO7Fg6YXqgWG",
        "outputId": "d3d02059-0c0f-47d7-e7bb-f047ca66a430"
      },
<<<<<<< HEAD
      "execution_count": null,
=======
      "execution_count": 16,
>>>>>>> 0de4e7be2dfb5b93b91f4cc71b4e69cdc2cae8bd
      "outputs": [
        {
          "output_type": "display_data",
          "data": {
            "text/plain": [
              "  0%|          | 0/5494 [00:00<?, ?it/s]"
            ],
            "application/vnd.jupyter.widget-view+json": {
              "version_major": 2,
              "version_minor": 0,
              "model_id": "8fef4e2faab8421e95ac3f42d2d641d5"
            }
          },
          "metadata": {}
        }
      ]
    },
    {
      "cell_type": "markdown",
      "source": [
        "### Image Data Generator"
      ],
      "metadata": {
        "id": "Y2MChrDaqpg1"
      }
    },
    {
      "cell_type": "markdown",
      "metadata": {
        "id": "nc-Ph-oIYAUU"
      },
      "source": [
        "## Modelling"
      ]
    },
    {
      "cell_type": "code",
      "source": [
        "# Define training and test directories\n",
        "TRAIN_DIR = \"pests_dataset_final/train/\"\n",
        "TEST_DIR = \"pests_dataset_final/test/\"\n",
        "\n",
        "class_names = os.listdir(TRAIN_DIR)\n",
        "\n",
        "print(\"📊 Jumlah gambar per kelas:\")\n",
        "print(\"\\nTraining Set:\")\n",
        "for cls in class_names:\n",
        "    cls_path = os.path.join(TRAIN_DIR, cls)\n",
        "    num_images = len(os.listdir(cls_path))\n",
        "    print(f\"  {cls}: {num_images}\")\n",
        "\n",
        "print(\"\\nTest Set:\")\n",
        "for cls in class_names:\n",
        "    cls_path = os.path.join(TEST_DIR, cls)\n",
        "    num_images = len(os.listdir(cls_path))\n",
        "    print(f\"  {cls}: {num_images}\")"
      ],
      "metadata": {
        "colab": {
          "base_uri": "https://localhost:8080/"
        },
        "id": "8y3aT8ZVtEHB",
        "outputId": "e177ba08-9140-4d19-d9f5-178ec3a69659"
      },
<<<<<<< HEAD
      "execution_count": null,
=======
      "execution_count": 17,
>>>>>>> 0de4e7be2dfb5b93b91f4cc71b4e69cdc2cae8bd
      "outputs": [
        {
          "output_type": "stream",
          "name": "stdout",
          "text": [
            "📊 Jumlah gambar per kelas:\n",
            "\n",
            "Training Set:\n",
            "  ants: 399\n",
            "  weevil: 388\n",
            "  moth: 398\n",
            "  grasshopper: 388\n",
            "  catterpillar: 347\n",
            "  snail: 400\n",
            "  wasp: 398\n",
            "  slug: 313\n",
            "  beetle: 333\n",
            "  earwig: 373\n",
            "  bees: 400\n",
            "  earthworms: 258\n",
            "\n",
            "Test Set:\n",
            "  ants: 100\n",
            "  weevil: 97\n",
            "  moth: 99\n",
            "  grasshopper: 97\n",
            "  catterpillar: 87\n",
            "  snail: 100\n",
            "  wasp: 100\n",
            "  slug: 78\n",
            "  beetle: 83\n",
            "  earwig: 93\n",
            "  bees: 100\n",
            "  earthworms: 65\n"
          ]
        }
      ]
    },
    {
      "cell_type": "code",
      "source": [
        "# Buat objek ImageDataGenerator yang menormalkan gambar dan menyertakan validation split\n",
        "datagen = ImageDataGenerator(\n",
        "    rescale=1/255.,\n",
        "    rotation_range=20,\n",
        "    width_shift_range=0.2,\n",
        "    height_shift_range=0.2,\n",
        "    shear_range=0.1,\n",
        "    zoom_range=0.2,\n",
        "    horizontal_flip=True,\n",
        "    fill_mode='nearest',\n",
        "    brightness_range=[0.8, 1.2],\n",
        "    validation_split=0.2\n",
        ")\n",
        "\n",
        "test_datagen = ImageDataGenerator(rescale=1. / 255)\n",
        "\n",
        "# Generator untuk training set\n",
        "train_generator = datagen.flow_from_directory(\n",
        "    TRAIN_DIR,\n",
        "    batch_size=32,\n",
        "    target_size=(224, 224),\n",
        "    color_mode=\"rgb\",\n",
        "    class_mode='categorical',\n",
        "    subset='training',\n",
        "    shuffle=True\n",
        ")\n",
        "\n",
        "# Generator untuk validation set\n",
        "validation_generator = datagen.flow_from_directory(\n",
        "    TRAIN_DIR,\n",
        "    batch_size=32,\n",
        "    target_size=(224, 224),\n",
        "    color_mode=\"rgb\",\n",
        "    class_mode='categorical',\n",
        "    subset='validation',\n",
        "    shuffle=False\n",
        ")\n",
        "\n",
        "# Generator untuk test set\n",
        "test_generator = test_datagen.flow_from_directory(\n",
        "    TEST_DIR,\n",
        "    batch_size=1,\n",
        "    target_size=(224, 224),\n",
        "    color_mode=\"rgb\",\n",
        "    class_mode='categorical',\n",
        "    shuffle=False\n",
        ")"
      ],
      "metadata": {
        "colab": {
          "base_uri": "https://localhost:8080/"
        },
        "id": "2hyOGeW7tWj6",
        "outputId": "3ca95761-dd68-4376-ef73-6b12511aeaba"
      },
<<<<<<< HEAD
      "execution_count": null,
=======
      "execution_count": 18,
>>>>>>> 0de4e7be2dfb5b93b91f4cc71b4e69cdc2cae8bd
      "outputs": [
        {
          "output_type": "stream",
          "name": "stdout",
          "text": [
            "Found 3522 images belonging to 12 classes.\n",
            "Found 873 images belonging to 12 classes.\n",
            "Found 1099 images belonging to 12 classes.\n"
          ]
        }
      ]
    },
    {
      "cell_type": "code",
      "source": [
        "# Define Transfer Learning Model with Sequential\n",
        "from tensorflow.keras.callbacks import LearningRateScheduler\n",
        "\n",
        "# Define the learning rate schedule function\n",
        "def lr_schedule(epoch):\n",
        "    initial_lr = 0.001\n",
        "    decay_rate = 0.9\n",
        "    decay_steps = 1000\n",
        "    epoch_decay = epoch // (decay_steps // (train_generator.samples // train_generator.batch_size))\n",
        "    return initial_lr * (decay_rate ** epoch_decay)\n",
        "\n",
        "# Define the model architecture\n",
        "def create_model():\n",
        "    # Load MobileNetV2 as base model\n",
        "    base_model = MobileNetV2(\n",
        "        input_shape=(224, 224, 3),\n",
        "        include_top=False,\n",
        "        weights='imagenet',\n",
        "        pooling=None\n",
        "    )\n",
        "\n",
        "    # Freeze the base model\n",
        "    base_model.trainable = False\n",
        "\n",
        "    # Build custom head\n",
        "    model = Sequential([\n",
        "        base_model,\n",
        "        Dropout(0.2),\n",
        "        Conv2D(32, (3,3), padding='same', activation='relu'),\n",
        "        GlobalAveragePooling2D(),\n",
        "        Dense(len(class_names), activation='softmax')  # Dynamic output units based on class count\n",
        "    ])\n",
        "\n",
        "    return model\n",
        "\n",
        "# Create model\n",
        "model = create_model()\n",
        "model.summary()"
      ],
      "metadata": {
        "id": "K7SRcCap9LN_",
        "colab": {
          "base_uri": "https://localhost:8080/",
          "height": 360
        },
        "outputId": "0c8d2884-48b5-4cd1-8d5d-0f562a37d554"
      },
<<<<<<< HEAD
      "execution_count": null,
=======
      "execution_count": 19,
>>>>>>> 0de4e7be2dfb5b93b91f4cc71b4e69cdc2cae8bd
      "outputs": [
        {
          "output_type": "stream",
          "name": "stdout",
          "text": [
            "Downloading data from https://storage.googleapis.com/tensorflow/keras-applications/mobilenet_v2/mobilenet_v2_weights_tf_dim_ordering_tf_kernels_1.0_224_no_top.h5\n",
            "\u001b[1m9406464/9406464\u001b[0m \u001b[32m━━━━━━━━━━━━━━━━━━━━\u001b[0m\u001b[37m\u001b[0m \u001b[1m2s\u001b[0m 0us/step\n"
          ]
        },
        {
          "output_type": "display_data",
          "data": {
            "text/plain": [
              "\u001b[1mModel: \"sequential\"\u001b[0m\n"
            ],
            "text/html": [
              "<pre style=\"white-space:pre;overflow-x:auto;line-height:normal;font-family:Menlo,'DejaVu Sans Mono',consolas,'Courier New',monospace\"><span style=\"font-weight: bold\">Model: \"sequential\"</span>\n",
              "</pre>\n"
            ]
          },
          "metadata": {}
        },
        {
          "output_type": "display_data",
          "data": {
            "text/plain": [
              "┏━━━━━━━━━━━━━━━━━━━━━━━━━━━━━━━━━┳━━━━━━━━━━━━━━━━━━━━━━━━┳━━━━━━━━━━━━━━━┓\n",
              "┃\u001b[1m \u001b[0m\u001b[1mLayer (type)                   \u001b[0m\u001b[1m \u001b[0m┃\u001b[1m \u001b[0m\u001b[1mOutput Shape          \u001b[0m\u001b[1m \u001b[0m┃\u001b[1m \u001b[0m\u001b[1m      Param #\u001b[0m\u001b[1m \u001b[0m┃\n",
              "┡━━━━━━━━━━━━━━━━━━━━━━━━━━━━━━━━━╇━━━━━━━━━━━━━━━━━━━━━━━━╇━━━━━━━━━━━━━━━┩\n",
              "│ mobilenetv2_1.00_224            │ (\u001b[38;5;45mNone\u001b[0m, \u001b[38;5;34m7\u001b[0m, \u001b[38;5;34m7\u001b[0m, \u001b[38;5;34m1280\u001b[0m)     │     \u001b[38;5;34m2,257,984\u001b[0m │\n",
              "│ (\u001b[38;5;33mFunctional\u001b[0m)                    │                        │               │\n",
              "├─────────────────────────────────┼────────────────────────┼───────────────┤\n",
              "│ dropout (\u001b[38;5;33mDropout\u001b[0m)               │ (\u001b[38;5;45mNone\u001b[0m, \u001b[38;5;34m7\u001b[0m, \u001b[38;5;34m7\u001b[0m, \u001b[38;5;34m1280\u001b[0m)     │             \u001b[38;5;34m0\u001b[0m │\n",
              "├─────────────────────────────────┼────────────────────────┼───────────────┤\n",
              "│ conv2d (\u001b[38;5;33mConv2D\u001b[0m)                 │ (\u001b[38;5;45mNone\u001b[0m, \u001b[38;5;34m7\u001b[0m, \u001b[38;5;34m7\u001b[0m, \u001b[38;5;34m32\u001b[0m)       │       \u001b[38;5;34m368,672\u001b[0m │\n",
              "├─────────────────────────────────┼────────────────────────┼───────────────┤\n",
              "│ global_average_pooling2d        │ (\u001b[38;5;45mNone\u001b[0m, \u001b[38;5;34m32\u001b[0m)             │             \u001b[38;5;34m0\u001b[0m │\n",
              "│ (\u001b[38;5;33mGlobalAveragePooling2D\u001b[0m)        │                        │               │\n",
              "├─────────────────────────────────┼────────────────────────┼───────────────┤\n",
              "│ dense (\u001b[38;5;33mDense\u001b[0m)                   │ (\u001b[38;5;45mNone\u001b[0m, \u001b[38;5;34m12\u001b[0m)             │           \u001b[38;5;34m396\u001b[0m │\n",
              "└─────────────────────────────────┴────────────────────────┴───────────────┘\n"
            ],
            "text/html": [
              "<pre style=\"white-space:pre;overflow-x:auto;line-height:normal;font-family:Menlo,'DejaVu Sans Mono',consolas,'Courier New',monospace\">┏━━━━━━━━━━━━━━━━━━━━━━━━━━━━━━━━━┳━━━━━━━━━━━━━━━━━━━━━━━━┳━━━━━━━━━━━━━━━┓\n",
              "┃<span style=\"font-weight: bold\"> Layer (type)                    </span>┃<span style=\"font-weight: bold\"> Output Shape           </span>┃<span style=\"font-weight: bold\">       Param # </span>┃\n",
              "┡━━━━━━━━━━━━━━━━━━━━━━━━━━━━━━━━━╇━━━━━━━━━━━━━━━━━━━━━━━━╇━━━━━━━━━━━━━━━┩\n",
              "│ mobilenetv2_1.00_224            │ (<span style=\"color: #00d7ff; text-decoration-color: #00d7ff\">None</span>, <span style=\"color: #00af00; text-decoration-color: #00af00\">7</span>, <span style=\"color: #00af00; text-decoration-color: #00af00\">7</span>, <span style=\"color: #00af00; text-decoration-color: #00af00\">1280</span>)     │     <span style=\"color: #00af00; text-decoration-color: #00af00\">2,257,984</span> │\n",
              "│ (<span style=\"color: #0087ff; text-decoration-color: #0087ff\">Functional</span>)                    │                        │               │\n",
              "├─────────────────────────────────┼────────────────────────┼───────────────┤\n",
              "│ dropout (<span style=\"color: #0087ff; text-decoration-color: #0087ff\">Dropout</span>)               │ (<span style=\"color: #00d7ff; text-decoration-color: #00d7ff\">None</span>, <span style=\"color: #00af00; text-decoration-color: #00af00\">7</span>, <span style=\"color: #00af00; text-decoration-color: #00af00\">7</span>, <span style=\"color: #00af00; text-decoration-color: #00af00\">1280</span>)     │             <span style=\"color: #00af00; text-decoration-color: #00af00\">0</span> │\n",
              "├─────────────────────────────────┼────────────────────────┼───────────────┤\n",
              "│ conv2d (<span style=\"color: #0087ff; text-decoration-color: #0087ff\">Conv2D</span>)                 │ (<span style=\"color: #00d7ff; text-decoration-color: #00d7ff\">None</span>, <span style=\"color: #00af00; text-decoration-color: #00af00\">7</span>, <span style=\"color: #00af00; text-decoration-color: #00af00\">7</span>, <span style=\"color: #00af00; text-decoration-color: #00af00\">32</span>)       │       <span style=\"color: #00af00; text-decoration-color: #00af00\">368,672</span> │\n",
              "├─────────────────────────────────┼────────────────────────┼───────────────┤\n",
              "│ global_average_pooling2d        │ (<span style=\"color: #00d7ff; text-decoration-color: #00d7ff\">None</span>, <span style=\"color: #00af00; text-decoration-color: #00af00\">32</span>)             │             <span style=\"color: #00af00; text-decoration-color: #00af00\">0</span> │\n",
              "│ (<span style=\"color: #0087ff; text-decoration-color: #0087ff\">GlobalAveragePooling2D</span>)        │                        │               │\n",
              "├─────────────────────────────────┼────────────────────────┼───────────────┤\n",
              "│ dense (<span style=\"color: #0087ff; text-decoration-color: #0087ff\">Dense</span>)                   │ (<span style=\"color: #00d7ff; text-decoration-color: #00d7ff\">None</span>, <span style=\"color: #00af00; text-decoration-color: #00af00\">12</span>)             │           <span style=\"color: #00af00; text-decoration-color: #00af00\">396</span> │\n",
              "└─────────────────────────────────┴────────────────────────┴───────────────┘\n",
              "</pre>\n"
            ]
          },
          "metadata": {}
        },
        {
          "output_type": "display_data",
          "data": {
            "text/plain": [
              "\u001b[1m Total params: \u001b[0m\u001b[38;5;34m2,627,052\u001b[0m (10.02 MB)\n"
            ],
            "text/html": [
              "<pre style=\"white-space:pre;overflow-x:auto;line-height:normal;font-family:Menlo,'DejaVu Sans Mono',consolas,'Courier New',monospace\"><span style=\"font-weight: bold\"> Total params: </span><span style=\"color: #00af00; text-decoration-color: #00af00\">2,627,052</span> (10.02 MB)\n",
              "</pre>\n"
            ]
          },
          "metadata": {}
        },
        {
          "output_type": "display_data",
          "data": {
            "text/plain": [
              "\u001b[1m Trainable params: \u001b[0m\u001b[38;5;34m369,068\u001b[0m (1.41 MB)\n"
            ],
            "text/html": [
              "<pre style=\"white-space:pre;overflow-x:auto;line-height:normal;font-family:Menlo,'DejaVu Sans Mono',consolas,'Courier New',monospace\"><span style=\"font-weight: bold\"> Trainable params: </span><span style=\"color: #00af00; text-decoration-color: #00af00\">369,068</span> (1.41 MB)\n",
              "</pre>\n"
            ]
          },
          "metadata": {}
        },
        {
          "output_type": "display_data",
          "data": {
            "text/plain": [
              "\u001b[1m Non-trainable params: \u001b[0m\u001b[38;5;34m2,257,984\u001b[0m (8.61 MB)\n"
            ],
            "text/html": [
              "<pre style=\"white-space:pre;overflow-x:auto;line-height:normal;font-family:Menlo,'DejaVu Sans Mono',consolas,'Courier New',monospace\"><span style=\"font-weight: bold\"> Non-trainable params: </span><span style=\"color: #00af00; text-decoration-color: #00af00\">2,257,984</span> (8.61 MB)\n",
              "</pre>\n"
            ]
          },
          "metadata": {}
        }
      ]
    },
    {
      "cell_type": "code",
      "source": [
        "# Define callbacks\n",
        "callbacks = [\n",
        "    EarlyStopping(\n",
        "        monitor='val_loss',\n",
        "        patience=5,\n",
        "        restore_best_weights=True,\n",
        "        verbose=1\n",
        "    ),\n",
        "    ModelCheckpoint(\n",
        "        'best_model.keras',  # Using modern .keras format\n",
        "        monitor='val_accuracy',\n",
        "        save_best_only=True,\n",
        "        mode='max',\n",
        "        verbose=1\n",
        "    ),\n",
        "    LearningRateScheduler(lr_schedule),\n",
        "    ReduceLROnPlateau(\n",
        "        monitor='val_loss',\n",
        "        factor=0.2,\n",
        "        patience=3,\n",
        "        min_lr=1e-6,\n",
        "        verbose=1\n",
        "    )\n",
        "]"
      ],
      "metadata": {
        "id": "aPjGf2dX9Oym"
      },
<<<<<<< HEAD
      "execution_count": null,
=======
      "execution_count": 20,
>>>>>>> 0de4e7be2dfb5b93b91f4cc71b4e69cdc2cae8bd
      "outputs": []
    },
    {
      "cell_type": "code",
      "source": [
        "# Compile model\n",
        "model.compile(\n",
        "    optimizer=Adam(learning_rate=0.001),  # Initial learning rate\n",
        "    loss='categorical_crossentropy',\n",
        "    metrics=['accuracy',\n",
        "            tf.keras.metrics.Precision(name='precision'),\n",
        "            tf.keras.metrics.Recall(name='recall')]\n",
        ")\n",
        "\n",
        "#Calculate class weights\n",
        "class_weights = compute_class_weight(\n",
        "    'balanced',\n",
        "    classes=np.unique(train_generator.classes),\n",
        "    y=train_generator.classes\n",
        ")\n",
        "class_weights = dict(enumerate(class_weights))\n",
        "\n",
        "# Train the model\n",
        "history = model.fit(\n",
        "    train_generator,\n",
        "    steps_per_epoch=len(train_generator),\n",
        "    validation_data=validation_generator,\n",
        "    validation_steps=len(validation_generator),\n",
        "    epochs=30,\n",
        "    callbacks=callbacks,\n",
        "    class_weight=class_weights,\n",
        "    verbose=1\n",
        ")\n",
        "\n",
        "# Load the best model (using modern .keras format)\n",
        "model = tf.keras.models.load_model('best_model.keras')"
      ],
      "metadata": {
        "colab": {
          "base_uri": "https://localhost:8080/"
        },
        "id": "Ns3SxlaXvuCj",
        "outputId": "2fa3741a-49fc-45c9-d973-f96ff4c8e671"
      },
<<<<<<< HEAD
      "execution_count": null,
=======
      "execution_count": 21,
>>>>>>> 0de4e7be2dfb5b93b91f4cc71b4e69cdc2cae8bd
      "outputs": [
        {
          "output_type": "stream",
          "name": "stderr",
          "text": [
            "/usr/local/lib/python3.11/dist-packages/keras/src/trainers/data_adapters/py_dataset_adapter.py:121: UserWarning: Your `PyDataset` class should call `super().__init__(**kwargs)` in its constructor. `**kwargs` can include `workers`, `use_multiprocessing`, `max_queue_size`. Do not pass these arguments to `fit()`, as they will be ignored.\n",
            "  self._warn_if_super_not_called()\n"
          ]
        },
        {
          "output_type": "stream",
          "name": "stdout",
          "text": [
            "Epoch 1/30\n",
            "\u001b[1m111/111\u001b[0m \u001b[32m━━━━━━━━━━━━━━━━━━━━\u001b[0m\u001b[37m\u001b[0m \u001b[1m0s\u001b[0m 454ms/step - accuracy: 0.5789 - loss: 1.4154 - precision: 0.8070 - recall: 0.4517\n",
            "Epoch 1: val_accuracy improved from -inf to 0.79038, saving model to best_model.keras\n",
            "\u001b[1m111/111\u001b[0m \u001b[32m━━━━━━━━━━━━━━━━━━━━\u001b[0m\u001b[37m\u001b[0m \u001b[1m91s\u001b[0m 666ms/step - accuracy: 0.5799 - loss: 1.4120 - precision: 0.8073 - recall: 0.4530 - val_accuracy: 0.7904 - val_loss: 0.6624 - val_precision: 0.8845 - val_recall: 0.7102 - learning_rate: 0.0010\n",
            "Epoch 2/30\n",
            "\u001b[1m111/111\u001b[0m \u001b[32m━━━━━━━━━━━━━━━━━━━━\u001b[0m\u001b[37m\u001b[0m \u001b[1m0s\u001b[0m 436ms/step - accuracy: 0.8116 - loss: 0.6243 - precision: 0.8930 - recall: 0.7445\n",
            "Epoch 2: val_accuracy improved from 0.79038 to 0.79840, saving model to best_model.keras\n",
            "\u001b[1m111/111\u001b[0m \u001b[32m━━━━━━━━━━━━━━━━━━━━\u001b[0m\u001b[37m\u001b[0m \u001b[1m62s\u001b[0m 546ms/step - accuracy: 0.8116 - loss: 0.6241 - precision: 0.8929 - recall: 0.7446 - val_accuracy: 0.7984 - val_loss: 0.6046 - val_precision: 0.8873 - val_recall: 0.7663 - learning_rate: 0.0010\n",
            "Epoch 3/30\n",
            "\u001b[1m111/111\u001b[0m \u001b[32m━━━━━━━━━━━━━━━━━━━━\u001b[0m\u001b[37m\u001b[0m \u001b[1m0s\u001b[0m 420ms/step - accuracy: 0.8389 - loss: 0.5271 - precision: 0.9011 - recall: 0.7982\n",
            "Epoch 3: val_accuracy improved from 0.79840 to 0.80641, saving model to best_model.keras\n",
            "\u001b[1m111/111\u001b[0m \u001b[32m━━━━━━━━━━━━━━━━━━━━\u001b[0m\u001b[37m\u001b[0m \u001b[1m59s\u001b[0m 528ms/step - accuracy: 0.8389 - loss: 0.5270 - precision: 0.9011 - recall: 0.7982 - val_accuracy: 0.8064 - val_loss: 0.6079 - val_precision: 0.8747 - val_recall: 0.7595 - learning_rate: 0.0010\n",
            "Epoch 4/30\n",
            "\u001b[1m111/111\u001b[0m \u001b[32m━━━━━━━━━━━━━━━━━━━━\u001b[0m\u001b[37m\u001b[0m \u001b[1m0s\u001b[0m 426ms/step - accuracy: 0.8530 - loss: 0.4592 - precision: 0.9084 - recall: 0.8050\n",
            "Epoch 4: val_accuracy did not improve from 0.80641\n",
            "\u001b[1m111/111\u001b[0m \u001b[32m━━━━━━━━━━━━━━━━━━━━\u001b[0m\u001b[37m\u001b[0m \u001b[1m91s\u001b[0m 612ms/step - accuracy: 0.8529 - loss: 0.4594 - precision: 0.9084 - recall: 0.8049 - val_accuracy: 0.7973 - val_loss: 0.6643 - val_precision: 0.8582 - val_recall: 0.7629 - learning_rate: 0.0010\n",
            "Epoch 5/30\n",
            "\u001b[1m111/111\u001b[0m \u001b[32m━━━━━━━━━━━━━━━━━━━━\u001b[0m\u001b[37m\u001b[0m \u001b[1m0s\u001b[0m 422ms/step - accuracy: 0.8655 - loss: 0.4108 - precision: 0.9119 - recall: 0.8330\n",
            "Epoch 5: val_accuracy improved from 0.80641 to 0.82360, saving model to best_model.keras\n",
            "\n",
            "Epoch 5: ReduceLROnPlateau reducing learning rate to 0.00020000000949949026.\n",
            "\u001b[1m111/111\u001b[0m \u001b[32m━━━━━━━━━━━━━━━━━━━━\u001b[0m\u001b[37m\u001b[0m \u001b[1m59s\u001b[0m 532ms/step - accuracy: 0.8655 - loss: 0.4109 - precision: 0.9119 - recall: 0.8330 - val_accuracy: 0.8236 - val_loss: 0.6207 - val_precision: 0.8838 - val_recall: 0.8018 - learning_rate: 0.0010\n",
            "Epoch 6/30\n",
            "\u001b[1m111/111\u001b[0m \u001b[32m━━━━━━━━━━━━━━━━━━━━\u001b[0m\u001b[37m\u001b[0m \u001b[1m0s\u001b[0m 429ms/step - accuracy: 0.8792 - loss: 0.3739 - precision: 0.9245 - recall: 0.8465\n",
            "Epoch 6: val_accuracy did not improve from 0.82360\n",
            "\u001b[1m111/111\u001b[0m \u001b[32m━━━━━━━━━━━━━━━━━━━━\u001b[0m\u001b[37m\u001b[0m \u001b[1m60s\u001b[0m 538ms/step - accuracy: 0.8791 - loss: 0.3740 - precision: 0.9244 - recall: 0.8465 - val_accuracy: 0.8225 - val_loss: 0.6072 - val_precision: 0.8763 - val_recall: 0.7950 - learning_rate: 0.0010\n",
            "Epoch 7/30\n",
            "\u001b[1m111/111\u001b[0m \u001b[32m━━━━━━━━━━━━━━━━━━━━\u001b[0m\u001b[37m\u001b[0m \u001b[1m0s\u001b[0m 431ms/step - accuracy: 0.8795 - loss: 0.3569 - precision: 0.9160 - recall: 0.8520\n",
            "Epoch 7: val_accuracy did not improve from 0.82360\n",
            "\u001b[1m111/111\u001b[0m \u001b[32m━━━━━━━━━━━━━━━━━━━━\u001b[0m\u001b[37m\u001b[0m \u001b[1m82s\u001b[0m 537ms/step - accuracy: 0.8794 - loss: 0.3573 - precision: 0.9159 - recall: 0.8519 - val_accuracy: 0.8133 - val_loss: 0.6115 - val_precision: 0.8695 - val_recall: 0.7858 - learning_rate: 0.0010\n",
            "Epoch 7: early stopping\n",
            "Restoring model weights from the end of the best epoch: 2.\n"
          ]
        }
      ]
    },
    {
      "cell_type": "markdown",
      "metadata": {
        "id": "XctzCfzbYCBK"
      },
      "source": [
        "## Evaluasi dan Visualisasi"
      ]
    },
    {
      "cell_type": "code",
      "source": [
        "# Evaluasi di test set\n",
        "print(\"\\n⚙️ Evaluating on test set...\")\n",
        "test_loss, test_accuracy, test_precision, test_recall = model.evaluate(test_generator)\n",
        "print(f\"\\n📊 Test Metrics:\")\n",
        "print(f\"Accuracy: {test_accuracy*100:.2f}%\")\n",
        "print(f\"Loss: {test_loss:.4f}\")\n",
        "print(f\"Precision: {test_precision:.4f}\")\n",
        "print(f\"Recall: {test_recall:.4f}\")"
      ],
      "metadata": {
        "id": "67qqFq7M99Sz",
        "colab": {
          "base_uri": "https://localhost:8080/"
        },
        "outputId": "1e2f5240-1f10-42ce-dea0-0259341ffbbb"
      },
<<<<<<< HEAD
      "execution_count": null,
=======
      "execution_count": 22,
>>>>>>> 0de4e7be2dfb5b93b91f4cc71b4e69cdc2cae8bd
      "outputs": [
        {
          "output_type": "stream",
          "name": "stdout",
          "text": [
            "\n",
            "⚙️ Evaluating on test set...\n",
            "\u001b[1m1099/1099\u001b[0m \u001b[32m━━━━━━━━━━━━━━━━━━━━\u001b[0m\u001b[37m\u001b[0m \u001b[1m14s\u001b[0m 8ms/step - accuracy: 0.8185 - loss: 0.6760 - precision: 0.8591 - recall: 0.7974\n",
            "\n",
            "📊 Test Metrics:\n",
            "Accuracy: 84.71%\n",
            "Loss: 0.5752\n",
            "Precision: 0.8791\n",
            "Recall: 0.8335\n"
          ]
        }
      ]
    },
    {
      "cell_type": "code",
      "source": [
        "# Plot grafik akurasi & loss\n",
        "plt.figure(figsize=(18, 6))\n",
        "\n",
        "# Accuracy Plot\n",
        "plt.subplot(1, 3, 1)\n",
        "plt.plot(history.history['accuracy'], label='Train', color='blue', linewidth=2)\n",
        "plt.plot(history.history['val_accuracy'], label='Validation', color='orange', linewidth=2)\n",
        "plt.title('Model Accuracy', fontsize=14, pad=20)\n",
        "plt.xlabel('Epoch', fontsize=12)\n",
        "plt.ylabel('Accuracy', fontsize=12)\n",
        "plt.legend()\n",
        "plt.grid(True, linestyle='--', alpha=0.5)\n",
        "plt.ylim(0, 1)\n",
        "\n",
        "# Loss Plot\n",
        "plt.subplot(1, 3, 2)\n",
        "plt.plot(history.history['loss'], label='Train', color='blue', linewidth=2)\n",
        "plt.plot(history.history['val_loss'], label='Validation', color='orange', linewidth=2)\n",
        "plt.title('Model Loss', fontsize=14, pad=20)\n",
        "plt.xlabel('Epoch', fontsize=12)\n",
        "plt.ylabel('Loss', fontsize=12)\n",
        "plt.legend()\n",
        "plt.grid(True, linestyle='--', alpha=0.5)\n",
        "\n",
        "# Learning Rate Plot\n",
        "plt.subplot(1, 3, 3)\n",
        "plt.plot(history.history['lr'], label='Learning Rate', color='green', linewidth=2)\n",
        "plt.title('Learning Rate', fontsize=14, pad=20)\n",
        "plt.xlabel('Epoch', fontsize=12)\n",
        "plt.ylabel('LR', fontsize=12)\n",
        "plt.grid(True, linestyle='--', alpha=0.5)\n",
        "\n",
        "plt.tight_layout()\n",
        "plt.savefig('training_history.png', dpi=300, bbox_inches='tight')\n",
        "plt.show()"
      ],
      "metadata": {
        "id": "_PMNVlu1-JqM",
        "colab": {
          "base_uri": "https://localhost:8080/",
          "height": 507
        },
        "outputId": "a8a8c6b4-a748-471f-ed7d-43cd9020b9a8"
      },
<<<<<<< HEAD
      "execution_count": null,
=======
      "execution_count": 23,
>>>>>>> 0de4e7be2dfb5b93b91f4cc71b4e69cdc2cae8bd
      "outputs": [
        {
          "output_type": "display_data",
          "data": {
            "text/plain": [
              "<Figure size 1200x500 with 2 Axes>"
            ],
            "image/png": "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\n"
          },
          "metadata": {}
        }
      ]
    },
    {
      "cell_type": "code",
      "source": [
        "# Prediksi data test\n",
        "test_generator.reset()\n",
        "predictions = model.predict(test_generator, verbose=1)\n",
        "y_pred = np.argmax(predictions, axis=1)\n",
        "y_true = test_generator.classes\n",
        "class_names = list(test_generator.class_indices.keys())\n",
        "\n",
        "# Classification Report\n",
        "print(\"\\n📝 Classification Report:\")\n",
        "print(classification_report(y_true, y_pred, target_names=class_names, digits=4))"
      ],
      "metadata": {
        "colab": {
          "base_uri": "https://localhost:8080/"
        },
        "id": "tVk4HVtO-KaG",
        "outputId": "1efc66df-7b7e-4cee-8f82-36b5a93866ae"
      },
<<<<<<< HEAD
      "execution_count": null,
=======
      "execution_count": 24,
>>>>>>> 0de4e7be2dfb5b93b91f4cc71b4e69cdc2cae8bd
      "outputs": [
        {
          "output_type": "stream",
          "name": "stdout",
          "text": [
            "\u001b[1m1099/1099\u001b[0m \u001b[32m━━━━━━━━━━━━━━━━━━━━\u001b[0m\u001b[37m\u001b[0m \u001b[1m11s\u001b[0m 7ms/step\n",
            "Classification Report:\n",
            "              precision    recall  f1-score   support\n",
            "\n",
            "        ants       0.95      0.88      0.91       100\n",
            "        bees       0.90      0.97      0.93       100\n",
            "      beetle       0.69      0.63      0.66        83\n",
            "catterpillar       0.86      0.59      0.70        87\n",
            "  earthworms       0.88      0.57      0.69        65\n",
            "      earwig       0.67      0.75      0.71        93\n",
            " grasshopper       0.79      0.87      0.83        97\n",
            "        moth       0.93      0.99      0.96        99\n",
            "        slug       0.71      0.86      0.77        78\n",
            "       snail       1.00      0.97      0.98       100\n",
            "        wasp       0.86      0.97      0.91       100\n",
            "      weevil       0.91      0.96      0.93        97\n",
            "\n",
            "    accuracy                           0.85      1099\n",
            "   macro avg       0.85      0.83      0.83      1099\n",
            "weighted avg       0.85      0.85      0.84      1099\n",
            "\n"
          ]
        }
      ]
    },
    {
      "cell_type": "code",
      "source": [
        "# Confusion Matrix\n",
        "cm = confusion_matrix(y_true, y_pred)\n",
        "plt.figure(figsize=(12, 10))\n",
        "sns.heatmap(cm, annot=True, fmt='d', cmap='Blues',\n",
        "            xticklabels=class_names,\n",
        "            yticklabels=class_names,\n",
        "            cbar=False)\n",
        "plt.title('Confusion Matrix', fontsize=16, pad=20)\n",
        "plt.xlabel('Predicted Labels', fontsize=14)\n",
        "plt.ylabel('True Labels', fontsize=14)\n",
        "plt.xticks(rotation=45, ha='right')\n",
        "plt.yticks(rotation=0)\n",
        "plt.tight_layout()\n",
        "plt.savefig('confusion_matrix.png', dpi=300, bbox_inches='tight')\n",
        "plt.show()"
      ],
      "metadata": {
        "id": "DI24GMqw2k9L"
      },
      "execution_count": null,
      "outputs": []
    },
    {
      "cell_type": "code",
      "source": [
        "# Class-wise Accuracy\n",
        "correct = np.zeros(len(class_names))\n",
        "total = np.zeros(len(class_names))\n",
        "\n",
        "for i in range(len(y_true)):\n",
        "    class_idx = y_true[i]\n",
        "    total[class_idx] += 1\n",
        "    if y_true[i] == y_pred[i]:\n",
        "        correct[class_idx] += 1\n",
        "\n",
        "class_accuracy = correct / total\n",
        "\n",
        "plt.figure(figsize=(12, 6))\n",
        "bars = plt.bar(class_names, class_accuracy, color='skyblue')\n",
        "plt.title('Class-wise Accuracy', fontsize=16, pad=20)\n",
        "plt.xlabel('Class', fontsize=14)\n",
        "plt.ylabel('Accuracy', fontsize=14)\n",
        "plt.ylim(0, 1.1)\n",
        "plt.xticks(rotation=45, ha='right')\n",
        "plt.grid(True, axis='y', linestyle='--', alpha=0.5)\n",
        "\n",
        "# Add accuracy values on top of bars\n",
        "for bar, acc in zip(bars, class_accuracy):\n",
        "    height = bar.get_height()\n",
        "    plt.text(bar.get_x() + bar.get_width()/2., height,\n",
        "             f'{acc:.2f}',\n",
        "             ha='center', va='bottom')\n",
        "\n",
        "plt.tight_layout()\n",
        "plt.savefig('class_accuracy.png', dpi=300, bbox_inches='tight')\n",
        "plt.show()"
      ],
      "metadata": {
        "id": "oAPd-5Wm2t22"
      },
      "execution_count": null,
      "outputs": []
    },
    {
      "cell_type": "markdown",
      "metadata": {
        "id": "y_fIsUogYFSk"
      },
      "source": [
        "## Konversi Model"
      ]
    },
    {
      "cell_type": "code",
<<<<<<< HEAD
      "source": [
        "!pip install tensorflowjs"
      ],
      "metadata": {
        "id": "xP07jkqb6qIk"
      },
      "execution_count": null,
      "outputs": []
    },
    {
      "cell_type": "code",
      "execution_count": null,
=======
      "execution_count": 24,
>>>>>>> 0de4e7be2dfb5b93b91f4cc71b4e69cdc2cae8bd
      "metadata": {
        "id": "hZvGBpYoYFSl"
      },
      "outputs": [],
      "source": [
<<<<<<< HEAD
        "# Model Export Function\n",
=======
        "#Model Export\n",
>>>>>>> 0de4e7be2dfb5b93b91f4cc71b4e69cdc2cae8bd
        "def export_model(model, class_names):\n",
        "    # Create directories\n",
        "    os.makedirs('saved_model', exist_ok=True)\n",
        "    os.makedirs('tflite', exist_ok=True)\n",
<<<<<<< HEAD
        "    os.makedirs('tfjs_model', exist_ok=True)\n",
        "\n",
        "    # 1. Save in SavedModel format (for TF Serving/Cloud)\n",
        "    tf.saved_model.save(model, 'saved_model/my_model')  # Corrected this line\n",
        "\n",
        "    # 2. Convert to TFLite (for mobile devices)\n",
=======
        "\n",
        "    # Save in SavedModel format\n",
        "    model.save('saved_model/my_model')\n",
        "\n",
        "    # Convert to TFLite\n",
>>>>>>> 0de4e7be2dfb5b93b91f4cc71b4e69cdc2cae8bd
        "    converter = tf.lite.TFLiteConverter.from_keras_model(model)\n",
        "    tflite_model = converter.convert()\n",
        "    with open('tflite/model.tflite', 'wb') as f:\n",
        "        f.write(tflite_model)\n",
        "\n",
        "    # Save labels for TFLite\n",
        "    with open('tflite/labels.txt', 'w') as f:\n",
        "        f.write('\\n'.join(class_names))\n",
        "\n",
<<<<<<< HEAD
        "    # 3. Convert to TFJS (for web)\n",
        "    try:\n",
        "        import tensorflowjs as tfjs\n",
        "        tfjs.converters.save_keras_model(model, 'tfjs_model')\n",
        "    except ImportError:\n",
        "        print(\"⚠️ tensorflowjs not installed. Run: pip install tensorflowjs\")\n",
        "\n",
        "    print(\"✅ Model exported in all formats\")\n",
        "\n",
        "# Export the model\n",
=======
        "    # Convert to TFJS (requires tensorflowjs package)\n",
        "    try:\n",
        "        import tensorflowjs as tfjs\n",
        "        os.makedirs('tfjs_model', exist_ok=True)\n",
        "        tfjs.converters.save_keras_model(model, 'tfjs_model')\n",
        "    except ImportError:\n",
        "        print(\"⚠️ tensorflowjs not installed. Skipping TFJS conversion.\")\n",
        "\n",
>>>>>>> 0de4e7be2dfb5b93b91f4cc71b4e69cdc2cae8bd
        "print(\"\\n🛠️ Exporting model...\")\n",
        "export_model(model, class_names)"
      ]
    },
    {
      "cell_type": "code",
      "source": [
        "#Generate requirements.txt\n",
        "print(\"\\n📦 Generating requirements.txt...\")\n",
        "!pip freeze > requirements.txt\n",
        "\n",
        "print(\"\\n✅ All done! Model exported in all required formats.\")"
      ],
      "metadata": {
        "id": "IPi-kSkO25Zn"
      },
      "execution_count": null,
      "outputs": []
    },
    {
      "cell_type": "markdown",
      "source": [
        "## Inference (Optional)"
      ],
      "metadata": {
        "id": "8DbfEwvvm5U4"
      }
    },
    {
      "cell_type": "code",
      "source": [],
      "metadata": {
        "id": "ue5esMSSm8GQ"
      },
<<<<<<< HEAD
      "execution_count": null,
=======
      "execution_count": 24,
>>>>>>> 0de4e7be2dfb5b93b91f4cc71b4e69cdc2cae8bd
      "outputs": []
    }
  ]
}