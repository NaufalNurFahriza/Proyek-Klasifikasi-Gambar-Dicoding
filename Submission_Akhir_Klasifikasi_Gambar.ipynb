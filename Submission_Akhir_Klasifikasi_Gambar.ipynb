{
  "nbformat": 4,
  "nbformat_minor": 0,
  "metadata": {
    "colab": {
      "provenance": [],
      "gpuType": "T4"
    },
    "kernelspec": {
      "name": "python3",
      "display_name": "Python 3"
    },
    "language_info": {
      "name": "python"
    },
    "accelerator": "GPU",
    "widgets": {
      "application/vnd.jupyter.widget-state+json": {
        "f455021b4a5e4fd2a178ce9fd70b4aef": {
          "model_module": "@jupyter-widgets/controls",
          "model_name": "HBoxModel",
          "model_module_version": "1.5.0",
          "state": {
            "_dom_classes": [],
            "_model_module": "@jupyter-widgets/controls",
            "_model_module_version": "1.5.0",
            "_model_name": "HBoxModel",
            "_view_count": null,
            "_view_module": "@jupyter-widgets/controls",
            "_view_module_version": "1.5.0",
            "_view_name": "HBoxView",
            "box_style": "",
            "children": [
              "IPY_MODEL_3500fdbf6a964c34b309c65d8516e7c1",
              "IPY_MODEL_7841b93829764cca8c479852b7819bb5",
              "IPY_MODEL_59156b0f3259400f868ebe05c52baff8"
            ],
            "layout": "IPY_MODEL_fce55d8a5f21496dba3851ea03e6fb6c"
          }
        },
        "3500fdbf6a964c34b309c65d8516e7c1": {
          "model_module": "@jupyter-widgets/controls",
          "model_name": "HTMLModel",
          "model_module_version": "1.5.0",
          "state": {
            "_dom_classes": [],
            "_model_module": "@jupyter-widgets/controls",
            "_model_module_version": "1.5.0",
            "_model_name": "HTMLModel",
            "_view_count": null,
            "_view_module": "@jupyter-widgets/controls",
            "_view_module_version": "1.5.0",
            "_view_name": "HTMLView",
            "description": "",
            "description_tooltip": null,
            "layout": "IPY_MODEL_939bbe0592c540c5b4bc3833b3521343",
            "placeholder": "​",
            "style": "IPY_MODEL_15be314bd5a44e1e9a25d6aa1261b7f8",
            "value": "100%"
          }
        },
        "7841b93829764cca8c479852b7819bb5": {
          "model_module": "@jupyter-widgets/controls",
          "model_name": "FloatProgressModel",
          "model_module_version": "1.5.0",
          "state": {
            "_dom_classes": [],
            "_model_module": "@jupyter-widgets/controls",
            "_model_module_version": "1.5.0",
            "_model_name": "FloatProgressModel",
            "_view_count": null,
            "_view_module": "@jupyter-widgets/controls",
            "_view_module_version": "1.5.0",
            "_view_name": "ProgressView",
            "bar_style": "success",
            "description": "",
            "description_tooltip": null,
            "layout": "IPY_MODEL_646a8cfefa5d4e3a99e7031fa9b3c521",
            "max": 5494,
            "min": 0,
            "orientation": "horizontal",
            "style": "IPY_MODEL_5d54d12ee5fa4bb2896b952edefafb17",
            "value": 5494
          }
        },
        "59156b0f3259400f868ebe05c52baff8": {
          "model_module": "@jupyter-widgets/controls",
          "model_name": "HTMLModel",
          "model_module_version": "1.5.0",
          "state": {
            "_dom_classes": [],
            "_model_module": "@jupyter-widgets/controls",
            "_model_module_version": "1.5.0",
            "_model_name": "HTMLModel",
            "_view_count": null,
            "_view_module": "@jupyter-widgets/controls",
            "_view_module_version": "1.5.0",
            "_view_name": "HTMLView",
            "description": "",
            "description_tooltip": null,
            "layout": "IPY_MODEL_9d261508b5df47e28ac59eb4997946e5",
            "placeholder": "​",
            "style": "IPY_MODEL_e423d05cec4b4609976ea1e34ba3deaa",
            "value": " 5494/5494 [00:01&lt;00:00, 3405.71it/s]"
          }
        },
        "fce55d8a5f21496dba3851ea03e6fb6c": {
          "model_module": "@jupyter-widgets/base",
          "model_name": "LayoutModel",
          "model_module_version": "1.2.0",
          "state": {
            "_model_module": "@jupyter-widgets/base",
            "_model_module_version": "1.2.0",
            "_model_name": "LayoutModel",
            "_view_count": null,
            "_view_module": "@jupyter-widgets/base",
            "_view_module_version": "1.2.0",
            "_view_name": "LayoutView",
            "align_content": null,
            "align_items": null,
            "align_self": null,
            "border": null,
            "bottom": null,
            "display": null,
            "flex": null,
            "flex_flow": null,
            "grid_area": null,
            "grid_auto_columns": null,
            "grid_auto_flow": null,
            "grid_auto_rows": null,
            "grid_column": null,
            "grid_gap": null,
            "grid_row": null,
            "grid_template_areas": null,
            "grid_template_columns": null,
            "grid_template_rows": null,
            "height": null,
            "justify_content": null,
            "justify_items": null,
            "left": null,
            "margin": null,
            "max_height": null,
            "max_width": null,
            "min_height": null,
            "min_width": null,
            "object_fit": null,
            "object_position": null,
            "order": null,
            "overflow": null,
            "overflow_x": null,
            "overflow_y": null,
            "padding": null,
            "right": null,
            "top": null,
            "visibility": null,
            "width": null
          }
        },
        "939bbe0592c540c5b4bc3833b3521343": {
          "model_module": "@jupyter-widgets/base",
          "model_name": "LayoutModel",
          "model_module_version": "1.2.0",
          "state": {
            "_model_module": "@jupyter-widgets/base",
            "_model_module_version": "1.2.0",
            "_model_name": "LayoutModel",
            "_view_count": null,
            "_view_module": "@jupyter-widgets/base",
            "_view_module_version": "1.2.0",
            "_view_name": "LayoutView",
            "align_content": null,
            "align_items": null,
            "align_self": null,
            "border": null,
            "bottom": null,
            "display": null,
            "flex": null,
            "flex_flow": null,
            "grid_area": null,
            "grid_auto_columns": null,
            "grid_auto_flow": null,
            "grid_auto_rows": null,
            "grid_column": null,
            "grid_gap": null,
            "grid_row": null,
            "grid_template_areas": null,
            "grid_template_columns": null,
            "grid_template_rows": null,
            "height": null,
            "justify_content": null,
            "justify_items": null,
            "left": null,
            "margin": null,
            "max_height": null,
            "max_width": null,
            "min_height": null,
            "min_width": null,
            "object_fit": null,
            "object_position": null,
            "order": null,
            "overflow": null,
            "overflow_x": null,
            "overflow_y": null,
            "padding": null,
            "right": null,
            "top": null,
            "visibility": null,
            "width": null
          }
        },
        "15be314bd5a44e1e9a25d6aa1261b7f8": {
          "model_module": "@jupyter-widgets/controls",
          "model_name": "DescriptionStyleModel",
          "model_module_version": "1.5.0",
          "state": {
            "_model_module": "@jupyter-widgets/controls",
            "_model_module_version": "1.5.0",
            "_model_name": "DescriptionStyleModel",
            "_view_count": null,
            "_view_module": "@jupyter-widgets/base",
            "_view_module_version": "1.2.0",
            "_view_name": "StyleView",
            "description_width": ""
          }
        },
        "646a8cfefa5d4e3a99e7031fa9b3c521": {
          "model_module": "@jupyter-widgets/base",
          "model_name": "LayoutModel",
          "model_module_version": "1.2.0",
          "state": {
            "_model_module": "@jupyter-widgets/base",
            "_model_module_version": "1.2.0",
            "_model_name": "LayoutModel",
            "_view_count": null,
            "_view_module": "@jupyter-widgets/base",
            "_view_module_version": "1.2.0",
            "_view_name": "LayoutView",
            "align_content": null,
            "align_items": null,
            "align_self": null,
            "border": null,
            "bottom": null,
            "display": null,
            "flex": null,
            "flex_flow": null,
            "grid_area": null,
            "grid_auto_columns": null,
            "grid_auto_flow": null,
            "grid_auto_rows": null,
            "grid_column": null,
            "grid_gap": null,
            "grid_row": null,
            "grid_template_areas": null,
            "grid_template_columns": null,
            "grid_template_rows": null,
            "height": null,
            "justify_content": null,
            "justify_items": null,
            "left": null,
            "margin": null,
            "max_height": null,
            "max_width": null,
            "min_height": null,
            "min_width": null,
            "object_fit": null,
            "object_position": null,
            "order": null,
            "overflow": null,
            "overflow_x": null,
            "overflow_y": null,
            "padding": null,
            "right": null,
            "top": null,
            "visibility": null,
            "width": null
          }
        },
        "5d54d12ee5fa4bb2896b952edefafb17": {
          "model_module": "@jupyter-widgets/controls",
          "model_name": "ProgressStyleModel",
          "model_module_version": "1.5.0",
          "state": {
            "_model_module": "@jupyter-widgets/controls",
            "_model_module_version": "1.5.0",
            "_model_name": "ProgressStyleModel",
            "_view_count": null,
            "_view_module": "@jupyter-widgets/base",
            "_view_module_version": "1.2.0",
            "_view_name": "StyleView",
            "bar_color": null,
            "description_width": ""
          }
        },
        "9d261508b5df47e28ac59eb4997946e5": {
          "model_module": "@jupyter-widgets/base",
          "model_name": "LayoutModel",
          "model_module_version": "1.2.0",
          "state": {
            "_model_module": "@jupyter-widgets/base",
            "_model_module_version": "1.2.0",
            "_model_name": "LayoutModel",
            "_view_count": null,
            "_view_module": "@jupyter-widgets/base",
            "_view_module_version": "1.2.0",
            "_view_name": "LayoutView",
            "align_content": null,
            "align_items": null,
            "align_self": null,
            "border": null,
            "bottom": null,
            "display": null,
            "flex": null,
            "flex_flow": null,
            "grid_area": null,
            "grid_auto_columns": null,
            "grid_auto_flow": null,
            "grid_auto_rows": null,
            "grid_column": null,
            "grid_gap": null,
            "grid_row": null,
            "grid_template_areas": null,
            "grid_template_columns": null,
            "grid_template_rows": null,
            "height": null,
            "justify_content": null,
            "justify_items": null,
            "left": null,
            "margin": null,
            "max_height": null,
            "max_width": null,
            "min_height": null,
            "min_width": null,
            "object_fit": null,
            "object_position": null,
            "order": null,
            "overflow": null,
            "overflow_x": null,
            "overflow_y": null,
            "padding": null,
            "right": null,
            "top": null,
            "visibility": null,
            "width": null
          }
        },
        "e423d05cec4b4609976ea1e34ba3deaa": {
          "model_module": "@jupyter-widgets/controls",
          "model_name": "DescriptionStyleModel",
          "model_module_version": "1.5.0",
          "state": {
            "_model_module": "@jupyter-widgets/controls",
            "_model_module_version": "1.5.0",
            "_model_name": "DescriptionStyleModel",
            "_view_count": null,
            "_view_module": "@jupyter-widgets/base",
            "_view_module_version": "1.2.0",
            "_view_name": "StyleView",
            "description_width": ""
          }
        }
      }
    }
  },
  "cells": [
    {
      "cell_type": "markdown",
      "metadata": {
        "id": "H9wADwK78DCz"
      },
      "source": [
        "# Proyek Klasifikasi Gambar: https://www.kaggle.com/datasets/vencerlanz09/agricultural-pests-image-dataset\n",
        "- **Nama:** Naufal Nur Fahriza\n",
        "- **Email:** naufalnurfahriza@gmail.com\n",
        "- **ID Dicoding:** NurFahriza"
      ]
    },
    {
      "cell_type": "markdown",
      "metadata": {
        "id": "H-z4QGlO8DC1"
      },
      "source": [
        "## Import Semua Packages/Library yang Digunakan"
      ]
    },
    {
      "cell_type": "code",
      "execution_count": 1,
      "metadata": {
        "id": "FVYwaObI8DC1"
      },
      "outputs": [],
      "source": [
        "# Mengimpor libraries umum yang sering digunakan\n",
        "import os, shutil\n",
        "import zipfile\n",
        "import random\n",
        "from random import sample\n",
        "import shutil\n",
        "from shutil import copyfile\n",
        "import pathlib\n",
        "from pathlib import Path\n",
        "import numpy as np\n",
        "import pandas as pd\n",
        "from tqdm.notebook import tqdm as tq\n",
        "\n",
        "# Mengimpor libraries untuk visualisasi\n",
        "%matplotlib inline\n",
        "import matplotlib.image as mpimg\n",
        "import matplotlib.pyplot as plt\n",
        "import seaborn as sns\n",
        "from matplotlib.image import imread\n",
        "\n",
        "# Mengimpor libraries untuk pemrosesan data gambar\n",
        "import cv2\n",
        "from PIL import Image\n",
        "import skimage\n",
        "from skimage import io\n",
        "from skimage.transform import resize\n",
        "from skimage.transform import rotate, AffineTransform, warp\n",
        "from skimage import img_as_ubyte\n",
        "from skimage.exposure import adjust_gamma\n",
        "from skimage.util import random_noise\n",
        "\n",
        "# Mengimpor libraries untuk pembuatan dan evaluasi model\n",
        "import keras\n",
        "from sklearn.model_selection import train_test_split\n",
        "from sklearn.metrics import confusion_matrix, classification_report\n",
        "import tensorflow as tf\n",
        "from tensorflow.keras.applications import MobileNetV2\n",
        "from tensorflow.keras import Model, layers\n",
        "from tensorflow.keras.preprocessing import image\n",
        "from tensorflow.keras.preprocessing.image import ImageDataGenerator, img_to_array, load_img\n",
        "from tensorflow.keras.optimizers import Adam, RMSprop, SGD\n",
        "from tensorflow.keras.layers import InputLayer, Conv2D, SeparableConv2D, MaxPooling2D, MaxPool2D, Dense, Flatten, Dropout, BatchNormalization, GlobalAveragePooling2D\n",
        "from tensorflow.keras.models import Sequential, Model\n",
        "from tensorflow.keras.applications import MobileNet\n",
        "from tensorflow.keras.applications.densenet import DenseNet121\n",
        "from tensorflow.keras.utils import to_categorical\n",
        "from tensorflow.keras.callbacks import ModelCheckpoint, Callback, EarlyStopping, ReduceLROnPlateau\n",
        "from sklearn.utils.class_weight import compute_class_weight\n",
        "from tensorflow.keras.optimizers.schedules import ExponentialDecay\n",
        "\n",
        "# Mengabaikan peringatan\n",
        "import warnings\n",
        "warnings.simplefilter(action='ignore', category=FutureWarning)"
      ]
    },
    {
      "cell_type": "code",
      "source": [
        "# Mencetak versi TensorFlow yang sedang digunakan\n",
        "print(tf.__version__)"
      ],
      "metadata": {
        "colab": {
          "base_uri": "https://localhost:8080/"
        },
        "id": "5E1hiBBdK_ya",
        "outputId": "3351aa35-4720-4bac-b43c-dcbf666ca239"
      },
      "execution_count": 2,
      "outputs": [
        {
          "output_type": "stream",
          "name": "stdout",
          "text": [
            "2.18.0\n"
          ]
        }
      ]
    },
    {
      "cell_type": "markdown",
      "source": [
        "## Data Preparation"
      ],
      "metadata": {
        "id": "TK4DvqfbYrN8"
      }
    },
    {
      "cell_type": "markdown",
      "metadata": {
        "id": "HHekw29KX4XQ"
      },
      "source": [
        "### Data Loading"
      ]
    },
    {
      "cell_type": "code",
      "execution_count": 3,
      "metadata": {
        "id": "wIcv1F9fX4XQ",
        "colab": {
          "base_uri": "https://localhost:8080/",
          "height": 89
        },
        "outputId": "3ffb151f-b320-424e-ac0d-1867f3bbaf7f"
      },
      "outputs": [
        {
          "output_type": "display_data",
          "data": {
            "text/plain": [
              "<IPython.core.display.HTML object>"
            ],
            "text/html": [
              "\n",
              "     <input type=\"file\" id=\"files-076af14e-5438-4c40-9fc7-24a88ddc8353\" name=\"files[]\" multiple disabled\n",
              "        style=\"border:none\" />\n",
              "     <output id=\"result-076af14e-5438-4c40-9fc7-24a88ddc8353\">\n",
              "      Upload widget is only available when the cell has been executed in the\n",
              "      current browser session. Please rerun this cell to enable.\n",
              "      </output>\n",
              "      <script>// Copyright 2017 Google LLC\n",
              "//\n",
              "// Licensed under the Apache License, Version 2.0 (the \"License\");\n",
              "// you may not use this file except in compliance with the License.\n",
              "// You may obtain a copy of the License at\n",
              "//\n",
              "//      http://www.apache.org/licenses/LICENSE-2.0\n",
              "//\n",
              "// Unless required by applicable law or agreed to in writing, software\n",
              "// distributed under the License is distributed on an \"AS IS\" BASIS,\n",
              "// WITHOUT WARRANTIES OR CONDITIONS OF ANY KIND, either express or implied.\n",
              "// See the License for the specific language governing permissions and\n",
              "// limitations under the License.\n",
              "\n",
              "/**\n",
              " * @fileoverview Helpers for google.colab Python module.\n",
              " */\n",
              "(function(scope) {\n",
              "function span(text, styleAttributes = {}) {\n",
              "  const element = document.createElement('span');\n",
              "  element.textContent = text;\n",
              "  for (const key of Object.keys(styleAttributes)) {\n",
              "    element.style[key] = styleAttributes[key];\n",
              "  }\n",
              "  return element;\n",
              "}\n",
              "\n",
              "// Max number of bytes which will be uploaded at a time.\n",
              "const MAX_PAYLOAD_SIZE = 100 * 1024;\n",
              "\n",
              "function _uploadFiles(inputId, outputId) {\n",
              "  const steps = uploadFilesStep(inputId, outputId);\n",
              "  const outputElement = document.getElementById(outputId);\n",
              "  // Cache steps on the outputElement to make it available for the next call\n",
              "  // to uploadFilesContinue from Python.\n",
              "  outputElement.steps = steps;\n",
              "\n",
              "  return _uploadFilesContinue(outputId);\n",
              "}\n",
              "\n",
              "// This is roughly an async generator (not supported in the browser yet),\n",
              "// where there are multiple asynchronous steps and the Python side is going\n",
              "// to poll for completion of each step.\n",
              "// This uses a Promise to block the python side on completion of each step,\n",
              "// then passes the result of the previous step as the input to the next step.\n",
              "function _uploadFilesContinue(outputId) {\n",
              "  const outputElement = document.getElementById(outputId);\n",
              "  const steps = outputElement.steps;\n",
              "\n",
              "  const next = steps.next(outputElement.lastPromiseValue);\n",
              "  return Promise.resolve(next.value.promise).then((value) => {\n",
              "    // Cache the last promise value to make it available to the next\n",
              "    // step of the generator.\n",
              "    outputElement.lastPromiseValue = value;\n",
              "    return next.value.response;\n",
              "  });\n",
              "}\n",
              "\n",
              "/**\n",
              " * Generator function which is called between each async step of the upload\n",
              " * process.\n",
              " * @param {string} inputId Element ID of the input file picker element.\n",
              " * @param {string} outputId Element ID of the output display.\n",
              " * @return {!Iterable<!Object>} Iterable of next steps.\n",
              " */\n",
              "function* uploadFilesStep(inputId, outputId) {\n",
              "  const inputElement = document.getElementById(inputId);\n",
              "  inputElement.disabled = false;\n",
              "\n",
              "  const outputElement = document.getElementById(outputId);\n",
              "  outputElement.innerHTML = '';\n",
              "\n",
              "  const pickedPromise = new Promise((resolve) => {\n",
              "    inputElement.addEventListener('change', (e) => {\n",
              "      resolve(e.target.files);\n",
              "    });\n",
              "  });\n",
              "\n",
              "  const cancel = document.createElement('button');\n",
              "  inputElement.parentElement.appendChild(cancel);\n",
              "  cancel.textContent = 'Cancel upload';\n",
              "  const cancelPromise = new Promise((resolve) => {\n",
              "    cancel.onclick = () => {\n",
              "      resolve(null);\n",
              "    };\n",
              "  });\n",
              "\n",
              "  // Wait for the user to pick the files.\n",
              "  const files = yield {\n",
              "    promise: Promise.race([pickedPromise, cancelPromise]),\n",
              "    response: {\n",
              "      action: 'starting',\n",
              "    }\n",
              "  };\n",
              "\n",
              "  cancel.remove();\n",
              "\n",
              "  // Disable the input element since further picks are not allowed.\n",
              "  inputElement.disabled = true;\n",
              "\n",
              "  if (!files) {\n",
              "    return {\n",
              "      response: {\n",
              "        action: 'complete',\n",
              "      }\n",
              "    };\n",
              "  }\n",
              "\n",
              "  for (const file of files) {\n",
              "    const li = document.createElement('li');\n",
              "    li.append(span(file.name, {fontWeight: 'bold'}));\n",
              "    li.append(span(\n",
              "        `(${file.type || 'n/a'}) - ${file.size} bytes, ` +\n",
              "        `last modified: ${\n",
              "            file.lastModifiedDate ? file.lastModifiedDate.toLocaleDateString() :\n",
              "                                    'n/a'} - `));\n",
              "    const percent = span('0% done');\n",
              "    li.appendChild(percent);\n",
              "\n",
              "    outputElement.appendChild(li);\n",
              "\n",
              "    const fileDataPromise = new Promise((resolve) => {\n",
              "      const reader = new FileReader();\n",
              "      reader.onload = (e) => {\n",
              "        resolve(e.target.result);\n",
              "      };\n",
              "      reader.readAsArrayBuffer(file);\n",
              "    });\n",
              "    // Wait for the data to be ready.\n",
              "    let fileData = yield {\n",
              "      promise: fileDataPromise,\n",
              "      response: {\n",
              "        action: 'continue',\n",
              "      }\n",
              "    };\n",
              "\n",
              "    // Use a chunked sending to avoid message size limits. See b/62115660.\n",
              "    let position = 0;\n",
              "    do {\n",
              "      const length = Math.min(fileData.byteLength - position, MAX_PAYLOAD_SIZE);\n",
              "      const chunk = new Uint8Array(fileData, position, length);\n",
              "      position += length;\n",
              "\n",
              "      const base64 = btoa(String.fromCharCode.apply(null, chunk));\n",
              "      yield {\n",
              "        response: {\n",
              "          action: 'append',\n",
              "          file: file.name,\n",
              "          data: base64,\n",
              "        },\n",
              "      };\n",
              "\n",
              "      let percentDone = fileData.byteLength === 0 ?\n",
              "          100 :\n",
              "          Math.round((position / fileData.byteLength) * 100);\n",
              "      percent.textContent = `${percentDone}% done`;\n",
              "\n",
              "    } while (position < fileData.byteLength);\n",
              "  }\n",
              "\n",
              "  // All done.\n",
              "  yield {\n",
              "    response: {\n",
              "      action: 'complete',\n",
              "    }\n",
              "  };\n",
              "}\n",
              "\n",
              "scope.google = scope.google || {};\n",
              "scope.google.colab = scope.google.colab || {};\n",
              "scope.google.colab._files = {\n",
              "  _uploadFiles,\n",
              "  _uploadFilesContinue,\n",
              "};\n",
              "})(self);\n",
              "</script> "
            ]
          },
          "metadata": {}
        },
        {
          "output_type": "stream",
          "name": "stdout",
          "text": [
            "Saving kaggle.json to kaggle.json\n"
          ]
        },
        {
          "output_type": "execute_result",
          "data": {
            "text/plain": [
              "{'kaggle.json': b'{\"username\":\"naufalnurfahriza\",\"key\":\"ec6f7ab7dabebc9fd0600384aa1880de\"}'}"
            ]
          },
          "metadata": {},
          "execution_count": 3
        }
      ],
      "source": [
        "# Import module yang disediakan google colab untuk kebutuhan upload file\n",
        "from google.colab import files\n",
        "files.upload()"
      ]
    },
    {
      "cell_type": "code",
      "source": [
        "!pip install -q kaggle"
      ],
      "metadata": {
        "id": "z1gCZnpPLTS5"
      },
      "execution_count": 4,
      "outputs": []
    },
    {
      "cell_type": "code",
      "source": [
        "# Setup credential kaggle\n",
        "!mkdir -p ~/.kaggle\n",
        "!cp kaggle.json ~/.kaggle/\n",
        "!chmod 600 ~/.kaggle/kaggle.json"
      ],
      "metadata": {
        "id": "mHDs9e-OLVVV"
      },
      "execution_count": 5,
      "outputs": []
    },
    {
      "cell_type": "code",
      "source": [
        "# Download dataset DermNet\n",
        "!kaggle datasets download -d vencerlanz09/agricultural-pests-image-dataset"
      ],
      "metadata": {
        "colab": {
          "base_uri": "https://localhost:8080/"
        },
        "id": "h5Ipi9tALXyY",
        "outputId": "d9898184-f1e3-4a9c-e0ef-89a41c61b4ea"
      },
      "execution_count": 6,
      "outputs": [
        {
          "output_type": "stream",
          "name": "stdout",
          "text": [
            "Dataset URL: https://www.kaggle.com/datasets/vencerlanz09/agricultural-pests-image-dataset\n",
            "License(s): copyright-authors\n"
          ]
        }
      ]
    },
    {
      "cell_type": "code",
      "source": [
        "# Unzip dataset\n",
        "!unzip -q agricultural-pests-image-dataset.zip -d pests_data"
      ],
      "metadata": {
        "id": "zIzrm5ixLZ6C"
      },
      "execution_count": 7,
      "outputs": []
    },
    {
      "cell_type": "code",
      "source": [
        "# Verifikasi dataset\n",
        "print(\"Daftar folder:\")\n",
        "print(os.listdir(\"pests_data\"))\n",
        "print(\"\\nJumlah gambar per kategori:\")\n",
        "for folder in os.listdir(\"pests_data\"):\n",
        "    folder_path = os.path.join(\"pests_data\", folder)\n",
        "    if os.path.isdir(folder_path):\n",
        "        print(f\"{folder}: {len(os.listdir(folder_path))} gambar\")"
      ],
      "metadata": {
        "id": "kEkEw2z7LcuA",
        "colab": {
          "base_uri": "https://localhost:8080/"
        },
        "outputId": "4aa99a33-52d8-4521-8040-17356d09470c"
      },
      "execution_count": 9,
      "outputs": [
        {
          "output_type": "stream",
          "name": "stdout",
          "text": [
            "Daftar folder:\n",
            "['beetle', 'catterpillar', 'ants', 'snail', 'slug', 'earwig', 'earthworms', 'weevil', 'moth', 'bees', 'wasp', 'grasshopper']\n",
            "\n",
            "Jumlah gambar per kategori:\n",
            "beetle: 416 gambar\n",
            "catterpillar: 434 gambar\n",
            "ants: 499 gambar\n",
            "snail: 500 gambar\n",
            "slug: 391 gambar\n",
            "earwig: 466 gambar\n",
            "earthworms: 323 gambar\n",
            "weevil: 485 gambar\n",
            "moth: 497 gambar\n",
            "bees: 500 gambar\n",
            "wasp: 498 gambar\n",
            "grasshopper: 485 gambar\n"
          ]
        }
      ]
    },
    {
      "cell_type": "markdown",
      "metadata": {
        "id": "bFgLyQPHX98s"
      },
      "source": [
        "### Data Preprocessing"
      ]
    },
    {
      "cell_type": "markdown",
      "source": [
        "#### Split Dataset"
      ],
      "metadata": {
        "id": "9ICO2-E0YxzD"
      }
    },
    {
      "cell_type": "code",
      "source": [
        "# Panggil variabel mypath yang menampung folder dataset gambar\n",
        "mypath = 'pests_data/'\n",
        "\n",
        "file_name = []\n",
        "labels = []\n",
        "full_path = []\n",
        "\n",
        "for path, subdirs, files in os.walk(mypath):\n",
        "    for name in files:\n",
        "        full_path.append(os.path.join(path, name))\n",
        "        labels.append(path.split('/')[-1])\n",
        "        file_name.append(name)\n",
        "\n",
        "df = pd.DataFrame({\n",
        "    \"path\": full_path,\n",
        "    \"file_name\": file_name,\n",
        "    \"labels\": labels\n",
        "})\n",
        "\n",
        "print(\"\\nDistribusi data awal:\")\n",
        "print(df.groupby(['labels']).size())"
      ],
      "metadata": {
        "id": "568x62lxqLFB",
        "colab": {
          "base_uri": "https://localhost:8080/"
        },
        "outputId": "d064b1ed-275c-481f-b848-65e298f1a04d"
      },
      "execution_count": 10,
      "outputs": [
        {
          "output_type": "stream",
          "name": "stdout",
          "text": [
            "\n",
            "Distribusi data awal:\n",
            "labels\n",
            "ants            499\n",
            "bees            500\n",
            "beetle          416\n",
            "catterpillar    434\n",
            "earthworms      323\n",
            "earwig          466\n",
            "grasshopper     485\n",
            "moth            497\n",
            "slug            391\n",
            "snail           500\n",
            "wasp            498\n",
            "weevil          485\n",
            "dtype: int64\n"
          ]
        }
      ]
    },
    {
      "cell_type": "code",
      "source": [
        "# Variabel yang digunakan pada pemisahan data ini dimana variabel x = data path dan y = data labels\n",
        "X = df['path']\n",
        "y = df['labels']\n",
        "\n",
        "# Split ke train dan test (80:20)\n",
        "X_train, X_test, y_train, y_test = train_test_split(\n",
        "    X, y, test_size=0.2, stratify=y, random_state=42)"
      ],
      "metadata": {
        "id": "q6PZUXIYqS-g"
      },
      "execution_count": 11,
      "outputs": []
    },
    {
      "cell_type": "code",
      "source": [
        "# Menyatukan kedalam masing-masing dataframe\n",
        "df_tr = pd.DataFrame({'path': X_train, 'labels': y_train, 'set': 'train'})\n",
        "df_te = pd.DataFrame({'path': X_test, 'labels': y_test, 'set': 'test'})"
      ],
      "metadata": {
        "id": "_OVnphIsqTmW"
      },
      "execution_count": 12,
      "outputs": []
    },
    {
      "cell_type": "code",
      "source": [
        "# Print hasil diatas untuk melihat panjang size data training dan testing\n",
        "print('\\ntrain size:', len(df_tr))\n",
        "print('test size :', len(df_te))"
      ],
      "metadata": {
        "id": "IsMv6CXLqVxa",
        "colab": {
          "base_uri": "https://localhost:8080/"
        },
        "outputId": "c40b2421-4ae6-49db-b1f0-ca88cc00b742"
      },
      "execution_count": 13,
      "outputs": [
        {
          "output_type": "stream",
          "name": "stdout",
          "text": [
            "\n",
            "train size: 4395\n",
            "test size : 1099\n"
          ]
        }
      ]
    },
    {
      "cell_type": "code",
      "source": [
        "# Gabungkan DataFrame df_tr dan df_te\n",
        "df_all = pd.concat([df_tr, df_te], ignore_index=True)\n",
        "\n",
        "print('\\nDistribusi setelah split:')\n",
        "print(df_all.groupby(['set', 'labels']).size())"
      ],
      "metadata": {
        "id": "zHbyhsGRqXzn",
        "colab": {
          "base_uri": "https://localhost:8080/"
        },
        "outputId": "9d1a6d26-475c-4dac-e366-c18e751c01a8"
      },
      "execution_count": 14,
      "outputs": [
        {
          "output_type": "stream",
          "name": "stdout",
          "text": [
            "\n",
            "Distribusi setelah split:\n",
            "set    labels      \n",
            "test   ants            100\n",
            "       bees            100\n",
            "       beetle           83\n",
            "       catterpillar     87\n",
            "       earthworms       65\n",
            "       earwig           93\n",
            "       grasshopper      97\n",
            "       moth             99\n",
            "       slug             78\n",
            "       snail           100\n",
            "       wasp            100\n",
            "       weevil           97\n",
            "train  ants            399\n",
            "       bees            400\n",
            "       beetle          333\n",
            "       catterpillar    347\n",
            "       earthworms      258\n",
            "       earwig          373\n",
            "       grasshopper     388\n",
            "       moth            398\n",
            "       slug            313\n",
            "       snail           400\n",
            "       wasp            398\n",
            "       weevil          388\n",
            "dtype: int64\n"
          ]
        }
      ]
    },
    {
      "cell_type": "code",
      "source": [
        "# Buat struktur folder baru\n",
        "dataset_path = \"pests_dataset_final/\"\n",
        "os.makedirs(dataset_path, exist_ok=True)"
      ],
      "metadata": {
        "id": "80BJuXZUqaGo"
      },
      "execution_count": 15,
      "outputs": []
    },
    {
      "cell_type": "code",
      "source": [
        "# Salin gambar ke folder baru sesuai set dan label\n",
        "for index, row in tq(df_all.iterrows(), total=len(df_all)):\n",
        "    file_path = row['path']\n",
        "    label = row['labels']\n",
        "    subset = row['set']\n",
        "\n",
        "    dest_folder = os.path.join(dataset_path, subset, label)\n",
        "    os.makedirs(dest_folder, exist_ok=True)\n",
        "\n",
        "    file_name = os.path.basename(file_path)\n",
        "    dest_path = os.path.join(dest_folder, file_name)\n",
        "\n",
        "    if not os.path.exists(dest_path):\n",
        "        shutil.copy2(file_path, dest_path)"
      ],
      "metadata": {
        "id": "dO7Fg6YXqgWG",
        "colab": {
          "base_uri": "https://localhost:8080/",
          "height": 49,
          "referenced_widgets": [
            "f455021b4a5e4fd2a178ce9fd70b4aef",
            "3500fdbf6a964c34b309c65d8516e7c1",
            "7841b93829764cca8c479852b7819bb5",
            "59156b0f3259400f868ebe05c52baff8",
            "fce55d8a5f21496dba3851ea03e6fb6c",
            "939bbe0592c540c5b4bc3833b3521343",
            "15be314bd5a44e1e9a25d6aa1261b7f8",
            "646a8cfefa5d4e3a99e7031fa9b3c521",
            "5d54d12ee5fa4bb2896b952edefafb17",
            "9d261508b5df47e28ac59eb4997946e5",
            "e423d05cec4b4609976ea1e34ba3deaa"
          ]
        },
        "outputId": "0c552e12-5b1a-4588-9360-5f8b379240c5"
      },
      "execution_count": 16,
      "outputs": [
        {
          "output_type": "display_data",
          "data": {
            "text/plain": [
              "  0%|          | 0/5494 [00:00<?, ?it/s]"
            ],
            "application/vnd.jupyter.widget-view+json": {
              "version_major": 2,
              "version_minor": 0,
              "model_id": "f455021b4a5e4fd2a178ce9fd70b4aef"
            }
          },
          "metadata": {}
        }
      ]
    },
    {
      "cell_type": "markdown",
      "source": [
        "### Image Data Generator"
      ],
      "metadata": {
        "id": "Y2MChrDaqpg1"
      }
    },
    {
      "cell_type": "markdown",
      "metadata": {
        "id": "nc-Ph-oIYAUU"
      },
      "source": [
        "## Modelling"
      ]
    },
    {
      "cell_type": "code",
      "source": [
        "# Define training and test directories\n",
        "TRAIN_DIR = \"pests_dataset_final/train/\"\n",
        "TEST_DIR = \"pests_dataset_final/test/\"\n",
        "\n",
        "class_names = os.listdir(TRAIN_DIR)\n",
        "\n",
        "print(\"📊 Jumlah gambar per kelas:\")\n",
        "print(\"\\nTraining Set:\")\n",
        "for cls in class_names:\n",
        "    cls_path = os.path.join(TRAIN_DIR, cls)\n",
        "    num_images = len(os.listdir(cls_path))\n",
        "    print(f\"  {cls}: {num_images}\")\n",
        "\n",
        "print(\"\\nTest Set:\")\n",
        "for cls in class_names:\n",
        "    cls_path = os.path.join(TEST_DIR, cls)\n",
        "    num_images = len(os.listdir(cls_path))\n",
        "    print(f\"  {cls}: {num_images}\")"
      ],
      "metadata": {
        "id": "8y3aT8ZVtEHB",
        "colab": {
          "base_uri": "https://localhost:8080/"
        },
        "outputId": "135eb981-7242-4c03-f3c4-b3f8ee9a37e6"
      },
      "execution_count": 17,
      "outputs": [
        {
          "output_type": "stream",
          "name": "stdout",
          "text": [
            "📊 Jumlah gambar per kelas:\n",
            "\n",
            "Training Set:\n",
            "  beetle: 333\n",
            "  catterpillar: 347\n",
            "  ants: 399\n",
            "  snail: 400\n",
            "  slug: 313\n",
            "  earwig: 373\n",
            "  earthworms: 258\n",
            "  weevil: 388\n",
            "  moth: 398\n",
            "  bees: 400\n",
            "  wasp: 398\n",
            "  grasshopper: 388\n",
            "\n",
            "Test Set:\n",
            "  beetle: 83\n",
            "  catterpillar: 87\n",
            "  ants: 100\n",
            "  snail: 100\n",
            "  slug: 78\n",
            "  earwig: 93\n",
            "  earthworms: 65\n",
            "  weevil: 97\n",
            "  moth: 99\n",
            "  bees: 100\n",
            "  wasp: 100\n",
            "  grasshopper: 97\n"
          ]
        }
      ]
    },
    {
      "cell_type": "code",
      "source": [
        "# Buat objek ImageDataGenerator yang menormalkan gambar dan menyertakan validation split\n",
        "datagen = ImageDataGenerator(\n",
        "    rescale=1/255.,\n",
        "    rotation_range=15,\n",
        "    height_shift_range=0.15,\n",
        "    shear_range=0.1,\n",
        "    zoom_range=0.15,\n",
        "    horizontal_flip=True,\n",
        "    fill_mode='nearest',\n",
        "    brightness_range=[0.85, 1.15],\n",
        "    validation_split=0.2\n",
        ")\n",
        "\n",
        "# Generator untuk data test\n",
        "test_datagen = ImageDataGenerator(rescale=1./255)\n",
        "\n",
        "# Generator untuk training set\n",
        "train_generator = datagen.flow_from_directory(\n",
        "    TRAIN_DIR,\n",
        "    batch_size=32,\n",
        "    target_size=(224, 224),\n",
        "    color_mode=\"rgb\",\n",
        "    class_mode='categorical',\n",
        "    subset='training',\n",
        "    shuffle=True\n",
        ")\n",
        "\n",
        "# Generator untuk validation set\n",
        "validation_generator = datagen.flow_from_directory(\n",
        "    TRAIN_DIR,\n",
        "    batch_size=32,\n",
        "    target_size=(224, 224),\n",
        "    color_mode=\"rgb\",\n",
        "    class_mode='categorical',\n",
        "    subset='validation',\n",
        "    shuffle=False\n",
        ")\n",
        "\n",
        "# Generator untuk test set\n",
        "test_generator = test_datagen.flow_from_directory(\n",
        "    TEST_DIR,\n",
        "    batch_size=1,\n",
        "    target_size=(224, 224),\n",
        "    color_mode=\"rgb\",\n",
        "    class_mode='categorical',\n",
        "    shuffle=False\n",
        ")"
      ],
      "metadata": {
        "id": "2hyOGeW7tWj6",
        "colab": {
          "base_uri": "https://localhost:8080/"
        },
        "outputId": "b53e1194-5a39-4084-efc0-695fc943dc64"
      },
      "execution_count": 18,
      "outputs": [
        {
          "output_type": "stream",
          "name": "stdout",
          "text": [
            "Found 3522 images belonging to 12 classes.\n",
            "Found 873 images belonging to 12 classes.\n",
            "Found 1099 images belonging to 12 classes.\n"
          ]
        }
      ]
    },
    {
      "cell_type": "code",
      "source": [
        "# Define Transfer Learning Model with Sequential\n",
        "from tensorflow.keras.callbacks import LearningRateScheduler\n",
        "\n",
        "# Define the learning rate schedule function\n",
        "def lr_schedule(epoch):\n",
        "    initial_lr = 0.001\n",
        "    decay_rate = 0.9\n",
        "    decay_steps = 1000\n",
        "    epoch_decay = epoch // (decay_steps // (train_generator.samples // train_generator.batch_size))\n",
        "    return initial_lr * (decay_rate ** epoch_decay)\n",
        "\n",
        "# Define the model architecture\n",
        "def create_model():\n",
        "    # Load MobileNetV2 as base model\n",
        "    base_model = MobileNetV2(\n",
        "        input_shape=(224, 224, 3),\n",
        "        include_top=False,\n",
        "        weights='imagenet',\n",
        "        pooling=None\n",
        "    )\n",
        "\n",
        "    # Freeze the base model\n",
        "    base_model.trainable = False\n",
        "\n",
        "    # Build custom head\n",
        "    model = Sequential([\n",
        "      base_model,\n",
        "      Dropout(0.5),  # Tingkatkan dropout\n",
        "      Conv2D(32, (3,3), padding='same', activation='relu', kernel_regularizer='l2'),\n",
        "      GlobalAveragePooling2D(),\n",
        "      Dense(256, activation='relu', kernel_regularizer='l2'),\n",
        "      Dropout(0.3),\n",
        "      Dense(len(class_names), activation='softmax')\n",
        "    ])\n",
        "\n",
        "    return model\n",
        "\n",
        "# Create model\n",
        "model = create_model()\n",
        "model.summary()"
      ],
      "metadata": {
        "id": "K7SRcCap9LN_",
        "colab": {
          "base_uri": "https://localhost:8080/",
          "height": 425
        },
        "outputId": "9cabd551-9927-4ac0-8fbc-5a095ef68827"
      },
      "execution_count": 19,
      "outputs": [
        {
          "output_type": "stream",
          "name": "stdout",
          "text": [
            "Downloading data from https://storage.googleapis.com/tensorflow/keras-applications/mobilenet_v2/mobilenet_v2_weights_tf_dim_ordering_tf_kernels_1.0_224_no_top.h5\n",
            "\u001b[1m9406464/9406464\u001b[0m \u001b[32m━━━━━━━━━━━━━━━━━━━━\u001b[0m\u001b[37m\u001b[0m \u001b[1m0s\u001b[0m 0us/step\n"
          ]
        },
        {
          "output_type": "display_data",
          "data": {
            "text/plain": [
              "\u001b[1mModel: \"sequential\"\u001b[0m\n"
            ],
            "text/html": [
              "<pre style=\"white-space:pre;overflow-x:auto;line-height:normal;font-family:Menlo,'DejaVu Sans Mono',consolas,'Courier New',monospace\"><span style=\"font-weight: bold\">Model: \"sequential\"</span>\n",
              "</pre>\n"
            ]
          },
          "metadata": {}
        },
        {
          "output_type": "display_data",
          "data": {
            "text/plain": [
              "┏━━━━━━━━━━━━━━━━━━━━━━━━━━━━━━━━━┳━━━━━━━━━━━━━━━━━━━━━━━━┳━━━━━━━━━━━━━━━┓\n",
              "┃\u001b[1m \u001b[0m\u001b[1mLayer (type)                   \u001b[0m\u001b[1m \u001b[0m┃\u001b[1m \u001b[0m\u001b[1mOutput Shape          \u001b[0m\u001b[1m \u001b[0m┃\u001b[1m \u001b[0m\u001b[1m      Param #\u001b[0m\u001b[1m \u001b[0m┃\n",
              "┡━━━━━━━━━━━━━━━━━━━━━━━━━━━━━━━━━╇━━━━━━━━━━━━━━━━━━━━━━━━╇━━━━━━━━━━━━━━━┩\n",
              "│ mobilenetv2_1.00_224            │ (\u001b[38;5;45mNone\u001b[0m, \u001b[38;5;34m7\u001b[0m, \u001b[38;5;34m7\u001b[0m, \u001b[38;5;34m1280\u001b[0m)     │     \u001b[38;5;34m2,257,984\u001b[0m │\n",
              "│ (\u001b[38;5;33mFunctional\u001b[0m)                    │                        │               │\n",
              "├─────────────────────────────────┼────────────────────────┼───────────────┤\n",
              "│ dropout (\u001b[38;5;33mDropout\u001b[0m)               │ (\u001b[38;5;45mNone\u001b[0m, \u001b[38;5;34m7\u001b[0m, \u001b[38;5;34m7\u001b[0m, \u001b[38;5;34m1280\u001b[0m)     │             \u001b[38;5;34m0\u001b[0m │\n",
              "├─────────────────────────────────┼────────────────────────┼───────────────┤\n",
              "│ conv2d (\u001b[38;5;33mConv2D\u001b[0m)                 │ (\u001b[38;5;45mNone\u001b[0m, \u001b[38;5;34m7\u001b[0m, \u001b[38;5;34m7\u001b[0m, \u001b[38;5;34m32\u001b[0m)       │       \u001b[38;5;34m368,672\u001b[0m │\n",
              "├─────────────────────────────────┼────────────────────────┼───────────────┤\n",
              "│ global_average_pooling2d        │ (\u001b[38;5;45mNone\u001b[0m, \u001b[38;5;34m32\u001b[0m)             │             \u001b[38;5;34m0\u001b[0m │\n",
              "│ (\u001b[38;5;33mGlobalAveragePooling2D\u001b[0m)        │                        │               │\n",
              "├─────────────────────────────────┼────────────────────────┼───────────────┤\n",
              "│ dense (\u001b[38;5;33mDense\u001b[0m)                   │ (\u001b[38;5;45mNone\u001b[0m, \u001b[38;5;34m256\u001b[0m)            │         \u001b[38;5;34m8,448\u001b[0m │\n",
              "├─────────────────────────────────┼────────────────────────┼───────────────┤\n",
              "│ dropout_1 (\u001b[38;5;33mDropout\u001b[0m)             │ (\u001b[38;5;45mNone\u001b[0m, \u001b[38;5;34m256\u001b[0m)            │             \u001b[38;5;34m0\u001b[0m │\n",
              "├─────────────────────────────────┼────────────────────────┼───────────────┤\n",
              "│ dense_1 (\u001b[38;5;33mDense\u001b[0m)                 │ (\u001b[38;5;45mNone\u001b[0m, \u001b[38;5;34m12\u001b[0m)             │         \u001b[38;5;34m3,084\u001b[0m │\n",
              "└─────────────────────────────────┴────────────────────────┴───────────────┘\n"
            ],
            "text/html": [
              "<pre style=\"white-space:pre;overflow-x:auto;line-height:normal;font-family:Menlo,'DejaVu Sans Mono',consolas,'Courier New',monospace\">┏━━━━━━━━━━━━━━━━━━━━━━━━━━━━━━━━━┳━━━━━━━━━━━━━━━━━━━━━━━━┳━━━━━━━━━━━━━━━┓\n",
              "┃<span style=\"font-weight: bold\"> Layer (type)                    </span>┃<span style=\"font-weight: bold\"> Output Shape           </span>┃<span style=\"font-weight: bold\">       Param # </span>┃\n",
              "┡━━━━━━━━━━━━━━━━━━━━━━━━━━━━━━━━━╇━━━━━━━━━━━━━━━━━━━━━━━━╇━━━━━━━━━━━━━━━┩\n",
              "│ mobilenetv2_1.00_224            │ (<span style=\"color: #00d7ff; text-decoration-color: #00d7ff\">None</span>, <span style=\"color: #00af00; text-decoration-color: #00af00\">7</span>, <span style=\"color: #00af00; text-decoration-color: #00af00\">7</span>, <span style=\"color: #00af00; text-decoration-color: #00af00\">1280</span>)     │     <span style=\"color: #00af00; text-decoration-color: #00af00\">2,257,984</span> │\n",
              "│ (<span style=\"color: #0087ff; text-decoration-color: #0087ff\">Functional</span>)                    │                        │               │\n",
              "├─────────────────────────────────┼────────────────────────┼───────────────┤\n",
              "│ dropout (<span style=\"color: #0087ff; text-decoration-color: #0087ff\">Dropout</span>)               │ (<span style=\"color: #00d7ff; text-decoration-color: #00d7ff\">None</span>, <span style=\"color: #00af00; text-decoration-color: #00af00\">7</span>, <span style=\"color: #00af00; text-decoration-color: #00af00\">7</span>, <span style=\"color: #00af00; text-decoration-color: #00af00\">1280</span>)     │             <span style=\"color: #00af00; text-decoration-color: #00af00\">0</span> │\n",
              "├─────────────────────────────────┼────────────────────────┼───────────────┤\n",
              "│ conv2d (<span style=\"color: #0087ff; text-decoration-color: #0087ff\">Conv2D</span>)                 │ (<span style=\"color: #00d7ff; text-decoration-color: #00d7ff\">None</span>, <span style=\"color: #00af00; text-decoration-color: #00af00\">7</span>, <span style=\"color: #00af00; text-decoration-color: #00af00\">7</span>, <span style=\"color: #00af00; text-decoration-color: #00af00\">32</span>)       │       <span style=\"color: #00af00; text-decoration-color: #00af00\">368,672</span> │\n",
              "├─────────────────────────────────┼────────────────────────┼───────────────┤\n",
              "│ global_average_pooling2d        │ (<span style=\"color: #00d7ff; text-decoration-color: #00d7ff\">None</span>, <span style=\"color: #00af00; text-decoration-color: #00af00\">32</span>)             │             <span style=\"color: #00af00; text-decoration-color: #00af00\">0</span> │\n",
              "│ (<span style=\"color: #0087ff; text-decoration-color: #0087ff\">GlobalAveragePooling2D</span>)        │                        │               │\n",
              "├─────────────────────────────────┼────────────────────────┼───────────────┤\n",
              "│ dense (<span style=\"color: #0087ff; text-decoration-color: #0087ff\">Dense</span>)                   │ (<span style=\"color: #00d7ff; text-decoration-color: #00d7ff\">None</span>, <span style=\"color: #00af00; text-decoration-color: #00af00\">256</span>)            │         <span style=\"color: #00af00; text-decoration-color: #00af00\">8,448</span> │\n",
              "├─────────────────────────────────┼────────────────────────┼───────────────┤\n",
              "│ dropout_1 (<span style=\"color: #0087ff; text-decoration-color: #0087ff\">Dropout</span>)             │ (<span style=\"color: #00d7ff; text-decoration-color: #00d7ff\">None</span>, <span style=\"color: #00af00; text-decoration-color: #00af00\">256</span>)            │             <span style=\"color: #00af00; text-decoration-color: #00af00\">0</span> │\n",
              "├─────────────────────────────────┼────────────────────────┼───────────────┤\n",
              "│ dense_1 (<span style=\"color: #0087ff; text-decoration-color: #0087ff\">Dense</span>)                 │ (<span style=\"color: #00d7ff; text-decoration-color: #00d7ff\">None</span>, <span style=\"color: #00af00; text-decoration-color: #00af00\">12</span>)             │         <span style=\"color: #00af00; text-decoration-color: #00af00\">3,084</span> │\n",
              "└─────────────────────────────────┴────────────────────────┴───────────────┘\n",
              "</pre>\n"
            ]
          },
          "metadata": {}
        },
        {
          "output_type": "display_data",
          "data": {
            "text/plain": [
              "\u001b[1m Total params: \u001b[0m\u001b[38;5;34m2,638,188\u001b[0m (10.06 MB)\n"
            ],
            "text/html": [
              "<pre style=\"white-space:pre;overflow-x:auto;line-height:normal;font-family:Menlo,'DejaVu Sans Mono',consolas,'Courier New',monospace\"><span style=\"font-weight: bold\"> Total params: </span><span style=\"color: #00af00; text-decoration-color: #00af00\">2,638,188</span> (10.06 MB)\n",
              "</pre>\n"
            ]
          },
          "metadata": {}
        },
        {
          "output_type": "display_data",
          "data": {
            "text/plain": [
              "\u001b[1m Trainable params: \u001b[0m\u001b[38;5;34m380,204\u001b[0m (1.45 MB)\n"
            ],
            "text/html": [
              "<pre style=\"white-space:pre;overflow-x:auto;line-height:normal;font-family:Menlo,'DejaVu Sans Mono',consolas,'Courier New',monospace\"><span style=\"font-weight: bold\"> Trainable params: </span><span style=\"color: #00af00; text-decoration-color: #00af00\">380,204</span> (1.45 MB)\n",
              "</pre>\n"
            ]
          },
          "metadata": {}
        },
        {
          "output_type": "display_data",
          "data": {
            "text/plain": [
              "\u001b[1m Non-trainable params: \u001b[0m\u001b[38;5;34m2,257,984\u001b[0m (8.61 MB)\n"
            ],
            "text/html": [
              "<pre style=\"white-space:pre;overflow-x:auto;line-height:normal;font-family:Menlo,'DejaVu Sans Mono',consolas,'Courier New',monospace\"><span style=\"font-weight: bold\"> Non-trainable params: </span><span style=\"color: #00af00; text-decoration-color: #00af00\">2,257,984</span> (8.61 MB)\n",
              "</pre>\n"
            ]
          },
          "metadata": {}
        }
      ]
    },
    {
      "cell_type": "code",
      "source": [
        "# Define callbacks\n",
        "callbacks = [\n",
        "    EarlyStopping(\n",
        "        monitor='val_loss',\n",
        "        patience=5,\n",
        "        restore_best_weights=True,\n",
        "        verbose=1\n",
        "    ),\n",
        "    ModelCheckpoint(\n",
        "        'best_model.keras',  # Using modern .keras format\n",
        "        monitor='val_accuracy',\n",
        "        save_best_only=True,\n",
        "        mode='max',\n",
        "        verbose=1\n",
        "    ),\n",
        "    LearningRateScheduler(lr_schedule),\n",
        "    ReduceLROnPlateau(\n",
        "        monitor='val_loss',\n",
        "        factor=0.2,\n",
        "        patience=3,\n",
        "        min_lr=1e-6,\n",
        "        verbose=1\n",
        "    )\n",
        "]"
      ],
      "metadata": {
        "id": "aPjGf2dX9Oym"
      },
      "execution_count": 20,
      "outputs": []
    },
    {
      "cell_type": "code",
      "source": [
        "# Compile model\n",
        "model.compile(\n",
        "    optimizer=Adam(learning_rate=0.001),  # Initial learning rate\n",
        "    loss='categorical_crossentropy',\n",
        "    metrics=['accuracy',\n",
        "            tf.keras.metrics.Precision(name='precision'),\n",
        "            tf.keras.metrics.Recall(name='recall')]\n",
        ")\n",
        "\n",
        "#Calculate class weights\n",
        "class_weights = compute_class_weight(\n",
        "    'balanced',\n",
        "    classes=np.unique(train_generator.classes),\n",
        "    y=train_generator.classes\n",
        ")\n",
        "class_weights = dict(enumerate(class_weights))\n",
        "\n",
        "# Train the model\n",
        "history = model.fit(\n",
        "    train_generator,\n",
        "    steps_per_epoch=len(train_generator),\n",
        "    validation_data=validation_generator,\n",
        "    validation_steps=len(validation_generator),\n",
        "    epochs=30,\n",
        "    callbacks=callbacks,\n",
        "    class_weight=class_weights,\n",
        "    verbose=1\n",
        ")\n",
        "\n",
        "# Load the best model (using modern .keras format)\n",
        "model = tf.keras.models.load_model('best_model.keras')"
      ],
      "metadata": {
        "id": "Ns3SxlaXvuCj",
        "colab": {
          "base_uri": "https://localhost:8080/"
        },
        "outputId": "1e6456b3-d346-4c7c-d0fb-1cb8e00dcc37"
      },
      "execution_count": 21,
      "outputs": [
        {
          "output_type": "stream",
          "name": "stderr",
          "text": [
            "/usr/local/lib/python3.11/dist-packages/keras/src/trainers/data_adapters/py_dataset_adapter.py:121: UserWarning: Your `PyDataset` class should call `super().__init__(**kwargs)` in its constructor. `**kwargs` can include `workers`, `use_multiprocessing`, `max_queue_size`. Do not pass these arguments to `fit()`, as they will be ignored.\n",
            "  self._warn_if_super_not_called()\n"
          ]
        },
        {
          "output_type": "stream",
          "name": "stdout",
          "text": [
            "Epoch 1/30\n",
            "\u001b[1m111/111\u001b[0m \u001b[32m━━━━━━━━━━━━━━━━━━━━\u001b[0m\u001b[37m\u001b[0m \u001b[1m0s\u001b[0m 450ms/step - accuracy: 0.4792 - loss: 2.5803 - precision: 0.7887 - recall: 0.3057\n",
            "Epoch 1: val_accuracy improved from -inf to 0.79496, saving model to best_model.keras\n",
            "\u001b[1m111/111\u001b[0m \u001b[32m━━━━━━━━━━━━━━━━━━━━\u001b[0m\u001b[37m\u001b[0m \u001b[1m83s\u001b[0m 629ms/step - accuracy: 0.4804 - loss: 2.5750 - precision: 0.7889 - recall: 0.3074 - val_accuracy: 0.7950 - val_loss: 1.1998 - val_precision: 0.8757 - val_recall: 0.7423 - learning_rate: 0.0010\n",
            "Epoch 2/30\n",
            "\u001b[1m111/111\u001b[0m \u001b[32m━━━━━━━━━━━━━━━━━━━━\u001b[0m\u001b[37m\u001b[0m \u001b[1m0s\u001b[0m 401ms/step - accuracy: 0.8088 - loss: 1.1726 - precision: 0.8729 - recall: 0.7522\n",
            "Epoch 2: val_accuracy did not improve from 0.79496\n",
            "\u001b[1m111/111\u001b[0m \u001b[32m━━━━━━━━━━━━━━━━━━━━\u001b[0m\u001b[37m\u001b[0m \u001b[1m62s\u001b[0m 509ms/step - accuracy: 0.8087 - loss: 1.1728 - precision: 0.8729 - recall: 0.7521 - val_accuracy: 0.7743 - val_loss: 1.1734 - val_precision: 0.8411 - val_recall: 0.7274 - learning_rate: 0.0010\n",
            "Epoch 3/30\n",
            "\u001b[1m111/111\u001b[0m \u001b[32m━━━━━━━━━━━━━━━━━━━━\u001b[0m\u001b[37m\u001b[0m \u001b[1m0s\u001b[0m 407ms/step - accuracy: 0.8225 - loss: 1.0161 - precision: 0.8884 - recall: 0.7804\n",
            "Epoch 3: val_accuracy did not improve from 0.79496\n",
            "\u001b[1m111/111\u001b[0m \u001b[32m━━━━━━━━━━━━━━━━━━━━\u001b[0m\u001b[37m\u001b[0m \u001b[1m56s\u001b[0m 509ms/step - accuracy: 0.8225 - loss: 1.0161 - precision: 0.8884 - recall: 0.7804 - val_accuracy: 0.7904 - val_loss: 1.0627 - val_precision: 0.8535 - val_recall: 0.7606 - learning_rate: 0.0010\n",
            "Epoch 4/30\n",
            "\u001b[1m111/111\u001b[0m \u001b[32m━━━━━━━━━━━━━━━━━━━━\u001b[0m\u001b[37m\u001b[0m \u001b[1m0s\u001b[0m 415ms/step - accuracy: 0.8338 - loss: 0.9312 - precision: 0.8885 - recall: 0.7913\n",
            "Epoch 4: val_accuracy improved from 0.79496 to 0.82589, saving model to best_model.keras\n",
            "\u001b[1m111/111\u001b[0m \u001b[32m━━━━━━━━━━━━━━━━━━━━\u001b[0m\u001b[37m\u001b[0m \u001b[1m67s\u001b[0m 606ms/step - accuracy: 0.8339 - loss: 0.9312 - precision: 0.8886 - recall: 0.7912 - val_accuracy: 0.8259 - val_loss: 0.8990 - val_precision: 0.8892 - val_recall: 0.7721 - learning_rate: 0.0010\n",
            "Epoch 5/30\n",
            "\u001b[1m111/111\u001b[0m \u001b[32m━━━━━━━━━━━━━━━━━━━━\u001b[0m\u001b[37m\u001b[0m \u001b[1m0s\u001b[0m 399ms/step - accuracy: 0.8553 - loss: 0.8427 - precision: 0.9047 - recall: 0.8190\n",
            "Epoch 5: val_accuracy did not improve from 0.82589\n",
            "\u001b[1m111/111\u001b[0m \u001b[32m━━━━━━━━━━━━━━━━━━━━\u001b[0m\u001b[37m\u001b[0m \u001b[1m70s\u001b[0m 500ms/step - accuracy: 0.8552 - loss: 0.8430 - precision: 0.9047 - recall: 0.8189 - val_accuracy: 0.8041 - val_loss: 1.0080 - val_precision: 0.8568 - val_recall: 0.7537 - learning_rate: 0.0010\n",
            "Epoch 6/30\n",
            "\u001b[1m111/111\u001b[0m \u001b[32m━━━━━━━━━━━━━━━━━━━━\u001b[0m\u001b[37m\u001b[0m \u001b[1m0s\u001b[0m 398ms/step - accuracy: 0.8533 - loss: 0.8474 - precision: 0.8999 - recall: 0.8075\n",
            "Epoch 6: val_accuracy improved from 0.82589 to 0.83162, saving model to best_model.keras\n",
            "\u001b[1m111/111\u001b[0m \u001b[32m━━━━━━━━━━━━━━━━━━━━\u001b[0m\u001b[37m\u001b[0m \u001b[1m82s\u001b[0m 505ms/step - accuracy: 0.8532 - loss: 0.8475 - precision: 0.8999 - recall: 0.8075 - val_accuracy: 0.8316 - val_loss: 0.8601 - val_precision: 0.8739 - val_recall: 0.7938 - learning_rate: 0.0010\n",
            "Epoch 7/30\n",
            "\u001b[1m111/111\u001b[0m \u001b[32m━━━━━━━━━━━━━━━━━━━━\u001b[0m\u001b[37m\u001b[0m \u001b[1m0s\u001b[0m 413ms/step - accuracy: 0.8470 - loss: 0.8501 - precision: 0.8963 - recall: 0.8065\n",
            "Epoch 7: val_accuracy did not improve from 0.83162\n",
            "\u001b[1m111/111\u001b[0m \u001b[32m━━━━━━━━━━━━━━━━━━━━\u001b[0m\u001b[37m\u001b[0m \u001b[1m57s\u001b[0m 514ms/step - accuracy: 0.8471 - loss: 0.8498 - precision: 0.8963 - recall: 0.8065 - val_accuracy: 0.8053 - val_loss: 0.9138 - val_precision: 0.8652 - val_recall: 0.7721 - learning_rate: 0.0010\n",
            "Epoch 8/30\n",
            "\u001b[1m111/111\u001b[0m \u001b[32m━━━━━━━━━━━━━━━━━━━━\u001b[0m\u001b[37m\u001b[0m \u001b[1m0s\u001b[0m 405ms/step - accuracy: 0.8364 - loss: 0.8374 - precision: 0.8946 - recall: 0.7964\n",
            "Epoch 8: val_accuracy did not improve from 0.83162\n",
            "\u001b[1m111/111\u001b[0m \u001b[32m━━━━━━━━━━━━━━━━━━━━\u001b[0m\u001b[37m\u001b[0m \u001b[1m65s\u001b[0m 592ms/step - accuracy: 0.8364 - loss: 0.8376 - precision: 0.8946 - recall: 0.7964 - val_accuracy: 0.8316 - val_loss: 0.8628 - val_precision: 0.8760 - val_recall: 0.7847 - learning_rate: 0.0010\n",
            "Epoch 9/30\n",
            "\u001b[1m111/111\u001b[0m \u001b[32m━━━━━━━━━━━━━━━━━━━━\u001b[0m\u001b[37m\u001b[0m \u001b[1m0s\u001b[0m 407ms/step - accuracy: 0.8522 - loss: 0.7880 - precision: 0.9013 - recall: 0.8162\n",
            "Epoch 9: val_accuracy did not improve from 0.83162\n",
            "\n",
            "Epoch 9: ReduceLROnPlateau reducing learning rate to 0.00020000000949949026.\n",
            "\u001b[1m111/111\u001b[0m \u001b[32m━━━━━━━━━━━━━━━━━━━━\u001b[0m\u001b[37m\u001b[0m \u001b[1m56s\u001b[0m 509ms/step - accuracy: 0.8522 - loss: 0.7880 - precision: 0.9013 - recall: 0.8162 - val_accuracy: 0.8179 - val_loss: 0.8818 - val_precision: 0.8747 - val_recall: 0.7755 - learning_rate: 0.0010\n",
            "Epoch 10/30\n",
            "\u001b[1m111/111\u001b[0m \u001b[32m━━━━━━━━━━━━━━━━━━━━\u001b[0m\u001b[37m\u001b[0m \u001b[1m0s\u001b[0m 407ms/step - accuracy: 0.8730 - loss: 0.7158 - precision: 0.9158 - recall: 0.8392\n",
            "Epoch 10: val_accuracy did not improve from 0.83162\n",
            "\u001b[1m111/111\u001b[0m \u001b[32m━━━━━━━━━━━━━━━━━━━━\u001b[0m\u001b[37m\u001b[0m \u001b[1m82s\u001b[0m 509ms/step - accuracy: 0.8729 - loss: 0.7161 - precision: 0.9157 - recall: 0.8391 - val_accuracy: 0.8270 - val_loss: 0.8314 - val_precision: 0.8938 - val_recall: 0.7904 - learning_rate: 9.0000e-04\n",
            "Epoch 11/30\n",
            "\u001b[1m111/111\u001b[0m \u001b[32m━━━━━━━━━━━━━━━━━━━━\u001b[0m\u001b[37m\u001b[0m \u001b[1m0s\u001b[0m 409ms/step - accuracy: 0.8769 - loss: 0.6890 - precision: 0.9182 - recall: 0.8448\n",
            "Epoch 11: val_accuracy did not improve from 0.83162\n",
            "\u001b[1m111/111\u001b[0m \u001b[32m━━━━━━━━━━━━━━━━━━━━\u001b[0m\u001b[37m\u001b[0m \u001b[1m82s\u001b[0m 512ms/step - accuracy: 0.8768 - loss: 0.6893 - precision: 0.9181 - recall: 0.8446 - val_accuracy: 0.8259 - val_loss: 0.8011 - val_precision: 0.8983 - val_recall: 0.7892 - learning_rate: 9.0000e-04\n",
            "Epoch 12/30\n",
            "\u001b[1m111/111\u001b[0m \u001b[32m━━━━━━━━━━━━━━━━━━━━\u001b[0m\u001b[37m\u001b[0m \u001b[1m0s\u001b[0m 408ms/step - accuracy: 0.8660 - loss: 0.7190 - precision: 0.9151 - recall: 0.8274\n",
            "Epoch 12: val_accuracy did not improve from 0.83162\n",
            "\u001b[1m111/111\u001b[0m \u001b[32m━━━━━━━━━━━━━━━━━━━━\u001b[0m\u001b[37m\u001b[0m \u001b[1m56s\u001b[0m 507ms/step - accuracy: 0.8660 - loss: 0.7190 - precision: 0.9150 - recall: 0.8273 - val_accuracy: 0.8236 - val_loss: 0.8281 - val_precision: 0.8893 - val_recall: 0.7915 - learning_rate: 9.0000e-04\n",
            "Epoch 13/30\n",
            "\u001b[1m111/111\u001b[0m \u001b[32m━━━━━━━━━━━━━━━━━━━━\u001b[0m\u001b[37m\u001b[0m \u001b[1m0s\u001b[0m 413ms/step - accuracy: 0.8531 - loss: 0.7354 - precision: 0.8972 - recall: 0.8118\n",
            "Epoch 13: val_accuracy did not improve from 0.83162\n",
            "\u001b[1m111/111\u001b[0m \u001b[32m━━━━━━━━━━━━━━━━━━━━\u001b[0m\u001b[37m\u001b[0m \u001b[1m57s\u001b[0m 517ms/step - accuracy: 0.8531 - loss: 0.7354 - precision: 0.8972 - recall: 0.8119 - val_accuracy: 0.8270 - val_loss: 0.8070 - val_precision: 0.8788 - val_recall: 0.7973 - learning_rate: 9.0000e-04\n",
            "Epoch 14/30\n",
            "\u001b[1m111/111\u001b[0m \u001b[32m━━━━━━━━━━━━━━━━━━━━\u001b[0m\u001b[37m\u001b[0m \u001b[1m0s\u001b[0m 435ms/step - accuracy: 0.8780 - loss: 0.6885 - precision: 0.9223 - recall: 0.8396\n",
            "Epoch 14: val_accuracy did not improve from 0.83162\n",
            "\n",
            "Epoch 14: ReduceLROnPlateau reducing learning rate to 0.00017999999690800907.\n",
            "\u001b[1m111/111\u001b[0m \u001b[32m━━━━━━━━━━━━━━━━━━━━\u001b[0m\u001b[37m\u001b[0m \u001b[1m85s\u001b[0m 543ms/step - accuracy: 0.8779 - loss: 0.6889 - precision: 0.9222 - recall: 0.8395 - val_accuracy: 0.8236 - val_loss: 0.8187 - val_precision: 0.8752 - val_recall: 0.8030 - learning_rate: 9.0000e-04\n",
            "Epoch 15/30\n",
            "\u001b[1m111/111\u001b[0m \u001b[32m━━━━━━━━━━━━━━━━━━━━\u001b[0m\u001b[37m\u001b[0m \u001b[1m0s\u001b[0m 412ms/step - accuracy: 0.8697 - loss: 0.7107 - precision: 0.9074 - recall: 0.8387\n",
            "Epoch 15: val_accuracy did not improve from 0.83162\n",
            "\u001b[1m111/111\u001b[0m \u001b[32m━━━━━━━━━━━━━━━━━━━━\u001b[0m\u001b[37m\u001b[0m \u001b[1m57s\u001b[0m 514ms/step - accuracy: 0.8696 - loss: 0.7108 - precision: 0.9074 - recall: 0.8386 - val_accuracy: 0.8190 - val_loss: 0.8509 - val_precision: 0.8861 - val_recall: 0.7663 - learning_rate: 9.0000e-04\n",
            "Epoch 16/30\n",
            "\u001b[1m111/111\u001b[0m \u001b[32m━━━━━━━━━━━━━━━━━━━━\u001b[0m\u001b[37m\u001b[0m \u001b[1m0s\u001b[0m 404ms/step - accuracy: 0.8795 - loss: 0.6707 - precision: 0.9279 - recall: 0.8362\n",
            "Epoch 16: val_accuracy improved from 0.83162 to 0.83734, saving model to best_model.keras\n",
            "\u001b[1m111/111\u001b[0m \u001b[32m━━━━━━━━━━━━━━━━━━━━\u001b[0m\u001b[37m\u001b[0m \u001b[1m56s\u001b[0m 507ms/step - accuracy: 0.8794 - loss: 0.6709 - precision: 0.9278 - recall: 0.8361 - val_accuracy: 0.8373 - val_loss: 0.7573 - val_precision: 0.8906 - val_recall: 0.8110 - learning_rate: 9.0000e-04\n",
            "Epoch 17/30\n",
            "\u001b[1m111/111\u001b[0m \u001b[32m━━━━━━━━━━━━━━━━━━━━\u001b[0m\u001b[37m\u001b[0m \u001b[1m0s\u001b[0m 411ms/step - accuracy: 0.8942 - loss: 0.6442 - precision: 0.9284 - recall: 0.8561\n",
            "Epoch 17: val_accuracy did not improve from 0.83734\n",
            "\u001b[1m111/111\u001b[0m \u001b[32m━━━━━━━━━━━━━━━━━━━━\u001b[0m\u001b[37m\u001b[0m \u001b[1m57s\u001b[0m 512ms/step - accuracy: 0.8940 - loss: 0.6445 - precision: 0.9283 - recall: 0.8559 - val_accuracy: 0.8179 - val_loss: 0.8660 - val_precision: 0.8598 - val_recall: 0.7801 - learning_rate: 9.0000e-04\n",
            "Epoch 18/30\n",
            "\u001b[1m111/111\u001b[0m \u001b[32m━━━━━━━━━━━━━━━━━━━━\u001b[0m\u001b[37m\u001b[0m \u001b[1m0s\u001b[0m 408ms/step - accuracy: 0.8767 - loss: 0.6452 - precision: 0.9165 - recall: 0.8477\n",
            "Epoch 18: val_accuracy did not improve from 0.83734\n",
            "\u001b[1m111/111\u001b[0m \u001b[32m━━━━━━━━━━━━━━━━━━━━\u001b[0m\u001b[37m\u001b[0m \u001b[1m81s\u001b[0m 510ms/step - accuracy: 0.8766 - loss: 0.6456 - precision: 0.9164 - recall: 0.8476 - val_accuracy: 0.7411 - val_loss: 1.1407 - val_precision: 0.7925 - val_recall: 0.6999 - learning_rate: 9.0000e-04\n",
            "Epoch 19/30\n",
            "\u001b[1m111/111\u001b[0m \u001b[32m━━━━━━━━━━━━━━━━━━━━\u001b[0m\u001b[37m\u001b[0m \u001b[1m0s\u001b[0m 412ms/step - accuracy: 0.8513 - loss: 0.7982 - precision: 0.9065 - recall: 0.8028\n",
            "Epoch 19: val_accuracy improved from 0.83734 to 0.83849, saving model to best_model.keras\n",
            "\n",
            "Epoch 19: ReduceLROnPlateau reducing learning rate to 0.0001619999995455146.\n",
            "\u001b[1m111/111\u001b[0m \u001b[32m━━━━━━━━━━━━━━━━━━━━\u001b[0m\u001b[37m\u001b[0m \u001b[1m83s\u001b[0m 516ms/step - accuracy: 0.8513 - loss: 0.7981 - precision: 0.9064 - recall: 0.8029 - val_accuracy: 0.8385 - val_loss: 0.7967 - val_precision: 0.8960 - val_recall: 0.7995 - learning_rate: 8.1000e-04\n",
            "Epoch 20/30\n",
            "\u001b[1m111/111\u001b[0m \u001b[32m━━━━━━━━━━━━━━━━━━━━\u001b[0m\u001b[37m\u001b[0m \u001b[1m0s\u001b[0m 411ms/step - accuracy: 0.8775 - loss: 0.6672 - precision: 0.9141 - recall: 0.8415\n",
            "Epoch 20: val_accuracy improved from 0.83849 to 0.84536, saving model to best_model.keras\n",
            "\u001b[1m111/111\u001b[0m \u001b[32m━━━━━━━━━━━━━━━━━━━━\u001b[0m\u001b[37m\u001b[0m \u001b[1m82s\u001b[0m 516ms/step - accuracy: 0.8776 - loss: 0.6671 - precision: 0.9141 - recall: 0.8415 - val_accuracy: 0.8454 - val_loss: 0.7450 - val_precision: 0.8896 - val_recall: 0.8030 - learning_rate: 8.1000e-04\n",
            "Epoch 21/30\n",
            "\u001b[1m111/111\u001b[0m \u001b[32m━━━━━━━━━━━━━━━━━━━━\u001b[0m\u001b[37m\u001b[0m \u001b[1m0s\u001b[0m 412ms/step - accuracy: 0.8782 - loss: 0.6493 - precision: 0.9201 - recall: 0.8470\n",
            "Epoch 21: val_accuracy improved from 0.84536 to 0.84651, saving model to best_model.keras\n",
            "\u001b[1m111/111\u001b[0m \u001b[32m━━━━━━━━━━━━━━━━━━━━\u001b[0m\u001b[37m\u001b[0m \u001b[1m91s\u001b[0m 602ms/step - accuracy: 0.8781 - loss: 0.6495 - precision: 0.9201 - recall: 0.8469 - val_accuracy: 0.8465 - val_loss: 0.7902 - val_precision: 0.8829 - val_recall: 0.8121 - learning_rate: 8.1000e-04\n",
            "Epoch 22/30\n",
            "\u001b[1m111/111\u001b[0m \u001b[32m━━━━━━━━━━━━━━━━━━━━\u001b[0m\u001b[37m\u001b[0m \u001b[1m0s\u001b[0m 408ms/step - accuracy: 0.8857 - loss: 0.6077 - precision: 0.9179 - recall: 0.8530\n",
            "Epoch 22: val_accuracy did not improve from 0.84651\n",
            "\u001b[1m111/111\u001b[0m \u001b[32m━━━━━━━━━━━━━━━━━━━━\u001b[0m\u001b[37m\u001b[0m \u001b[1m57s\u001b[0m 511ms/step - accuracy: 0.8856 - loss: 0.6080 - precision: 0.9178 - recall: 0.8529 - val_accuracy: 0.8190 - val_loss: 0.8062 - val_precision: 0.8699 - val_recall: 0.7892 - learning_rate: 8.1000e-04\n",
            "Epoch 23/30\n",
            "\u001b[1m111/111\u001b[0m \u001b[32m━━━━━━━━━━━━━━━━━━━━\u001b[0m\u001b[37m\u001b[0m \u001b[1m0s\u001b[0m 417ms/step - accuracy: 0.8759 - loss: 0.6337 - precision: 0.9145 - recall: 0.8507\n",
            "Epoch 23: val_accuracy did not improve from 0.84651\n",
            "\u001b[1m111/111\u001b[0m \u001b[32m━━━━━━━━━━━━━━━━━━━━\u001b[0m\u001b[37m\u001b[0m \u001b[1m83s\u001b[0m 520ms/step - accuracy: 0.8760 - loss: 0.6337 - precision: 0.9145 - recall: 0.8507 - val_accuracy: 0.8454 - val_loss: 0.7409 - val_precision: 0.8929 - val_recall: 0.8121 - learning_rate: 8.1000e-04\n",
            "Epoch 24/30\n",
            "\u001b[1m111/111\u001b[0m \u001b[32m━━━━━━━━━━━━━━━━━━━━\u001b[0m\u001b[37m\u001b[0m \u001b[1m0s\u001b[0m 410ms/step - accuracy: 0.8845 - loss: 0.6307 - precision: 0.9173 - recall: 0.8485\n",
            "Epoch 24: val_accuracy did not improve from 0.84651\n",
            "\u001b[1m111/111\u001b[0m \u001b[32m━━━━━━━━━━━━━━━━━━━━\u001b[0m\u001b[37m\u001b[0m \u001b[1m81s\u001b[0m 512ms/step - accuracy: 0.8844 - loss: 0.6309 - precision: 0.9173 - recall: 0.8484 - val_accuracy: 0.8419 - val_loss: 0.7570 - val_precision: 0.8788 - val_recall: 0.8053 - learning_rate: 8.1000e-04\n",
            "Epoch 25/30\n",
            "\u001b[1m111/111\u001b[0m \u001b[32m━━━━━━━━━━━━━━━━━━━━\u001b[0m\u001b[37m\u001b[0m \u001b[1m0s\u001b[0m 401ms/step - accuracy: 0.8844 - loss: 0.6213 - precision: 0.9155 - recall: 0.8535\n",
            "Epoch 25: val_accuracy did not improve from 0.84651\n",
            "\u001b[1m111/111\u001b[0m \u001b[32m━━━━━━━━━━━━━━━━━━━━\u001b[0m\u001b[37m\u001b[0m \u001b[1m56s\u001b[0m 505ms/step - accuracy: 0.8843 - loss: 0.6217 - precision: 0.9154 - recall: 0.8534 - val_accuracy: 0.8305 - val_loss: 0.7974 - val_precision: 0.8801 - val_recall: 0.7984 - learning_rate: 8.1000e-04\n",
            "Epoch 26/30\n",
            "\u001b[1m111/111\u001b[0m \u001b[32m━━━━━━━━━━━━━━━━━━━━\u001b[0m\u001b[37m\u001b[0m \u001b[1m0s\u001b[0m 415ms/step - accuracy: 0.8856 - loss: 0.6139 - precision: 0.9271 - recall: 0.8531\n",
            "Epoch 26: val_accuracy did not improve from 0.84651\n",
            "\n",
            "Epoch 26: ReduceLROnPlateau reducing learning rate to 0.0001619999995455146.\n",
            "\u001b[1m111/111\u001b[0m \u001b[32m━━━━━━━━━━━━━━━━━━━━\u001b[0m\u001b[37m\u001b[0m \u001b[1m57s\u001b[0m 517ms/step - accuracy: 0.8855 - loss: 0.6143 - precision: 0.9270 - recall: 0.8530 - val_accuracy: 0.8167 - val_loss: 0.8018 - val_precision: 0.8636 - val_recall: 0.7904 - learning_rate: 8.1000e-04\n",
            "Epoch 27/30\n",
            "\u001b[1m111/111\u001b[0m \u001b[32m━━━━━━━━━━━━━━━━━━━━\u001b[0m\u001b[37m\u001b[0m \u001b[1m0s\u001b[0m 419ms/step - accuracy: 0.8864 - loss: 0.6297 - precision: 0.9236 - recall: 0.8563\n",
            "Epoch 27: val_accuracy did not improve from 0.84651\n",
            "\u001b[1m111/111\u001b[0m \u001b[32m━━━━━━━━━━━━━━━━━━━━\u001b[0m\u001b[37m\u001b[0m \u001b[1m58s\u001b[0m 522ms/step - accuracy: 0.8863 - loss: 0.6299 - precision: 0.9235 - recall: 0.8562 - val_accuracy: 0.8110 - val_loss: 0.8455 - val_precision: 0.8516 - val_recall: 0.7824 - learning_rate: 8.1000e-04\n",
            "Epoch 28/30\n",
            "\u001b[1m111/111\u001b[0m \u001b[32m━━━━━━━━━━━━━━━━━━━━\u001b[0m\u001b[37m\u001b[0m \u001b[1m0s\u001b[0m 412ms/step - accuracy: 0.9013 - loss: 0.5644 - precision: 0.9359 - recall: 0.8781\n",
            "Epoch 28: val_accuracy did not improve from 0.84651\n",
            "\u001b[1m111/111\u001b[0m \u001b[32m━━━━━━━━━━━━━━━━━━━━\u001b[0m\u001b[37m\u001b[0m \u001b[1m81s\u001b[0m 511ms/step - accuracy: 0.9012 - loss: 0.5647 - precision: 0.9359 - recall: 0.8780 - val_accuracy: 0.8385 - val_loss: 0.7486 - val_precision: 0.8716 - val_recall: 0.8087 - learning_rate: 7.2900e-04\n",
            "Epoch 28: early stopping\n",
            "Restoring model weights from the end of the best epoch: 23.\n"
          ]
        }
      ]
    },
    {
      "cell_type": "markdown",
      "metadata": {
        "id": "XctzCfzbYCBK"
      },
      "source": [
        "## Evaluasi dan Visualisasi"
      ]
    },
    {
      "cell_type": "code",
      "source": [
        "# Evaluasi di test set\n",
        "print(\"\\n⚙️ Evaluating on test set...\")\n",
        "test_loss, test_accuracy, test_precision, test_recall = model.evaluate(test_generator)\n",
        "print(f\"\\n📊 Test Metrics:\")\n",
        "print(f\"Accuracy: {test_accuracy*100:.2f}%\")\n",
        "print(f\"Loss: {test_loss:.4f}\")\n",
        "print(f\"Precision: {test_precision:.4f}\")\n",
        "print(f\"Recall: {test_recall:.4f}\")"
      ],
      "metadata": {
        "id": "67qqFq7M99Sz",
        "colab": {
          "base_uri": "https://localhost:8080/"
        },
        "outputId": "88ceeb2e-7f83-4251-ecbc-37ff86e827d5"
      },
      "execution_count": 22,
      "outputs": [
        {
          "output_type": "stream",
          "name": "stdout",
          "text": [
            "\n",
            "⚙️ Evaluating on test set...\n",
            "\u001b[1m1099/1099\u001b[0m \u001b[32m━━━━━━━━━━━━━━━━━━━━\u001b[0m\u001b[37m\u001b[0m \u001b[1m14s\u001b[0m 7ms/step - accuracy: 0.8214 - loss: 0.7942 - precision: 0.8725 - recall: 0.7951\n",
            "\n",
            "📊 Test Metrics:\n",
            "Accuracy: 84.26%\n",
            "Loss: 0.7369\n",
            "Precision: 0.8902\n",
            "Recall: 0.8189\n"
          ]
        }
      ]
    },
    {
      "cell_type": "code",
      "source": [
        "# Plot grafik akurasi & loss\n",
        "plt.figure(figsize=(18, 6))\n",
        "\n",
        "# Accuracy Plot\n",
        "plt.subplot(1, 3, 1)\n",
        "plt.plot(history.history['accuracy'], label='Train', color='blue', linewidth=2)\n",
        "plt.plot(history.history['val_accuracy'], label='Validation', color='orange', linewidth=2)\n",
        "plt.title('Model Accuracy', fontsize=14, pad=20)\n",
        "plt.xlabel('Epoch', fontsize=12)\n",
        "plt.ylabel('Accuracy', fontsize=12)\n",
        "plt.legend()\n",
        "plt.grid(True, linestyle='--', alpha=0.5)\n",
        "plt.ylim(0, 1)\n",
        "\n",
        "# Loss Plot\n",
        "plt.subplot(1, 3, 2)\n",
        "plt.plot(history.history['loss'], label='Train', color='blue', linewidth=2)\n",
        "plt.plot(history.history['val_loss'], label='Validation', color='orange', linewidth=2)\n",
        "plt.title('Model Loss', fontsize=14, pad=20)\n",
        "plt.xlabel('Epoch', fontsize=12)\n",
        "plt.ylabel('Loss', fontsize=12)\n",
        "plt.legend()\n",
        "plt.grid(True, linestyle='--', alpha=0.5)\n"
      ],
      "metadata": {
        "id": "_PMNVlu1-JqM",
        "colab": {
          "base_uri": "https://localhost:8080/",
          "height": 589
        },
        "outputId": "7d596658-8a4d-4365-9ca9-5ca20a97f79a"
      },
      "execution_count": 23,
      "outputs": [
        {
          "output_type": "display_data",
          "data": {
            "text/plain": [
              "<Figure size 1800x600 with 2 Axes>"
            ],
            "image/png": "[encoded data removed]"
          },
          "metadata": {}
        }
      ]
    },
    {
      "cell_type": "code",
      "source": [
        "# Prediksi data test\n",
        "test_generator.reset()\n",
        "predictions = model.predict(test_generator, verbose=1)\n",
        "y_pred = np.argmax(predictions, axis=1)\n",
        "y_true = test_generator.classes\n",
        "class_names = list(test_generator.class_indices.keys())\n",
        "\n",
        "# Classification Report\n",
        "print(\"\\n📝 Classification Report:\")\n",
        "print(classification_report(y_true, y_pred, target_names=class_names, digits=4))"
      ],
      "metadata": {
        "id": "tVk4HVtO-KaG",
        "colab": {
          "base_uri": "https://localhost:8080/"
        },
        "outputId": "92107d69-f523-4cd5-a8b3-6abdbe4fa713"
      },
      "execution_count": 24,
      "outputs": [
        {
          "output_type": "stream",
          "name": "stdout",
          "text": [
            "\u001b[1m1099/1099\u001b[0m \u001b[32m━━━━━━━━━━━━━━━━━━━━\u001b[0m\u001b[37m\u001b[0m \u001b[1m10s\u001b[0m 6ms/step\n",
            "\n",
            "📝 Classification Report:\n",
            "              precision    recall  f1-score   support\n",
            "\n",
            "        ants     0.9118    0.9300    0.9208       100\n",
            "        bees     0.8990    0.8900    0.8945       100\n",
            "      beetle     0.5882    0.6024    0.5952        83\n",
            "catterpillar     0.8615    0.6437    0.7368        87\n",
            "  earthworms     0.8000    0.6769    0.7333        65\n",
            "      earwig     0.8750    0.6022    0.7134        93\n",
            " grasshopper     0.8600    0.8866    0.8731        97\n",
            "        moth     0.9688    0.9394    0.9538        99\n",
            "        slug     0.6273    0.8846    0.7340        78\n",
            "       snail     0.9604    0.9700    0.9652       100\n",
            "        wasp     0.8649    0.9600    0.9100       100\n",
            "      weevil     0.8739    1.0000    0.9327        97\n",
            "\n",
            "    accuracy                         0.8426      1099\n",
            "   macro avg     0.8409    0.8321    0.8302      1099\n",
            "weighted avg     0.8497    0.8426    0.8402      1099\n",
            "\n"
          ]
        }
      ]
    },
    {
      "cell_type": "code",
      "source": [
        "# Confusion Matrix\n",
        "cm = confusion_matrix(y_true, y_pred)\n",
        "plt.figure(figsize=(12, 10))\n",
        "sns.heatmap(cm, annot=True, fmt='d', cmap='Blues',\n",
        "            xticklabels=class_names,\n",
        "            yticklabels=class_names,\n",
        "            cbar=False)\n",
        "plt.title('Confusion Matrix', fontsize=16, pad=20)\n",
        "plt.xlabel('Predicted Labels', fontsize=14)\n",
        "plt.ylabel('True Labels', fontsize=14)\n",
        "plt.xticks(rotation=45, ha='right')\n",
        "plt.yticks(rotation=0)\n",
        "plt.tight_layout()\n",
        "plt.savefig('confusion_matrix.png', dpi=300, bbox_inches='tight')\n",
        "plt.show()"
      ],
      "metadata": {
        "id": "DI24GMqw2k9L",
        "colab": {
          "base_uri": "https://localhost:8080/",
          "height": 1000
        },
        "outputId": "3df4cfc2-cfe1-45e4-aa46-8624809659a0"
      },
      "execution_count": 25,
      "outputs": [
        {
          "output_type": "display_data",
          "data": {
            "text/plain": [
              "<Figure size 1200x1000 with 1 Axes>"
            ],
            "image/png": "[encoded data removed]"
          },
          "metadata": {}
        }
      ]
    },
    {
      "cell_type": "code",
      "source": [
        "# Class-wise Accuracy\n",
        "correct = np.zeros(len(class_names))\n",
        "total = np.zeros(len(class_names))\n",
        "\n",
        "for i in range(len(y_true)):\n",
        "    class_idx = y_true[i]\n",
        "    total[class_idx] += 1\n",
        "    if y_true[i] == y_pred[i]:\n",
        "        correct[class_idx] += 1\n",
        "\n",
        "class_accuracy = correct / total\n",
        "\n",
        "plt.figure(figsize=(12, 6))\n",
        "bars = plt.bar(class_names, class_accuracy, color='skyblue')\n",
        "plt.title('Class-wise Accuracy', fontsize=16, pad=20)\n",
        "plt.xlabel('Class', fontsize=14)\n",
        "plt.ylabel('Accuracy', fontsize=14)\n",
        "plt.ylim(0, 1.1)\n",
        "plt.xticks(rotation=45, ha='right')\n",
        "plt.grid(True, axis='y', linestyle='--', alpha=0.5)\n",
        "\n",
        "# Add accuracy values on top of bars\n",
        "for bar, acc in zip(bars, class_accuracy):\n",
        "    height = bar.get_height()\n",
        "    plt.text(bar.get_x() + bar.get_width()/2., height,\n",
        "             f'{acc:.2f}',\n",
        "             ha='center', va='bottom')\n",
        "\n",
        "plt.tight_layout()\n",
        "plt.savefig('class_accuracy.png', dpi=300, bbox_inches='tight')\n",
        "plt.show()"
      ],
      "metadata": {
        "id": "oAPd-5Wm2t22",
        "colab": {
          "base_uri": "https://localhost:8080/",
          "height": 607
        },
        "outputId": "2f63d2dd-fbd8-4768-9741-f0cea0d01972"
      },
      "execution_count": 26,
      "outputs": [
        {
          "output_type": "display_data",
          "data": {
            "text/plain": [
              "<Figure size 1200x600 with 1 Axes>"
            ],
            "image/png": "[encoded data removed]"
          },
          "metadata": {}
        }
      ]
    },
    {
      "cell_type": "markdown",
      "metadata": {
        "id": "y_fIsUogYFSk"
      },
      "source": [
        "## Konversi Model"
      ]
    },
    {
      "cell_type": "code",
      "source": [
        "!pip install tensorflowjs"
      ],
      "metadata": {
        "id": "QRUlFuTYd-sK",
        "colab": {
          "base_uri": "https://localhost:8080/"
        },
        "outputId": "a980daa7-051a-424d-c886-00fc1c2d19d9"
      },
      "execution_count": 27,
      "outputs": [
        {
          "output_type": "stream",
          "name": "stdout",
          "text": [
            "Collecting tensorflowjs\n",
            "  Downloading tensorflowjs-4.22.0-py3-none-any.whl.metadata (3.2 kB)\n",
            "Requirement already satisfied: flax>=0.7.2 in /usr/local/lib/python3.11/dist-packages (from tensorflowjs) (0.10.5)\n",
            "Requirement already satisfied: importlib_resources>=5.9.0 in /usr/local/lib/python3.11/dist-packages (from tensorflowjs) (6.5.2)\n",
            "Requirement already satisfied: jax>=0.4.13 in /usr/local/lib/python3.11/dist-packages (from tensorflowjs) (0.5.2)\n",
            "Requirement already satisfied: jaxlib>=0.4.13 in /usr/local/lib/python3.11/dist-packages (from tensorflowjs) (0.5.1)\n",
            "Requirement already satisfied: tensorflow<3,>=2.13.0 in /usr/local/lib/python3.11/dist-packages (from tensorflowjs) (2.18.0)\n",
            "Requirement already satisfied: tf-keras>=2.13.0 in /usr/local/lib/python3.11/dist-packages (from tensorflowjs) (2.18.0)\n",
            "Requirement already satisfied: tensorflow-decision-forests>=1.5.0 in /usr/local/lib/python3.11/dist-packages (from tensorflowjs) (1.11.0)\n",
            "Requirement already satisfied: six<2,>=1.16.0 in /usr/local/lib/python3.11/dist-packages (from tensorflowjs) (1.17.0)\n",
            "Requirement already satisfied: tensorflow-hub>=0.16.1 in /usr/local/lib/python3.11/dist-packages (from tensorflowjs) (0.16.1)\n",
            "Collecting packaging~=23.1 (from tensorflowjs)\n",
            "  Downloading packaging-23.2-py3-none-any.whl.metadata (3.2 kB)\n",
            "Requirement already satisfied: numpy>=1.23.2 in /usr/local/lib/python3.11/dist-packages (from flax>=0.7.2->tensorflowjs) (2.0.2)\n",
            "Requirement already satisfied: msgpack in /usr/local/lib/python3.11/dist-packages (from flax>=0.7.2->tensorflowjs) (1.1.0)\n",
            "Requirement already satisfied: optax in /usr/local/lib/python3.11/dist-packages (from flax>=0.7.2->tensorflowjs) (0.2.4)\n",
            "Requirement already satisfied: orbax-checkpoint in /usr/local/lib/python3.11/dist-packages (from flax>=0.7.2->tensorflowjs) (0.11.12)\n",
            "Requirement already satisfied: tensorstore in /usr/local/lib/python3.11/dist-packages (from flax>=0.7.2->tensorflowjs) (0.1.73)\n",
            "Requirement already satisfied: rich>=11.1 in /usr/local/lib/python3.11/dist-packages (from flax>=0.7.2->tensorflowjs) (13.9.4)\n",
            "Requirement already satisfied: typing_extensions>=4.2 in /usr/local/lib/python3.11/dist-packages (from flax>=0.7.2->tensorflowjs) (4.13.2)\n",
            "Requirement already satisfied: PyYAML>=5.4.1 in /usr/local/lib/python3.11/dist-packages (from flax>=0.7.2->tensorflowjs) (6.0.2)\n",
            "Requirement already satisfied: treescope>=0.1.7 in /usr/local/lib/python3.11/dist-packages (from flax>=0.7.2->tensorflowjs) (0.1.9)\n",
            "Requirement already satisfied: ml_dtypes>=0.4.0 in /usr/local/lib/python3.11/dist-packages (from jax>=0.4.13->tensorflowjs) (0.4.1)\n",
            "Requirement already satisfied: opt_einsum in /usr/local/lib/python3.11/dist-packages (from jax>=0.4.13->tensorflowjs) (3.4.0)\n",
            "Requirement already satisfied: scipy>=1.11.1 in /usr/local/lib/python3.11/dist-packages (from jax>=0.4.13->tensorflowjs) (1.14.1)\n",
            "Requirement already satisfied: absl-py>=1.0.0 in /usr/local/lib/python3.11/dist-packages (from tensorflow<3,>=2.13.0->tensorflowjs) (1.4.0)\n",
            "Requirement already satisfied: astunparse>=1.6.0 in /usr/local/lib/python3.11/dist-packages (from tensorflow<3,>=2.13.0->tensorflowjs) (1.6.3)\n",
            "Requirement already satisfied: flatbuffers>=24.3.25 in /usr/local/lib/python3.11/dist-packages (from tensorflow<3,>=2.13.0->tensorflowjs) (25.2.10)\n",
            "Requirement already satisfied: gast!=0.5.0,!=0.5.1,!=0.5.2,>=0.2.1 in /usr/local/lib/python3.11/dist-packages (from tensorflow<3,>=2.13.0->tensorflowjs) (0.6.0)\n",
            "Requirement already satisfied: google-pasta>=0.1.1 in /usr/local/lib/python3.11/dist-packages (from tensorflow<3,>=2.13.0->tensorflowjs) (0.2.0)\n",
            "Requirement already satisfied: libclang>=13.0.0 in /usr/local/lib/python3.11/dist-packages (from tensorflow<3,>=2.13.0->tensorflowjs) (18.1.1)\n",
            "Requirement already satisfied: protobuf!=4.21.0,!=4.21.1,!=4.21.2,!=4.21.3,!=4.21.4,!=4.21.5,<6.0.0dev,>=3.20.3 in /usr/local/lib/python3.11/dist-packages (from tensorflow<3,>=2.13.0->tensorflowjs) (5.29.4)\n",
            "Requirement already satisfied: requests<3,>=2.21.0 in /usr/local/lib/python3.11/dist-packages (from tensorflow<3,>=2.13.0->tensorflowjs) (2.32.3)\n",
            "Requirement already satisfied: setuptools in /usr/local/lib/python3.11/dist-packages (from tensorflow<3,>=2.13.0->tensorflowjs) (75.2.0)\n",
            "Requirement already satisfied: termcolor>=1.1.0 in /usr/local/lib/python3.11/dist-packages (from tensorflow<3,>=2.13.0->tensorflowjs) (3.0.1)\n",
            "Requirement already satisfied: wrapt>=1.11.0 in /usr/local/lib/python3.11/dist-packages (from tensorflow<3,>=2.13.0->tensorflowjs) (1.17.2)\n",
            "Requirement already satisfied: grpcio<2.0,>=1.24.3 in /usr/local/lib/python3.11/dist-packages (from tensorflow<3,>=2.13.0->tensorflowjs) (1.71.0)\n",
            "Requirement already satisfied: tensorboard<2.19,>=2.18 in /usr/local/lib/python3.11/dist-packages (from tensorflow<3,>=2.13.0->tensorflowjs) (2.18.0)\n",
            "Requirement already satisfied: keras>=3.5.0 in /usr/local/lib/python3.11/dist-packages (from tensorflow<3,>=2.13.0->tensorflowjs) (3.8.0)\n",
            "Requirement already satisfied: h5py>=3.11.0 in /usr/local/lib/python3.11/dist-packages (from tensorflow<3,>=2.13.0->tensorflowjs) (3.13.0)\n",
            "Requirement already satisfied: tensorflow-io-gcs-filesystem>=0.23.1 in /usr/local/lib/python3.11/dist-packages (from tensorflow<3,>=2.13.0->tensorflowjs) (0.37.1)\n",
            "Requirement already satisfied: pandas in /usr/local/lib/python3.11/dist-packages (from tensorflow-decision-forests>=1.5.0->tensorflowjs) (2.2.2)\n",
            "Requirement already satisfied: wheel in /usr/local/lib/python3.11/dist-packages (from tensorflow-decision-forests>=1.5.0->tensorflowjs) (0.45.1)\n",
            "Requirement already satisfied: wurlitzer in /usr/local/lib/python3.11/dist-packages (from tensorflow-decision-forests>=1.5.0->tensorflowjs) (3.1.1)\n",
            "Requirement already satisfied: ydf in /usr/local/lib/python3.11/dist-packages (from tensorflow-decision-forests>=1.5.0->tensorflowjs) (0.11.0)\n",
            "Requirement already satisfied: namex in /usr/local/lib/python3.11/dist-packages (from keras>=3.5.0->tensorflow<3,>=2.13.0->tensorflowjs) (0.0.8)\n",
            "Requirement already satisfied: optree in /usr/local/lib/python3.11/dist-packages (from keras>=3.5.0->tensorflow<3,>=2.13.0->tensorflowjs) (0.15.0)\n",
            "Requirement already satisfied: charset-normalizer<4,>=2 in /usr/local/lib/python3.11/dist-packages (from requests<3,>=2.21.0->tensorflow<3,>=2.13.0->tensorflowjs) (3.4.1)\n",
            "Requirement already satisfied: idna<4,>=2.5 in /usr/local/lib/python3.11/dist-packages (from requests<3,>=2.21.0->tensorflow<3,>=2.13.0->tensorflowjs) (3.10)\n",
            "Requirement already satisfied: urllib3<3,>=1.21.1 in /usr/local/lib/python3.11/dist-packages (from requests<3,>=2.21.0->tensorflow<3,>=2.13.0->tensorflowjs) (2.3.0)\n",
            "Requirement already satisfied: certifi>=2017.4.17 in /usr/local/lib/python3.11/dist-packages (from requests<3,>=2.21.0->tensorflow<3,>=2.13.0->tensorflowjs) (2025.1.31)\n",
            "Requirement already satisfied: markdown-it-py>=2.2.0 in /usr/local/lib/python3.11/dist-packages (from rich>=11.1->flax>=0.7.2->tensorflowjs) (3.0.0)\n",
            "Requirement already satisfied: pygments<3.0.0,>=2.13.0 in /usr/local/lib/python3.11/dist-packages (from rich>=11.1->flax>=0.7.2->tensorflowjs) (2.18.0)\n",
            "Requirement already satisfied: markdown>=2.6.8 in /usr/local/lib/python3.11/dist-packages (from tensorboard<2.19,>=2.18->tensorflow<3,>=2.13.0->tensorflowjs) (3.8)\n",
            "Requirement already satisfied: tensorboard-data-server<0.8.0,>=0.7.0 in /usr/local/lib/python3.11/dist-packages (from tensorboard<2.19,>=2.18->tensorflow<3,>=2.13.0->tensorflowjs) (0.7.2)\n",
            "Requirement already satisfied: werkzeug>=1.0.1 in /usr/local/lib/python3.11/dist-packages (from tensorboard<2.19,>=2.18->tensorflow<3,>=2.13.0->tensorflowjs) (3.1.3)\n",
            "Requirement already satisfied: chex>=0.1.87 in /usr/local/lib/python3.11/dist-packages (from optax->flax>=0.7.2->tensorflowjs) (0.1.89)\n",
            "Requirement already satisfied: etils[epy] in /usr/local/lib/python3.11/dist-packages (from optax->flax>=0.7.2->tensorflowjs) (1.12.2)\n",
            "Requirement already satisfied: nest_asyncio in /usr/local/lib/python3.11/dist-packages (from orbax-checkpoint->flax>=0.7.2->tensorflowjs) (1.6.0)\n",
            "Requirement already satisfied: humanize in /usr/local/lib/python3.11/dist-packages (from orbax-checkpoint->flax>=0.7.2->tensorflowjs) (4.12.2)\n",
            "Requirement already satisfied: simplejson>=3.16.0 in /usr/local/lib/python3.11/dist-packages (from orbax-checkpoint->flax>=0.7.2->tensorflowjs) (3.20.1)\n",
            "Requirement already satisfied: python-dateutil>=2.8.2 in /usr/local/lib/python3.11/dist-packages (from pandas->tensorflow-decision-forests>=1.5.0->tensorflowjs) (2.8.2)\n",
            "Requirement already satisfied: pytz>=2020.1 in /usr/local/lib/python3.11/dist-packages (from pandas->tensorflow-decision-forests>=1.5.0->tensorflowjs) (2025.2)\n",
            "Requirement already satisfied: tzdata>=2022.7 in /usr/local/lib/python3.11/dist-packages (from pandas->tensorflow-decision-forests>=1.5.0->tensorflowjs) (2025.2)\n",
            "Requirement already satisfied: toolz>=0.9.0 in /usr/local/lib/python3.11/dist-packages (from chex>=0.1.87->optax->flax>=0.7.2->tensorflowjs) (0.12.1)\n",
            "Requirement already satisfied: mdurl~=0.1 in /usr/local/lib/python3.11/dist-packages (from markdown-it-py>=2.2.0->rich>=11.1->flax>=0.7.2->tensorflowjs) (0.1.2)\n",
            "Requirement already satisfied: MarkupSafe>=2.1.1 in /usr/local/lib/python3.11/dist-packages (from werkzeug>=1.0.1->tensorboard<2.19,>=2.18->tensorflow<3,>=2.13.0->tensorflowjs) (3.0.2)\n",
            "Requirement already satisfied: fsspec in /usr/local/lib/python3.11/dist-packages (from etils[epath,epy]->orbax-checkpoint->flax>=0.7.2->tensorflowjs) (2025.3.2)\n",
            "Requirement already satisfied: zipp in /usr/local/lib/python3.11/dist-packages (from etils[epath,epy]->orbax-checkpoint->flax>=0.7.2->tensorflowjs) (3.21.0)\n",
            "Downloading tensorflowjs-4.22.0-py3-none-any.whl (89 kB)\n",
            "\u001b[2K   \u001b[90m━━━━━━━━━━━━━━━━━━━━━━━━━━━━━━━━━━━━━━━━\u001b[0m \u001b[32m89.1/89.1 kB\u001b[0m \u001b[31m3.5 MB/s\u001b[0m eta \u001b[36m0:00:00\u001b[0m\n",
            "\u001b[?25hDownloading packaging-23.2-py3-none-any.whl (53 kB)\n",
            "\u001b[2K   \u001b[90m━━━━━━━━━━━━━━━━━━━━━━━━━━━━━━━━━━━━━━━━\u001b[0m \u001b[32m53.0/53.0 kB\u001b[0m \u001b[31m4.7 MB/s\u001b[0m eta \u001b[36m0:00:00\u001b[0m\n",
            "\u001b[?25hInstalling collected packages: packaging, tensorflowjs\n",
            "  Attempting uninstall: packaging\n",
            "    Found existing installation: packaging 24.2\n",
            "    Uninstalling packaging-24.2:\n",
            "      Successfully uninstalled packaging-24.2\n",
            "\u001b[31mERROR: pip's dependency resolver does not currently take into account all the packages that are installed. This behaviour is the source of the following dependency conflicts.\n",
            "google-cloud-bigquery 3.31.0 requires packaging>=24.2.0, but you have packaging 23.2 which is incompatible.\u001b[0m\u001b[31m\n",
            "\u001b[0mSuccessfully installed packaging-23.2 tensorflowjs-4.22.0\n"
          ]
        }
      ]
    },
    {
      "cell_type": "code",
      "execution_count": 28,
      "metadata": {
        "id": "hZvGBpYoYFSl",
        "colab": {
          "base_uri": "https://localhost:8080/",
          "height": 1000
        },
        "outputId": "63af56d8-9fbe-4e66-deb5-4e88f637e027"
      },
      "outputs": [
        {
          "output_type": "stream",
          "name": "stdout",
          "text": [
            "\n",
            "🛠️ Exporting model...\n",
            "Saved artifact at '/tmp/tmps8q4vwsv'. The following endpoints are available:\n",
            "\n",
            "* Endpoint 'serve'\n",
            "  args_0 (POSITIONAL_ONLY): TensorSpec(shape=(None, 224, 224, 3), dtype=tf.float32, name='input_layer_1')\n",
            "Output Type:\n",
            "  TensorSpec(shape=(None, 12), dtype=tf.float32, name=None)\n",
            "Captures:\n",
            "  138260508209232: TensorSpec(shape=(), dtype=tf.resource, name=None)\n",
            "  138260508212112: TensorSpec(shape=(), dtype=tf.resource, name=None)\n",
            "  138260508210384: TensorSpec(shape=(), dtype=tf.resource, name=None)\n",
            "  138260508210576: TensorSpec(shape=(), dtype=tf.resource, name=None)\n",
            "  138260508211152: TensorSpec(shape=(), dtype=tf.resource, name=None)\n",
            "  138260508198096: TensorSpec(shape=(), dtype=tf.resource, name=None)\n",
            "  138260508200784: TensorSpec(shape=(), dtype=tf.resource, name=None)\n",
            "  138259318816848: TensorSpec(shape=(), dtype=tf.resource, name=None)\n",
            "  138260508212880: TensorSpec(shape=(), dtype=tf.resource, name=None)\n",
            "  138260508210192: TensorSpec(shape=(), dtype=tf.resource, name=None)\n",
            "  138259318818384: TensorSpec(shape=(), dtype=tf.resource, name=None)\n",
            "  138259318818768: TensorSpec(shape=(), dtype=tf.resource, name=None)\n",
            "  138259318819152: TensorSpec(shape=(), dtype=tf.resource, name=None)\n",
            "  138259318818960: TensorSpec(shape=(), dtype=tf.resource, name=None)\n",
            "  138259318817616: TensorSpec(shape=(), dtype=tf.resource, name=None)\n",
            "  138259318820304: TensorSpec(shape=(), dtype=tf.resource, name=None)\n",
            "  138259318820688: TensorSpec(shape=(), dtype=tf.resource, name=None)\n",
            "  138259318821072: TensorSpec(shape=(), dtype=tf.resource, name=None)\n",
            "  138259318820880: TensorSpec(shape=(), dtype=tf.resource, name=None)\n",
            "  138259318817808: TensorSpec(shape=(), dtype=tf.resource, name=None)\n",
            "  138259318822224: TensorSpec(shape=(), dtype=tf.resource, name=None)\n",
            "  138259318822608: TensorSpec(shape=(), dtype=tf.resource, name=None)\n",
            "  138259318822992: TensorSpec(shape=(), dtype=tf.resource, name=None)\n",
            "  138259318822800: TensorSpec(shape=(), dtype=tf.resource, name=None)\n",
            "  138259318817040: TensorSpec(shape=(), dtype=tf.resource, name=None)\n",
            "  138259318824144: TensorSpec(shape=(), dtype=tf.resource, name=None)\n",
            "  138259318824528: TensorSpec(shape=(), dtype=tf.resource, name=None)\n",
            "  138259318824912: TensorSpec(shape=(), dtype=tf.resource, name=None)\n",
            "  138259318824720: TensorSpec(shape=(), dtype=tf.resource, name=None)\n",
            "  138259318819920: TensorSpec(shape=(), dtype=tf.resource, name=None)\n",
            "  138259318826064: TensorSpec(shape=(), dtype=tf.resource, name=None)\n",
            "  138259318826448: TensorSpec(shape=(), dtype=tf.resource, name=None)\n",
            "  138259318826832: TensorSpec(shape=(), dtype=tf.resource, name=None)\n",
            "  138259318826640: TensorSpec(shape=(), dtype=tf.resource, name=None)\n",
            "  138259318821840: TensorSpec(shape=(), dtype=tf.resource, name=None)\n",
            "  138259318827984: TensorSpec(shape=(), dtype=tf.resource, name=None)\n",
            "  138259318828368: TensorSpec(shape=(), dtype=tf.resource, name=None)\n",
            "  138259318828752: TensorSpec(shape=(), dtype=tf.resource, name=None)\n",
            "  138259318828560: TensorSpec(shape=(), dtype=tf.resource, name=None)\n",
            "  138259318823760: TensorSpec(shape=(), dtype=tf.resource, name=None)\n",
            "  138259318829904: TensorSpec(shape=(), dtype=tf.resource, name=None)\n",
            "  138259318830288: TensorSpec(shape=(), dtype=tf.resource, name=None)\n",
            "  138259318830672: TensorSpec(shape=(), dtype=tf.resource, name=None)\n",
            "  138259318830480: TensorSpec(shape=(), dtype=tf.resource, name=None)\n",
            "  138259318825680: TensorSpec(shape=(), dtype=tf.resource, name=None)\n",
            "  138259318831824: TensorSpec(shape=(), dtype=tf.resource, name=None)\n",
            "  138259318832208: TensorSpec(shape=(), dtype=tf.resource, name=None)\n",
            "  138259318832976: TensorSpec(shape=(), dtype=tf.resource, name=None)\n",
            "  138259318832400: TensorSpec(shape=(), dtype=tf.resource, name=None)\n",
            "  138259318827600: TensorSpec(shape=(), dtype=tf.resource, name=None)\n",
            "  138259318818000: TensorSpec(shape=(), dtype=tf.resource, name=None)\n",
            "  138259319456784: TensorSpec(shape=(), dtype=tf.resource, name=None)\n",
            "  138259319455824: TensorSpec(shape=(), dtype=tf.resource, name=None)\n",
            "  138259318829520: TensorSpec(shape=(), dtype=tf.resource, name=None)\n",
            "  138259319456016: TensorSpec(shape=(), dtype=tf.resource, name=None)\n",
            "  138259319458320: TensorSpec(shape=(), dtype=tf.resource, name=None)\n",
            "  138259319458704: TensorSpec(shape=(), dtype=tf.resource, name=None)\n",
            "  138259319459088: TensorSpec(shape=(), dtype=tf.resource, name=None)\n",
            "  138259319458896: TensorSpec(shape=(), dtype=tf.resource, name=None)\n",
            "  138259319456208: TensorSpec(shape=(), dtype=tf.resource, name=None)\n",
            "  138259319460240: TensorSpec(shape=(), dtype=tf.resource, name=None)\n",
            "  138259319460624: TensorSpec(shape=(), dtype=tf.resource, name=None)\n",
            "  138259319461008: TensorSpec(shape=(), dtype=tf.resource, name=None)\n",
            "  138259319460816: TensorSpec(shape=(), dtype=tf.resource, name=None)\n",
            "  138259319457168: TensorSpec(shape=(), dtype=tf.resource, name=None)\n",
            "  138259319462160: TensorSpec(shape=(), dtype=tf.resource, name=None)\n",
            "  138259319462544: TensorSpec(shape=(), dtype=tf.resource, name=None)\n",
            "  138259319462928: TensorSpec(shape=(), dtype=tf.resource, name=None)\n",
            "  138259319462736: TensorSpec(shape=(), dtype=tf.resource, name=None)\n",
            "  138259319457936: TensorSpec(shape=(), dtype=tf.resource, name=None)\n",
            "  138259319464080: TensorSpec(shape=(), dtype=tf.resource, name=None)\n",
            "  138259319464464: TensorSpec(shape=(), dtype=tf.resource, name=None)\n",
            "  138259319464848: TensorSpec(shape=(), dtype=tf.resource, name=None)\n",
            "  138259319464656: TensorSpec(shape=(), dtype=tf.resource, name=None)\n",
            "  138259319459856: TensorSpec(shape=(), dtype=tf.resource, name=None)\n",
            "  138259319466000: TensorSpec(shape=(), dtype=tf.resource, name=None)\n",
            "  138259319466384: TensorSpec(shape=(), dtype=tf.resource, name=None)\n",
            "  138259319466768: TensorSpec(shape=(), dtype=tf.resource, name=None)\n",
            "  138259319466576: TensorSpec(shape=(), dtype=tf.resource, name=None)\n",
            "  138259319461776: TensorSpec(shape=(), dtype=tf.resource, name=None)\n",
            "  138259319467920: TensorSpec(shape=(), dtype=tf.resource, name=None)\n",
            "  138259319468304: TensorSpec(shape=(), dtype=tf.resource, name=None)\n",
            "  138259319468688: TensorSpec(shape=(), dtype=tf.resource, name=None)\n",
            "  138259319468496: TensorSpec(shape=(), dtype=tf.resource, name=None)\n",
            "  138259319463696: TensorSpec(shape=(), dtype=tf.resource, name=None)\n",
            "  138259319469840: TensorSpec(shape=(), dtype=tf.resource, name=None)\n",
            "  138259319470224: TensorSpec(shape=(), dtype=tf.resource, name=None)\n",
            "  138259319470608: TensorSpec(shape=(), dtype=tf.resource, name=None)\n",
            "  138259319470416: TensorSpec(shape=(), dtype=tf.resource, name=None)\n",
            "  138259319465616: TensorSpec(shape=(), dtype=tf.resource, name=None)\n",
            "  138259319471760: TensorSpec(shape=(), dtype=tf.resource, name=None)\n",
            "  138259319456592: TensorSpec(shape=(), dtype=tf.resource, name=None)\n",
            "  138259033915856: TensorSpec(shape=(), dtype=tf.resource, name=None)\n",
            "  138259319471376: TensorSpec(shape=(), dtype=tf.resource, name=None)\n",
            "  138259319469456: TensorSpec(shape=(), dtype=tf.resource, name=None)\n",
            "  138259033917008: TensorSpec(shape=(), dtype=tf.resource, name=None)\n",
            "  138259033917392: TensorSpec(shape=(), dtype=tf.resource, name=None)\n",
            "  138259033917776: TensorSpec(shape=(), dtype=tf.resource, name=None)\n",
            "  138259033917584: TensorSpec(shape=(), dtype=tf.resource, name=None)\n",
            "  138259033916240: TensorSpec(shape=(), dtype=tf.resource, name=None)\n",
            "  138259033918928: TensorSpec(shape=(), dtype=tf.resource, name=None)\n",
            "  138259033919312: TensorSpec(shape=(), dtype=tf.resource, name=None)\n",
            "  138259033919696: TensorSpec(shape=(), dtype=tf.resource, name=None)\n",
            "  138259033919504: TensorSpec(shape=(), dtype=tf.resource, name=None)\n",
            "  138259033916432: TensorSpec(shape=(), dtype=tf.resource, name=None)\n",
            "  138259033920848: TensorSpec(shape=(), dtype=tf.resource, name=None)\n",
            "  138259033921232: TensorSpec(shape=(), dtype=tf.resource, name=None)\n",
            "  138259033921616: TensorSpec(shape=(), dtype=tf.resource, name=None)\n",
            "  138259033921424: TensorSpec(shape=(), dtype=tf.resource, name=None)\n",
            "  138259033915664: TensorSpec(shape=(), dtype=tf.resource, name=None)\n",
            "  138259033922768: TensorSpec(shape=(), dtype=tf.resource, name=None)\n",
            "  138259033923152: TensorSpec(shape=(), dtype=tf.resource, name=None)\n",
            "  138259033923536: TensorSpec(shape=(), dtype=tf.resource, name=None)\n",
            "  138259033923344: TensorSpec(shape=(), dtype=tf.resource, name=None)\n",
            "  138259033918544: TensorSpec(shape=(), dtype=tf.resource, name=None)\n",
            "  138259033924688: TensorSpec(shape=(), dtype=tf.resource, name=None)\n",
            "  138259033925072: TensorSpec(shape=(), dtype=tf.resource, name=None)\n",
            "  138259033925456: TensorSpec(shape=(), dtype=tf.resource, name=None)\n",
            "  138259033925264: TensorSpec(shape=(), dtype=tf.resource, name=None)\n",
            "  138259033920464: TensorSpec(shape=(), dtype=tf.resource, name=None)\n",
            "  138259033926608: TensorSpec(shape=(), dtype=tf.resource, name=None)\n",
            "  138259033926992: TensorSpec(shape=(), dtype=tf.resource, name=None)\n",
            "  138259033927376: TensorSpec(shape=(), dtype=tf.resource, name=None)\n",
            "  138259033927184: TensorSpec(shape=(), dtype=tf.resource, name=None)\n",
            "  138259033922384: TensorSpec(shape=(), dtype=tf.resource, name=None)\n",
            "  138259033928528: TensorSpec(shape=(), dtype=tf.resource, name=None)\n",
            "  138259033928912: TensorSpec(shape=(), dtype=tf.resource, name=None)\n",
            "  138259033929296: TensorSpec(shape=(), dtype=tf.resource, name=None)\n",
            "  138259033929104: TensorSpec(shape=(), dtype=tf.resource, name=None)\n",
            "  138259033924304: TensorSpec(shape=(), dtype=tf.resource, name=None)\n",
            "  138259033930448: TensorSpec(shape=(), dtype=tf.resource, name=None)\n",
            "  138259033930832: TensorSpec(shape=(), dtype=tf.resource, name=None)\n",
            "  138259033931600: TensorSpec(shape=(), dtype=tf.resource, name=None)\n",
            "  138259033931024: TensorSpec(shape=(), dtype=tf.resource, name=None)\n",
            "  138259033926224: TensorSpec(shape=(), dtype=tf.resource, name=None)\n",
            "  138259033916624: TensorSpec(shape=(), dtype=tf.resource, name=None)\n",
            "  138259033474064: TensorSpec(shape=(), dtype=tf.resource, name=None)\n",
            "  138259033473104: TensorSpec(shape=(), dtype=tf.resource, name=None)\n",
            "  138259033928144: TensorSpec(shape=(), dtype=tf.resource, name=None)\n",
            "  138259033474448: TensorSpec(shape=(), dtype=tf.resource, name=None)\n",
            "  138259033475600: TensorSpec(shape=(), dtype=tf.resource, name=None)\n",
            "  138259033475984: TensorSpec(shape=(), dtype=tf.resource, name=None)\n",
            "  138259033476368: TensorSpec(shape=(), dtype=tf.resource, name=None)\n",
            "  138259033476176: TensorSpec(shape=(), dtype=tf.resource, name=None)\n",
            "  138259033473488: TensorSpec(shape=(), dtype=tf.resource, name=None)\n",
            "  138259033477520: TensorSpec(shape=(), dtype=tf.resource, name=None)\n",
            "  138259033477904: TensorSpec(shape=(), dtype=tf.resource, name=None)\n",
            "  138259033478288: TensorSpec(shape=(), dtype=tf.resource, name=None)\n",
            "  138259033478096: TensorSpec(shape=(), dtype=tf.resource, name=None)\n",
            "  138259033473680: TensorSpec(shape=(), dtype=tf.resource, name=None)\n",
            "  138259033479440: TensorSpec(shape=(), dtype=tf.resource, name=None)\n",
            "  138259033479824: TensorSpec(shape=(), dtype=tf.resource, name=None)\n",
            "  138259033480208: TensorSpec(shape=(), dtype=tf.resource, name=None)\n",
            "  138259033480016: TensorSpec(shape=(), dtype=tf.resource, name=None)\n",
            "  138259033475216: TensorSpec(shape=(), dtype=tf.resource, name=None)\n",
            "  138259033481360: TensorSpec(shape=(), dtype=tf.resource, name=None)\n",
            "  138259033481744: TensorSpec(shape=(), dtype=tf.resource, name=None)\n",
            "  138259033482128: TensorSpec(shape=(), dtype=tf.resource, name=None)\n",
            "  138259033481936: TensorSpec(shape=(), dtype=tf.resource, name=None)\n",
            "  138259033477136: TensorSpec(shape=(), dtype=tf.resource, name=None)\n",
            "  138259033483280: TensorSpec(shape=(), dtype=tf.resource, name=None)\n",
            "  138259033483664: TensorSpec(shape=(), dtype=tf.resource, name=None)\n",
            "  138259033484048: TensorSpec(shape=(), dtype=tf.resource, name=None)\n",
            "  138259033483856: TensorSpec(shape=(), dtype=tf.resource, name=None)\n",
            "  138259033479056: TensorSpec(shape=(), dtype=tf.resource, name=None)\n",
            "  138259033485200: TensorSpec(shape=(), dtype=tf.resource, name=None)\n",
            "  138259033485584: TensorSpec(shape=(), dtype=tf.resource, name=None)\n",
            "  138259033485968: TensorSpec(shape=(), dtype=tf.resource, name=None)\n",
            "  138259033485776: TensorSpec(shape=(), dtype=tf.resource, name=None)\n",
            "  138259033480976: TensorSpec(shape=(), dtype=tf.resource, name=None)\n",
            "  138259033487120: TensorSpec(shape=(), dtype=tf.resource, name=None)\n",
            "  138259033487504: TensorSpec(shape=(), dtype=tf.resource, name=None)\n",
            "  138259033487888: TensorSpec(shape=(), dtype=tf.resource, name=None)\n",
            "  138259033487696: TensorSpec(shape=(), dtype=tf.resource, name=None)\n",
            "  138259033482896: TensorSpec(shape=(), dtype=tf.resource, name=None)\n",
            "  138259033489040: TensorSpec(shape=(), dtype=tf.resource, name=None)\n",
            "  138259033474256: TensorSpec(shape=(), dtype=tf.resource, name=None)\n",
            "  138259034259536: TensorSpec(shape=(), dtype=tf.resource, name=None)\n",
            "  138259033488656: TensorSpec(shape=(), dtype=tf.resource, name=None)\n",
            "  138259033486736: TensorSpec(shape=(), dtype=tf.resource, name=None)\n",
            "  138259034261072: TensorSpec(shape=(), dtype=tf.resource, name=None)\n",
            "  138259034261456: TensorSpec(shape=(), dtype=tf.resource, name=None)\n",
            "  138259034261840: TensorSpec(shape=(), dtype=tf.resource, name=None)\n",
            "  138259034261648: TensorSpec(shape=(), dtype=tf.resource, name=None)\n",
            "  138259034260304: TensorSpec(shape=(), dtype=tf.resource, name=None)\n",
            "  138259034262992: TensorSpec(shape=(), dtype=tf.resource, name=None)\n",
            "  138259034263376: TensorSpec(shape=(), dtype=tf.resource, name=None)\n",
            "  138259034263760: TensorSpec(shape=(), dtype=tf.resource, name=None)\n",
            "  138259034263568: TensorSpec(shape=(), dtype=tf.resource, name=None)\n",
            "  138259034260496: TensorSpec(shape=(), dtype=tf.resource, name=None)\n",
            "  138259034264912: TensorSpec(shape=(), dtype=tf.resource, name=None)\n",
            "  138259034265296: TensorSpec(shape=(), dtype=tf.resource, name=None)\n",
            "  138259034265680: TensorSpec(shape=(), dtype=tf.resource, name=None)\n",
            "  138259034265488: TensorSpec(shape=(), dtype=tf.resource, name=None)\n",
            "  138259034259728: TensorSpec(shape=(), dtype=tf.resource, name=None)\n",
            "  138259034266832: TensorSpec(shape=(), dtype=tf.resource, name=None)\n",
            "  138259034267216: TensorSpec(shape=(), dtype=tf.resource, name=None)\n",
            "  138259034267600: TensorSpec(shape=(), dtype=tf.resource, name=None)\n",
            "  138259034267408: TensorSpec(shape=(), dtype=tf.resource, name=None)\n",
            "  138259034262608: TensorSpec(shape=(), dtype=tf.resource, name=None)\n",
            "  138259034268752: TensorSpec(shape=(), dtype=tf.resource, name=None)\n",
            "  138259034269136: TensorSpec(shape=(), dtype=tf.resource, name=None)\n",
            "  138259034269520: TensorSpec(shape=(), dtype=tf.resource, name=None)\n",
            "  138259034269328: TensorSpec(shape=(), dtype=tf.resource, name=None)\n",
            "  138259034264528: TensorSpec(shape=(), dtype=tf.resource, name=None)\n",
            "  138259034270672: TensorSpec(shape=(), dtype=tf.resource, name=None)\n",
            "  138259034271056: TensorSpec(shape=(), dtype=tf.resource, name=None)\n",
            "  138259034271440: TensorSpec(shape=(), dtype=tf.resource, name=None)\n",
            "  138259034271248: TensorSpec(shape=(), dtype=tf.resource, name=None)\n",
            "  138259034266448: TensorSpec(shape=(), dtype=tf.resource, name=None)\n",
            "  138259034272592: TensorSpec(shape=(), dtype=tf.resource, name=None)\n",
            "  138259034272976: TensorSpec(shape=(), dtype=tf.resource, name=None)\n",
            "  138259034273360: TensorSpec(shape=(), dtype=tf.resource, name=None)\n",
            "  138259034273168: TensorSpec(shape=(), dtype=tf.resource, name=None)\n",
            "  138259034268368: TensorSpec(shape=(), dtype=tf.resource, name=None)\n",
            "  138259034274512: TensorSpec(shape=(), dtype=tf.resource, name=None)\n",
            "  138259034274896: TensorSpec(shape=(), dtype=tf.resource, name=None)\n",
            "  138259034275664: TensorSpec(shape=(), dtype=tf.resource, name=None)\n",
            "  138259034275088: TensorSpec(shape=(), dtype=tf.resource, name=None)\n",
            "  138259034270288: TensorSpec(shape=(), dtype=tf.resource, name=None)\n",
            "  138259034260688: TensorSpec(shape=(), dtype=tf.resource, name=None)\n",
            "  138258901500944: TensorSpec(shape=(), dtype=tf.resource, name=None)\n",
            "  138258901499984: TensorSpec(shape=(), dtype=tf.resource, name=None)\n",
            "  138259034272208: TensorSpec(shape=(), dtype=tf.resource, name=None)\n",
            "  138258901501328: TensorSpec(shape=(), dtype=tf.resource, name=None)\n",
            "  138258901502480: TensorSpec(shape=(), dtype=tf.resource, name=None)\n",
            "  138258901502864: TensorSpec(shape=(), dtype=tf.resource, name=None)\n",
            "  138258901503248: TensorSpec(shape=(), dtype=tf.resource, name=None)\n",
            "  138258901503056: TensorSpec(shape=(), dtype=tf.resource, name=None)\n",
            "  138258901500368: TensorSpec(shape=(), dtype=tf.resource, name=None)\n",
            "  138258901504400: TensorSpec(shape=(), dtype=tf.resource, name=None)\n",
            "  138258901504784: TensorSpec(shape=(), dtype=tf.resource, name=None)\n",
            "  138258901505168: TensorSpec(shape=(), dtype=tf.resource, name=None)\n",
            "  138258901504976: TensorSpec(shape=(), dtype=tf.resource, name=None)\n",
            "  138258901500560: TensorSpec(shape=(), dtype=tf.resource, name=None)\n",
            "  138258901506320: TensorSpec(shape=(), dtype=tf.resource, name=None)\n",
            "  138258901506704: TensorSpec(shape=(), dtype=tf.resource, name=None)\n",
            "  138258901507088: TensorSpec(shape=(), dtype=tf.resource, name=None)\n",
            "  138258901506896: TensorSpec(shape=(), dtype=tf.resource, name=None)\n",
            "  138258901502096: TensorSpec(shape=(), dtype=tf.resource, name=None)\n",
            "  138258901508240: TensorSpec(shape=(), dtype=tf.resource, name=None)\n",
            "  138258901508624: TensorSpec(shape=(), dtype=tf.resource, name=None)\n",
            "  138258901509008: TensorSpec(shape=(), dtype=tf.resource, name=None)\n",
            "  138258901508816: TensorSpec(shape=(), dtype=tf.resource, name=None)\n",
            "  138258901504016: TensorSpec(shape=(), dtype=tf.resource, name=None)\n",
            "  138258901510160: TensorSpec(shape=(), dtype=tf.resource, name=None)\n",
            "  138258901510544: TensorSpec(shape=(), dtype=tf.resource, name=None)\n",
            "  138258901510928: TensorSpec(shape=(), dtype=tf.resource, name=None)\n",
            "  138258901510736: TensorSpec(shape=(), dtype=tf.resource, name=None)\n",
            "  138258901505936: TensorSpec(shape=(), dtype=tf.resource, name=None)\n",
            "  138258901512080: TensorSpec(shape=(), dtype=tf.resource, name=None)\n",
            "  138258901512464: TensorSpec(shape=(), dtype=tf.resource, name=None)\n",
            "  138258901512848: TensorSpec(shape=(), dtype=tf.resource, name=None)\n",
            "  138258901512656: TensorSpec(shape=(), dtype=tf.resource, name=None)\n",
            "  138258901507856: TensorSpec(shape=(), dtype=tf.resource, name=None)\n",
            "  138258901514000: TensorSpec(shape=(), dtype=tf.resource, name=None)\n",
            "  138258901514384: TensorSpec(shape=(), dtype=tf.resource, name=None)\n",
            "  138258901514768: TensorSpec(shape=(), dtype=tf.resource, name=None)\n",
            "  138258901514576: TensorSpec(shape=(), dtype=tf.resource, name=None)\n",
            "  138258901509776: TensorSpec(shape=(), dtype=tf.resource, name=None)\n",
            "  138258901501136: TensorSpec(shape=(), dtype=tf.resource, name=None)\n",
            "  138258901515536: TensorSpec(shape=(), dtype=tf.resource, name=None)\n",
            "  138258901516112: TensorSpec(shape=(), dtype=tf.resource, name=None)\n",
            "  138258842387856: TensorSpec(shape=(), dtype=tf.resource, name=None)\n",
            "  138258842388048: TensorSpec(shape=(), dtype=tf.resource, name=None)\n",
            "  138258842389008: TensorSpec(shape=(), dtype=tf.resource, name=None)\n"
          ]
        },
        {
          "output_type": "display_data",
          "data": {
            "text/plain": [
              "<IPython.core.display.HTML object>"
            ],
            "text/html": [
              "\n",
              "<p style=\"margin:0px;\">🌲 Try <a href=\"https://ydf.readthedocs.io/en/latest/\" target=\"_blank\">YDF</a>, the successor of\n",
              "    <a href=\"https://www.tensorflow.org/decision_forests\" target=\"_blank\">TensorFlow\n",
              "        Decision Forests</a> using the same algorithms but with more features and faster\n",
              "    training!\n",
              "</p>\n",
              "<div style=\"display: flex; flex-wrap: wrap; margin:5px;max-width: 880px;\">\n",
              "    <div style=\"flex: 1; border-radius: 10px; background-color: F0F0F0; padding: 5px;\">\n",
              "        <p\n",
              "            style=\"font-weight: bold; margin:0px;text-align: center;border-bottom: 1px solid #C0C0C0;margin-bottom: 4px;\">\n",
              "            Old code</p>\n",
              "        <pre style=\"overflow-wrap: anywhere; overflow: auto; margin:0px;font-size: 9pt;\">\n",
              "import tensorflow_decision_forests as tfdf\n",
              "\n",
              "tf_ds = tfdf.keras.pd_dataframe_to_tf_dataset(ds, label=\"l\")\n",
              "model = tfdf.keras.RandomForestModel(label=\"l\")\n",
              "model.fit(tf_ds)\n",
              "</pre>\n",
              "    </div>\n",
              "    <div style=\"width: 5px;\"></div>\n",
              "    <div style=\"flex: 1; border-radius: 10px; background-color: F0F0F0; padding: 5px;\">\n",
              "        <p\n",
              "            style=\"font-weight: bold; margin:0px;text-align: center;border-bottom: 1px solid #C0C0C0;margin-bottom: 4px;\">\n",
              "            New code</p>\n",
              "        <pre style=\"overflow-wrap: anywhere; overflow: auto; margin:0px;font-size: 9pt;\">\n",
              "import ydf\n",
              "\n",
              "model = ydf.RandomForestLearner(label=\"l\").train(ds)\n",
              "</pre>\n",
              "    </div>\n",
              "</div>\n",
              "<p style=\"margin:0px;font-size: 9pt;\">(Learn more in the <a\n",
              "        href=\"https://ydf.readthedocs.io/en/latest/tutorial/migrating_to_ydf/\" target=\"_blank\">migration\n",
              "        guide</a>)</p>\n"
            ]
          },
          "metadata": {}
        },
        {
          "output_type": "stream",
          "name": "stderr",
          "text": [
            "WARNING:absl:You are saving your model as an HDF5 file via `model.save()` or `keras.saving.save_model(model)`. This file format is considered legacy. We recommend using instead the native Keras format, e.g. `model.save('my_model.keras')` or `keras.saving.save_model(model, 'my_model.keras')`. \n"
          ]
        },
        {
          "output_type": "stream",
          "name": "stdout",
          "text": [
            "failed to lookup keras version from the file,\n",
            "    this is likely a weight only file\n",
            "✅ Model exported in all formats\n"
          ]
        }
      ],
      "source": [
        "# Model Export Function\n",
        "def export_model(model, class_names):\n",
        "    # Create directories\n",
        "    os.makedirs('saved_model', exist_ok=True)\n",
        "    os.makedirs('tflite', exist_ok=True)\n",
        "    os.makedirs('tfjs_model', exist_ok=True)\n",
        "\n",
        "    # 1. Save in SavedModel format (for TF Serving/Cloud)\n",
        "    tf.saved_model.save(model, 'saved_model/my_model')  # Corrected this line\n",
        "\n",
        "    # 2. Convert to TFLite (for mobile devices)\n",
        "    converter = tf.lite.TFLiteConverter.from_keras_model(model)\n",
        "    tflite_model = converter.convert()\n",
        "    with open('tflite/model.tflite', 'wb') as f:\n",
        "        f.write(tflite_model)\n",
        "\n",
        "    # Save labels for TFLite\n",
        "    with open('tflite/labels.txt', 'w') as f:\n",
        "        f.write('\\n'.join(class_names))\n",
        "\n",
        "    # 3. Convert to TFJS (for web)\n",
        "    try:\n",
        "        import tensorflowjs as tfjs\n",
        "        tfjs.converters.save_keras_model(model, 'tfjs_model')\n",
        "    except ImportError:\n",
        "        print(\"⚠️ tensorflowjs not installed. Run: pip install tensorflowjs\")\n",
        "\n",
        "    print(\"✅ Model exported in all formats\")\n",
        "\n",
        "# Export the model\n",
        "print(\"\\n🛠️ Exporting model...\")\n",
        "export_model(model, class_names)"
      ]
    },
    {
      "cell_type": "code",
      "source": [
        "#Generate requirements.txt\n",
        "print(\"\\n📦 Generating requirements.txt...\")\n",
        "!pip freeze > requirements.txt\n",
        "\n",
        "print(\"\\n✅ All done! Model exported in all required formats.\")"
      ],
      "metadata": {
        "id": "IPi-kSkO25Zn",
        "colab": {
          "base_uri": "https://localhost:8080/"
        },
        "outputId": "d78f5f1d-7352-496c-ea22-ff1485f6593f"
      },
      "execution_count": 29,
      "outputs": [
        {
          "output_type": "stream",
          "name": "stdout",
          "text": [
            "\n",
            "📦 Generating requirements.txt...\n",
            "\n",
            "✅ All done! Model exported in all required formats.\n"
          ]
        }
      ]
    },
    {
      "cell_type": "code",
      "source": [
        "!zip -r submission.zip tfjs_model/ tflite/ saved_model/ requirements.txt"
      ],
      "metadata": {
        "id": "AjbhWlRzd4jI",
        "colab": {
          "base_uri": "https://localhost:8080/"
        },
        "outputId": "88139962-b092-4fc0-cad1-deacd864dbe5"
      },
      "execution_count": 30,
      "outputs": [
        {
          "output_type": "stream",
          "name": "stdout",
          "text": [
            "  adding: tfjs_model/ (stored 0%)\n",
            "  adding: tfjs_model/group1-shard2of3.bin (deflated 7%)\n",
            "  adding: tfjs_model/group1-shard1of3.bin (deflated 9%)\n",
            "  adding: tfjs_model/model.json (deflated 97%)\n",
            "  adding: tfjs_model/group1-shard3of3.bin (deflated 7%)\n",
            "  adding: tflite/ (stored 0%)\n",
            "  adding: tflite/labels.txt (deflated 23%)\n",
            "  adding: tflite/model.tflite (deflated 8%)\n",
            "  adding: saved_model/ (stored 0%)\n",
            "  adding: saved_model/my_model/ (stored 0%)\n",
            "  adding: saved_model/my_model/variables/ (stored 0%)\n",
            "  adding: saved_model/my_model/variables/variables.index (deflated 77%)\n",
            "  adding: saved_model/my_model/variables/variables.data-00000-of-00001 (deflated 9%)\n",
            "  adding: saved_model/my_model/assets/ (stored 0%)\n",
            "  adding: saved_model/my_model/fingerprint.pb (stored 0%)\n",
            "  adding: saved_model/my_model/saved_model.pb (deflated 92%)\n",
            "  adding: requirements.txt (deflated 57%)\n"
          ]
        }
      ]
    },
    {
      "cell_type": "markdown",
      "source": [
        "## Inference (Optional)"
      ],
      "metadata": {
        "id": "8DbfEwvvm5U4"
      }
    },
    {
      "cell_type": "code",
      "source": [],
      "metadata": {
        "id": "ue5esMSSm8GQ"
      },
      "execution_count": null,
      "outputs": []
    }
  ]
}